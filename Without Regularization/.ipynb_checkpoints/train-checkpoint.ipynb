{
 "cells": [
  {
   "cell_type": "code",
   "execution_count": 1,
   "metadata": {
    "collapsed": false,
    "scrolled": true
   },
   "outputs": [
    {
     "data": {
      "text/plain": [
       "Training with Sigmoid\t\n",
       "Training with Sigmoid\t\n"
      ]
     },
     "execution_count": 1,
     "metadata": {},
     "output_type": "execute_result"
    },
    {
     "data": {
      "text/plain": [
       "# StochasticGradient: training\t\n"
      ]
     },
     "execution_count": 1,
     "metadata": {},
     "output_type": "execute_result"
    }
   ],
   "source": [
    "require 'torch'\n",
    "require 'nn'\n",
    "require 'paths'\n",
    "mnist = require 'mnist'\n",
    "\n",
    "fullset = mnist.traindataset()\n",
    "testset = mnist.testdataset()\n",
    "\n",
    "for i=1,fullset.size do\n",
    "    if fullset.label[i] == 0 then\n",
    "        fullset.label[i] = 10\n",
    "    end\n",
    "end\n",
    "\n",
    "dataset = {}\n",
    "\n",
    "for i=1,fullset.size do\n",
    "    dataset[i] = {fullset.data[i]:resize(784):double(), fullset.label[i]}\n",
    "end\n",
    "\n",
    "function dataset:size() \n",
    "    return fullset.size\n",
    "end\n",
    "\n",
    "mlp = nn.Sequential()\n",
    "mlp:add(nn.Linear(784,100))\n",
    "mlp:add(nn.Sigmoid())\n",
    "mlp:add(nn.Linear(100,10))\n",
    "mlp:add(nn.LogSoftMax())\n",
    "\n",
    "\n",
    "criterion = nn.ClassNLLCriterion()\n",
    "trainer = nn.StochasticGradient(mlp,criterion)\n",
    "trainer.learningRate = 0.001\n",
    "trainer.maxIteration = 5 -- just do 5 epochs of training.\n",
    "\n",
    "print(\"Training with Sigmoid\")\n",
    "timer = torch.Timer()\n",
    "trainer:train(dataset)\n",
    "timetime_sigmoid = timer:time().real\n",
    "print(\"Sigmoid network converged in \",timetime_sigmoid,\" Seconds\")\n",
    "torch.save(\"mnist_sigmoid.t7\",mlp)\n",
    "\n",
    "mlp = nn.Sequential()\n",
    "mlp:add(nn.Linear(784,100))\n",
    "mlp:add(nn.Tanh())\n",
    "mlp:add(nn.Linear(100,10))\n",
    "mlp:add(nn.LogSoftMax())\n",
    "\n",
    "\n",
    "criterion = nn.ClassNLLCriterion()\n",
    "trainer = nn.StochasticGradient(mlp,criterion)\n",
    "trainer.learningRate = 0.001\n",
    "trainer.maxIteration = 5 -- just do 5 epochs of training.\n",
    "\n",
    "print(\"Training with Tanh\")\n",
    "timer:reset()\n",
    "trainer:train(dataset)\n",
    "timetime_tanh = timer:time().real\n",
    "print(\"Tanh network converged in \",timetime_tanh,\" Seconds\")\n",
    "torch.save(\"mnist_Tanh.t7\",mlp)\n",
    "\n",
    "mlp = nn.Sequential()\n",
    "mlp:add(nn.Linear(784,100))\n",
    "mlp:add(nn.ReLU())\n",
    "mlp:add(nn.Linear(100,10))\n",
    "mlp:add(nn.LogSoftMax())\n",
    "\n",
    "\n",
    "criterion = nn.ClassNLLCriterion()\n",
    "trainer = nn.StochasticGradient(mlp,criterion)\n",
    "trainer.learningRate = 0.001\n",
    "trainer.maxIteration = 5 -- just do 5 epochs of training.\n",
    "\n",
    "print(\"Training with ReLU\")\n",
    "timer:reset()\n",
    "trainer:train(dataset)\n",
    "timetime_ReLU = timer:time().real\n",
    "print(\"ReLU network converged in \",timetime_ReLU,\" Seconds\")\n",
    "torch.save(\"mnist_ReLU.t7\",mlp)"
   ]
  },
  {
   "cell_type": "code",
   "execution_count": null,
   "metadata": {
    "collapsed": true
   },
   "outputs": [],
   "source": []
  }
 ],
 "metadata": {
  "kernelspec": {
   "display_name": "iTorch",
   "language": "lua",
   "name": "itorch"
  },
  "language_info": {
   "name": "lua",
   "version": "5.1"
  }
 },
 "nbformat": 4,
 "nbformat_minor": 1
}
