{
 "cells": [
  {
   "cell_type": "code",
   "execution_count": 6,
   "metadata": {
    "collapsed": false
   },
   "outputs": [
    {
     "ename": "inconsistent tensor size at /home/anuj/torch/pkg/torch/lib/TH/generic/THTensorCopy.c:7\nstack traceback:\n\t[C]: at 0x7f0ffb6ad370\n\t[C]: in function 'reshape'\n\t[string \"require 'torch'...\"]:9: in main chunk\n\t[C]: in function 'xpcall'\n\t/home/anuj/torch/install/share/lua/5.1/itorch/main.lua:210: in function </home/anuj/torch/install/share/lua/5.1/itorch/main.lua:174>\n\t/home/anuj/torch/install/share/lua/5.1/lzmq/poller.lua:75: in function 'poll'\n\t/home/anuj/torch/install/share/lua/5.1/lzmq/impl/loop.lua:307: in function 'poll'\n\t/home/anuj/torch/install/share/lua/5.1/lzmq/impl/loop.lua:325: in function 'sleep_ex'\n\t/home/anuj/torch/install/share/lua/5.1/lzmq/impl/loop.lua:370: in function 'start'\n\t/home/anuj/torch/install/share/lua/5.1/itorch/main.lua:389: in main chunk\n\t[C]: in function 'require'\n\t(command line):1: in main chunk\n\t[C]: at 0x00405d50",
     "evalue": "",
     "output_type": "error",
     "traceback": [
      "inconsistent tensor size at /home/anuj/torch/pkg/torch/lib/TH/generic/THTensorCopy.c:7\nstack traceback:\n\t[C]: at 0x7f0ffb6ad370\n\t[C]: in function 'reshape'\n\t[string \"require 'torch'...\"]:9: in main chunk\n\t[C]: in function 'xpcall'\n\t/home/anuj/torch/install/share/lua/5.1/itorch/main.lua:210: in function </home/anuj/torch/install/share/lua/5.1/itorch/main.lua:174>\n\t/home/anuj/torch/install/share/lua/5.1/lzmq/poller.lua:75: in function 'poll'\n\t/home/anuj/torch/install/share/lua/5.1/lzmq/impl/loop.lua:307: in function 'poll'\n\t/home/anuj/torch/install/share/lua/5.1/lzmq/impl/loop.lua:325: in function 'sleep_ex'\n\t/home/anuj/torch/install/share/lua/5.1/lzmq/impl/loop.lua:370: in function 'start'\n\t/home/anuj/torch/install/share/lua/5.1/itorch/main.lua:389: in main chunk\n\t[C]: in function 'require'\n\t(command line):1: in main chunk\n\t[C]: at 0x00405d50"
     ]
    }
   ],
   "source": [
    "require 'torch'\n",
    "require 'nn'\n",
    "require 'paths'\n",
    "mnist = require 'mnist'\n",
    "\n",
    "-- fullset = mnist.traindataset()\n",
    "testset = mnist.testdataset()\n",
    "mlp = torch.load('mnist.t7')\n",
    "itorch.image(torch.reshape((mlp:get(1).output),,28))\n",
    "itorch.image(torch.reshape((mlp:get(2).output),10,10))\n",
    "mlp = torch.load('mnist_sigmoid.t7')\n",
    "-- itorch.image(torch.reshape((mlp:get(3).output),10,10))\n",
    "-- itorch.image(torch.reshape((mlp:get(3).output),10,10))\n",
    "mlp = torch.load('mnist_Tanh.t7')\n",
    "itorch.image(torch.reshape((mlp:get(3).output),10,10))\n",
    "itorch.image(torch.reshape((mlp:get(3).output),10,10))\n",
    "mlp = torch.load('mnist_ReLU.t7')\n",
    "itorch.image(torch.reshape((mlp:get(3).output),10,10))\n",
    "itorch.image(torch.reshape((mlp:get(3).output),10,10))"
   ]
  }
 ],
 "metadata": {
  "kernelspec": {
   "display_name": "iTorch",
   "language": "lua",
   "name": "itorch"
  },
  "language_info": {
   "name": "lua",
   "version": "5.1"
  }
 },
 "nbformat": 4,
 "nbformat_minor": 1
}
