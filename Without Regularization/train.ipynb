{
 "cells": [
  {
   "cell_type": "code",
   "execution_count": 1,
   "metadata": {
    "collapsed": false,
    "scrolled": true
   },
   "outputs": [
    {
     "data": {
      "text/plain": [
       "Training with Sigmoid\t\n"
      ]
     },
     "execution_count": 1,
     "metadata": {},
     "output_type": "execute_result"
    },
    {
     "data": {
      "text/plain": [
       "# StochasticGradient: training\t\n"
      ]
     },
     "execution_count": 1,
     "metadata": {},
     "output_type": "execute_result"
    },
    {
     "data": {
      "text/plain": [
       "# current error = 0.64490220479992\t\n"
      ]
     },
     "execution_count": 1,
     "metadata": {},
     "output_type": "execute_result"
    },
    {
     "data": {
      "text/plain": [
       "# current error = 0.45784380319432\t\n"
      ]
     },
     "execution_count": 1,
     "metadata": {},
     "output_type": "execute_result"
    },
    {
     "data": {
      "text/plain": [
       "# current error = 0.41837936902007\t\n"
      ]
     },
     "execution_count": 1,
     "metadata": {},
     "output_type": "execute_result"
    },
    {
     "data": {
      "text/plain": [
       "# current error = 0.40046459537067\t\n"
      ]
     },
     "execution_count": 1,
     "metadata": {},
     "output_type": "execute_result"
    },
    {
     "data": {
      "text/plain": [
       "# current error = 0.40198185933493\t\n",
       "# StochasticGradient: you have reached the maximum number of iterations\t\n",
       "# training error = 0.40198185933493\t\n",
       "Sigmoid network converged in \t40.865320920944\t Seconds\t\n"
      ]
     },
     "execution_count": 1,
     "metadata": {},
     "output_type": "execute_result"
    },
    {
     "data": {
      "text/plain": [
       "Training with Tanh\t\n"
      ]
     },
     "execution_count": 1,
     "metadata": {},
     "output_type": "execute_result"
    },
    {
     "data": {
      "text/plain": [
       "# StochasticGradient: training\t\n"
      ]
     },
     "execution_count": 1,
     "metadata": {},
     "output_type": "execute_result"
    },
    {
     "data": {
      "text/plain": [
       "# current error = 0.99310789371893\t\n"
      ]
     },
     "execution_count": 1,
     "metadata": {},
     "output_type": "execute_result"
    },
    {
     "data": {
      "text/plain": [
       "# current error = 0.89898921819477\t\n"
      ]
     },
     "execution_count": 1,
     "metadata": {},
     "output_type": "execute_result"
    },
    {
     "data": {
      "text/plain": [
       "# current error = 0.87797777862178\t\n"
      ]
     },
     "execution_count": 1,
     "metadata": {},
     "output_type": "execute_result"
    },
    {
     "data": {
      "text/plain": [
       "# current error = 0.77055211158814\t\n"
      ]
     },
     "execution_count": 1,
     "metadata": {},
     "output_type": "execute_result"
    },
    {
     "data": {
      "text/plain": [
       "# current error = 0.72911098719921\t\n",
       "# StochasticGradient: you have reached the maximum number of iterations\t\n",
       "# training error = 0.72911098719921\t\n",
       "Tanh network converged in \t39.616784095764\t Seconds\t\n"
      ]
     },
     "execution_count": 1,
     "metadata": {},
     "output_type": "execute_result"
    },
    {
     "data": {
      "text/plain": [
       "Training with ReLU\t\n"
      ]
     },
     "execution_count": 1,
     "metadata": {},
     "output_type": "execute_result"
    },
    {
     "data": {
      "text/plain": [
       "# StochasticGradient: training\t\n"
      ]
     },
     "execution_count": 1,
     "metadata": {},
     "output_type": "execute_result"
    },
    {
     "data": {
      "text/plain": [
       "# current error = 2.3633451633913\t\n"
      ]
     },
     "execution_count": 1,
     "metadata": {},
     "output_type": "execute_result"
    },
    {
     "data": {
      "text/plain": [
       "# current error = 2.3014129069525\t\n"
      ]
     },
     "execution_count": 1,
     "metadata": {},
     "output_type": "execute_result"
    },
    {
     "data": {
      "text/plain": [
       "# current error = 2.3011388851217\t\n"
      ]
     },
     "execution_count": 1,
     "metadata": {},
     "output_type": "execute_result"
    },
    {
     "data": {
      "text/plain": [
       "# current error = 2.301739370417\t\n"
      ]
     },
     "execution_count": 1,
     "metadata": {},
     "output_type": "execute_result"
    },
    {
     "data": {
      "text/plain": [
       "# current error = 2.3014612807358\t\n",
       "# StochasticGradient: you have reached the maximum number of iterations\t\n",
       "# training error = 2.3014612807358\t\n",
       "ReLU network converged in \t40.874269962311\t Seconds\t\n"
      ]
     },
     "execution_count": 1,
     "metadata": {},
     "output_type": "execute_result"
    }
   ],
   "source": [
    "require 'torch'\n",
    "require 'nn'\n",
    "require 'paths'\n",
    "mnist = require 'mnist'\n",
    "\n",
    "fullset = mnist.traindataset()\n",
    "testset = mnist.testdataset()\n",
    "\n",
    "for i=1,fullset.size do\n",
    "    if fullset.label[i] == 0 then\n",
    "        fullset.label[i] = 10\n",
    "    end\n",
    "end\n",
    "\n",
    "dataset = {}\n",
    "\n",
    "for i=1,fullset.size do\n",
    "    dataset[i] = {fullset.data[i]:resize(784):double(), fullset.label[i]}\n",
    "end\n",
    "\n",
    "function dataset:size() \n",
    "    return fullset.size\n",
    "end\n",
    "\n",
    "mlp = nn.Sequential()\n",
    "mlp:add(nn.Linear(784,100))\n",
    "mlp:add(nn.Sigmoid())\n",
    "mlp:add(nn.Linear(100,10))\n",
    "mlp:add(nn.LogSoftMax())\n",
    "\n",
    "\n",
    "criterion = nn.ClassNLLCriterion()\n",
    "trainer = nn.StochasticGradient(mlp,criterion)\n",
    "trainer.learningRate = 0.001\n",
    "trainer.maxIteration = 5 -- just do 5 epochs of training.\n",
    "\n",
    "print(\"Training with Sigmoid\")\n",
    "timer = torch.Timer()\n",
    "trainer:train(dataset)\n",
    "timetime_sigmoid = timer:time().real\n",
    "print(\"Sigmoid network converged in \",timetime_sigmoid,\" Seconds\")\n",
    "torch.save(\"mnist_sigmoid.t7\",mlp)\n",
    "\n",
    "mlp = nn.Sequential()\n",
    "mlp:add(nn.Linear(784,100))\n",
    "mlp:add(nn.Tanh())\n",
    "mlp:add(nn.Linear(100,10))\n",
    "mlp:add(nn.LogSoftMax())\n",
    "\n",
    "\n",
    "criterion = nn.ClassNLLCriterion()\n",
    "trainer = nn.StochasticGradient(mlp,criterion)\n",
    "trainer.learningRate = 0.001\n",
    "trainer.maxIteration = 5 -- just do 5 epochs of training.\n",
    "\n",
    "print(\"Training with Tanh\")\n",
    "timer:reset()\n",
    "trainer:train(dataset)\n",
    "timetime_tanh = timer:time().real\n",
    "print(\"Tanh network converged in \",timetime_tanh,\" Seconds\")\n",
    "torch.save(\"mnist_Tanh.t7\",mlp)\n",
    "\n",
    "mlp = nn.Sequential()\n",
    "mlp:add(nn.Linear(784,100))\n",
    "mlp:add(nn.ReLU())\n",
    "mlp:add(nn.Linear(100,10))\n",
    "mlp:add(nn.LogSoftMax())\n",
    "\n",
    "\n",
    "criterion = nn.ClassNLLCriterion()\n",
    "trainer = nn.StochasticGradient(mlp,criterion)\n",
    "trainer.learningRate = 0.001\n",
    "trainer.maxIteration = 5 -- just do 5 epochs of training.\n",
    "\n",
    "print(\"Training with ReLU\")\n",
    "timer:reset()\n",
    "trainer:train(dataset)\n",
    "timetime_ReLU = timer:time().real\n",
    "print(\"ReLU network converged in \",timetime_ReLU,\" Seconds\")\n",
    "torch.save(\"mnist_ReLU.t7\",mlp)"
   ]
  },
  {
   "cell_type": "code",
   "execution_count": null,
   "metadata": {
    "collapsed": true
   },
   "outputs": [],
   "source": []
  }
 ],
 "metadata": {
  "kernelspec": {
   "display_name": "iTorch",
   "language": "lua",
   "name": "itorch"
  },
  "language_info": {
   "name": "lua",
   "version": "5.1"
  }
 },
 "nbformat": 4,
 "nbformat_minor": 1
}
