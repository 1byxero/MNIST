{
 "cells": [
  {
   "cell_type": "code",
   "execution_count": 1,
   "metadata": {
    "collapsed": false,
    "scrolled": true
   },
   "outputs": [
    {
     "data": {
      "text/plain": [
       "# StochasticGradient: training\t\n"
      ]
     },
     "execution_count": 1,
     "metadata": {},
     "output_type": "execute_result"
    },
    {
     "data": {
      "text/plain": [
       "# current error = 1.7188340870454\t\n"
      ]
     },
     "execution_count": 1,
     "metadata": {},
     "output_type": "execute_result"
    },
    {
     "data": {
      "text/plain": [
       "# current error = 1.5771125041969\t\n"
      ]
     },
     "execution_count": 1,
     "metadata": {},
     "output_type": "execute_result"
    },
    {
     "data": {
      "text/plain": [
       "# current error = 1.6148196502816\t\n"
      ]
     },
     "execution_count": 1,
     "metadata": {},
     "output_type": "execute_result"
    },
    {
     "data": {
      "text/plain": [
       "# current error = 1.4768090130265\t\n"
      ]
     },
     "execution_count": 1,
     "metadata": {},
     "output_type": "execute_result"
    },
    {
     "data": {
      "text/plain": [
       "# current error = 1.3352091500041\t\n",
       "# StochasticGradient: you have reached the maximum number of iterations\t\n",
       "# training error = 1.3352091500041\t\n"
      ]
     },
     "execution_count": 1,
     "metadata": {},
     "output_type": "execute_result"
    },
    {
     "data": {
      "text/plain": [
       "predicting on testset\t\n"
      ]
     },
     "execution_count": 1,
     "metadata": {},
     "output_type": "execute_result"
    },
    {
     "data": {
      "image/png": "[encoded data removed]",
      "text/plain": [
       "Console does not support images"
      ]
     },
     "metadata": {
      "image/png": {
       "height": 28,
       "width": 28
      }
     },
     "output_type": "display_data"
    },
    {
     "data": {
      "text/plain": [
       "-9.3967\n",
       "-5.1694\n",
       "-2.8295\n",
       "-5.7726\n",
       "-2.1851\n",
       "-7.0457\n",
       "-0.3756\n",
       "-2.4496\n",
       "-3.2622\n",
       "-4.9261\n",
       "[torch.DoubleTensor of size 10]\n",
       "\n"
      ]
     },
     "execution_count": 1,
     "metadata": {},
     "output_type": "execute_result"
    },
    {
     "data": {
      "image/png": "[encoded data removed]",
      "text/plain": [
       "Console does not support images"
      ]
     },
     "metadata": {
      "image/png": {
       "height": 28,
       "width": 28
      }
     },
     "output_type": "display_data"
    },
    {
     "data": {
      "text/plain": [
       " -4.8895\n",
       " -0.2282\n",
       " -1.9011\n",
       "-16.8216\n",
       " -4.1789\n",
       " -5.3336\n",
       "-10.7954\n",
       " -3.6250\n",
       "-14.3945\n",
       " -8.2317\n",
       "[torch.DoubleTensor of size 10]\n",
       "\n"
      ]
     },
     "execution_count": 1,
     "metadata": {},
     "output_type": "execute_result"
    },
    {
     "data": {
      "image/png": "[encoded data removed]",
      "text/plain": [
       "Console does not support images"
      ]
     },
     "metadata": {
      "image/png": {
       "height": 28,
       "width": 28
      }
     },
     "output_type": "display_data"
    },
    {
     "data": {
      "text/plain": [
       " -0.1655\n",
       " -4.0676\n",
       " -2.2797\n",
       "-14.7878\n",
       " -5.7615\n",
       "-10.8050\n",
       " -7.9676\n",
       " -3.5210\n",
       "-10.6218\n",
       "-16.0874\n",
       "[torch.DoubleTensor of size 10]\n",
       "\n"
      ]
     },
     "execution_count": 1,
     "metadata": {},
     "output_type": "execute_result"
    },
    {
     "data": {
      "image/png": "[encoded data removed]",
      "text/plain": [
       "Console does not support images"
      ]
     },
     "metadata": {
      "image/png": {
       "height": 28,
       "width": 28
      }
     },
     "output_type": "display_data"
    },
    {
     "data": {
      "text/plain": [
       "-12.6887\n",
       " -5.2802\n",
       " -5.0743\n",
       " -5.9617\n",
       " -1.3561\n",
       " -4.0571\n",
       " -3.9749\n",
       " -3.1042\n",
       " -5.2865\n",
       " -0.4425\n",
       "[torch.DoubleTensor of size 10]\n",
       "\n"
      ]
     },
     "execution_count": 1,
     "metadata": {},
     "output_type": "execute_result"
    },
    {
     "data": {
      "image/png": "[encoded data removed]",
      "text/plain": [
       "Console does not support images"
      ]
     },
     "metadata": {
      "image/png": {
       "height": 28,
       "width": 28
      }
     },
     "output_type": "display_data"
    },
    {
     "data": {
      "text/plain": [
       "-18.5412\n",
       " -6.6619\n",
       "-11.8916\n",
       " -0.1431\n",
       " -8.2797\n",
       " -3.7517\n",
       " -3.5472\n",
       " -7.8651\n",
       " -2.5370\n",
       "-11.7128\n",
       "[torch.DoubleTensor of size 10]\n",
       "\n"
      ]
     },
     "execution_count": 1,
     "metadata": {},
     "output_type": "execute_result"
    },
    {
     "data": {
      "image/png": "[encoded data removed]",
      "text/plain": [
       "Console does not support images"
      ]
     },
     "metadata": {
      "image/png": {
       "height": 28,
       "width": 28
      }
     },
     "output_type": "display_data"
    },
    {
     "data": {
      "text/plain": [
       " -0.1655\n",
       " -4.0676\n",
       " -2.2797\n",
       "-14.7878\n",
       " -5.7615\n",
       "-10.8050\n",
       " -7.9676\n",
       " -3.5210\n",
       "-10.6218\n",
       "-16.0874\n",
       "[torch.DoubleTensor of size 10]\n",
       "\n"
      ]
     },
     "execution_count": 1,
     "metadata": {},
     "output_type": "execute_result"
    },
    {
     "data": {
      "image/png": "[encoded data removed]",
      "text/plain": [
       "Console does not support images"
      ]
     },
     "metadata": {
      "image/png": {
       "height": 28,
       "width": 28
      }
     },
     "output_type": "display_data"
    },
    {
     "data": {
      "text/plain": [
       "-8.0826\n",
       "-8.5326\n",
       "-3.0291\n",
       "-2.3308\n",
       "-0.9025\n",
       "-8.5373\n",
       "-2.8057\n",
       "-2.3759\n",
       "-1.2247\n",
       "-6.9703\n",
       "[torch.DoubleTensor of size 10]\n",
       "\n"
      ]
     },
     "execution_count": 1,
     "metadata": {},
     "output_type": "execute_result"
    },
    {
     "data": {
      "image/png": "[encoded data removed]",
      "text/plain": [
       "Console does not support images"
      ]
     },
     "metadata": {
      "image/png": {
       "height": 28,
       "width": 28
      }
     },
     "output_type": "display_data"
    },
    {
     "data": {
      "text/plain": [
       " -8.1027\n",
       " -6.3919\n",
       " -7.2999\n",
       " -0.7992\n",
       " -5.8636\n",
       " -5.7360\n",
       " -2.8718\n",
       " -4.4221\n",
       " -0.7487\n",
       "-14.5355\n",
       "[torch.DoubleTensor of size 10]\n",
       "\n"
      ]
     },
     "execution_count": 1,
     "metadata": {},
     "output_type": "execute_result"
    },
    {
     "data": {
      "image/png": "[encoded data removed]",
      "text/plain": [
       "Console does not support images"
      ]
     },
     "metadata": {
      "image/png": {
       "height": 28,
       "width": 28
      }
     },
     "output_type": "display_data"
    },
    {
     "data": {
      "text/plain": [
       "-10.7656\n",
       " -0.5216\n",
       " -5.5620\n",
       " -5.4052\n",
       " -3.8129\n",
       " -1.1348\n",
       " -5.2366\n",
       " -3.2223\n",
       " -5.3961\n",
       " -5.3403\n",
       "[torch.DoubleTensor of size 10]\n",
       "\n"
      ]
     },
     "execution_count": 1,
     "metadata": {},
     "output_type": "execute_result"
    },
    {
     "data": {
      "image/png": "[encoded data removed]",
      "text/plain": [
       "Console does not support images"
      ]
     },
     "metadata": {
      "image/png": {
       "height": 28,
       "width": 28
      }
     },
     "output_type": "display_data"
    },
    {
     "data": {
      "text/plain": [
       "-7.5569\n",
       "-8.7118\n",
       "-5.0451\n",
       "-3.5201\n",
       "-2.5308\n",
       "-9.1208\n",
       "-0.7393\n",
       "-2.5924\n",
       "-1.1059\n",
       "-7.8904\n",
       "[torch.DoubleTensor of size 10]\n",
       "\n"
      ]
     },
     "execution_count": 1,
     "metadata": {},
     "output_type": "execute_result"
    },
    {
     "data": {
      "image/png": "[encoded data removed]",
      "text/plain": [
       "Console does not support images"
      ]
     },
     "metadata": {
      "image/png": {
       "height": 28,
       "width": 28
      }
     },
     "output_type": "display_data"
    },
    {
     "data": {
      "text/plain": [
       "-12.7658\n",
       " -6.1766\n",
       " -3.6359\n",
       "-13.7711\n",
       " -1.8602\n",
       "-10.5944\n",
       " -8.9654\n",
       " -3.8221\n",
       "-11.4107\n",
       " -0.2308\n",
       "[torch.DoubleTensor of size 10]\n",
       "\n"
      ]
     },
     "execution_count": 1,
     "metadata": {},
     "output_type": "execute_result"
    },
    {
     "data": {
      "image/png": "[encoded data removed]",
      "text/plain": [
       "Console does not support images"
      ]
     },
     "metadata": {
      "image/png": {
       "height": 28,
       "width": 28
      }
     },
     "output_type": "display_data"
    },
    {
     "data": {
      "text/plain": [
       " -4.8951\n",
       " -0.3899\n",
       " -4.7445\n",
       " -8.0265\n",
       " -5.3867\n",
       " -2.8794\n",
       " -8.5295\n",
       " -1.4065\n",
       " -7.8206\n",
       "-12.7178\n",
       "[torch.DoubleTensor of size 10]\n",
       "\n"
      ]
     },
     "execution_count": 1,
     "metadata": {},
     "output_type": "execute_result"
    },
    {
     "data": {
      "image/png": "[encoded data removed]",
      "text/plain": [
       "Console does not support images"
      ]
     },
     "metadata": {
      "image/png": {
       "height": 28,
       "width": 28
      }
     },
     "output_type": "display_data"
    },
    {
     "data": {
      "text/plain": [
       "-12.5883\n",
       " -7.5652\n",
       " -6.3768\n",
       " -0.7861\n",
       " -2.8184\n",
       " -5.2548\n",
       " -1.8744\n",
       " -2.7660\n",
       " -1.3535\n",
       " -5.9663\n",
       "[torch.DoubleTensor of size 10]\n",
       "\n"
      ]
     },
     "execution_count": 1,
     "metadata": {},
     "output_type": "execute_result"
    },
    {
     "data": {
      "image/png": "[encoded data removed]",
      "text/plain": [
       "Console does not support images"
      ]
     },
     "metadata": {
      "image/png": {
       "height": 28,
       "width": 28
      }
     },
     "output_type": "display_data"
    },
    {
     "data": {
      "text/plain": [
       "-13.3172\n",
       " -5.2340\n",
       " -3.8629\n",
       " -9.5084\n",
       " -1.4235\n",
       " -6.5078\n",
       " -7.7421\n",
       " -3.7478\n",
       " -8.4438\n",
       " -0.3467\n",
       "[torch.DoubleTensor of size 10]\n",
       "\n"
      ]
     },
     "execution_count": 1,
     "metadata": {},
     "output_type": "execute_result"
    },
    {
     "data": {
      "image/png": "[encoded data removed]",
      "text/plain": [
       "Console does not support images"
      ]
     },
     "metadata": {
      "image/png": {
       "height": 28,
       "width": 28
      }
     },
     "output_type": "display_data"
    },
    {
     "data": {
      "text/plain": [
       " -0.0741\n",
       " -4.6509\n",
       " -4.0282\n",
       "-11.7781\n",
       " -6.2312\n",
       " -8.8914\n",
       " -4.7375\n",
       " -3.4145\n",
       " -8.0015\n",
       "-16.7203\n",
       "[torch.DoubleTensor of size 10]\n",
       "\n"
      ]
     },
     "execution_count": 1,
     "metadata": {},
     "output_type": "execute_result"
    },
    {
     "data": {
      "image/png": "[encoded data removed]",
      "text/plain": [
       "Console does not support images"
      ]
     },
     "metadata": {
      "image/png": {
       "height": 28,
       "width": 28
      }
     },
     "output_type": "display_data"
    },
    {
     "data": {
      "text/plain": [
       " -9.0632\n",
       " -4.8897\n",
       " -2.0381\n",
       " -9.6267\n",
       " -1.3133\n",
       "-11.1214\n",
       " -4.8609\n",
       " -0.6391\n",
       " -6.8114\n",
       " -2.8742\n",
       "[torch.DoubleTensor of size 10]\n",
       "\n"
      ]
     },
     "execution_count": 1,
     "metadata": {},
     "output_type": "execute_result"
    },
    {
     "data": {
      "image/png": "[encoded data removed]",
      "text/plain": [
       "Console does not support images"
      ]
     },
     "metadata": {
      "image/png": {
       "height": 28,
       "width": 28
      }
     },
     "output_type": "display_data"
    },
    {
     "data": {
      "text/plain": [
       "-18.5412\n",
       " -6.6619\n",
       "-11.8916\n",
       " -0.1431\n",
       " -8.2797\n",
       " -3.7517\n",
       " -3.5472\n",
       " -7.8651\n",
       " -2.5370\n",
       "-11.7128\n",
       "[torch.DoubleTensor of size 10]\n",
       "\n"
      ]
     },
     "execution_count": 1,
     "metadata": {},
     "output_type": "execute_result"
    },
    {
     "data": {
      "image/png": "[encoded data removed]",
      "text/plain": [
       "Console does not support images"
      ]
     },
     "metadata": {
      "image/png": {
       "height": 28,
       "width": 28
      }
     },
     "output_type": "display_data"
    },
    {
     "data": {
      "text/plain": [
       "-9.3967\n",
       "-5.1694\n",
       "-2.8295\n",
       "-5.7726\n",
       "-2.1851\n",
       "-7.0457\n",
       "-0.3756\n",
       "-2.4496\n",
       "-3.2622\n",
       "-4.9261\n",
       "[torch.DoubleTensor of size 10]\n",
       "\n"
      ]
     },
     "execution_count": 1,
     "metadata": {},
     "output_type": "execute_result"
    },
    {
     "data": {
      "image/png": "[encoded data removed]",
      "text/plain": [
       "Console does not support images"
      ]
     },
     "metadata": {
      "image/png": {
       "height": 28,
       "width": 28
      }
     },
     "output_type": "display_data"
    },
    {
     "data": {
      "text/plain": [
       " -0.5307\n",
       " -2.9086\n",
       " -1.6186\n",
       " -5.7056\n",
       " -3.5456\n",
       " -3.6008\n",
       " -4.9599\n",
       " -2.5031\n",
       " -4.5329\n",
       "-15.2954\n",
       "[torch.DoubleTensor of size 10]\n",
       "\n"
      ]
     },
     "execution_count": 1,
     "metadata": {},
     "output_type": "execute_result"
    },
    {
     "data": {
      "image/png": "[encoded data removed]",
      "text/plain": [
       "Console does not support images"
      ]
     },
     "metadata": {
      "image/png": {
       "height": 28,
       "width": 28
      }
     },
     "output_type": "display_data"
    },
    {
     "data": {
      "text/plain": [
       "-12.0389\n",
       " -5.3982\n",
       " -7.5202\n",
       " -0.3109\n",
       " -4.3707\n",
       " -4.4243\n",
       " -2.4592\n",
       " -4.0292\n",
       " -2.0086\n",
       " -9.9944\n",
       "[torch.DoubleTensor of size 10]\n",
       "\n"
      ]
     },
     "execution_count": 1,
     "metadata": {},
     "output_type": "execute_result"
    },
    {
     "data": {
      "image/png": "[encoded data removed]",
      "text/plain": [
       "Console does not support images"
      ]
     },
     "metadata": {
      "image/png": {
       "height": 28,
       "width": 28
      }
     },
     "output_type": "display_data"
    },
    {
     "data": {
      "text/plain": [
       " -6.9252\n",
       " -8.8457\n",
       " -3.3560\n",
       " -6.4332\n",
       " -2.8645\n",
       "-10.5402\n",
       " -0.2024\n",
       " -4.0786\n",
       " -2.6387\n",
       " -8.6885\n",
       "[torch.DoubleTensor of size 10]\n",
       "\n"
      ]
     },
     "execution_count": 1,
     "metadata": {},
     "output_type": "execute_result"
    },
    {
     "data": {
      "image/png": "[encoded data removed]",
      "text/plain": [
       "Console does not support images"
      ]
     },
     "metadata": {
      "image/png": {
       "height": 28,
       "width": 28
      }
     },
     "output_type": "display_data"
    },
    {
     "data": {
      "text/plain": [
       " -9.2988\n",
       " -2.3475\n",
       " -6.3415\n",
       " -8.2387\n",
       " -5.0417\n",
       " -0.1222\n",
       "-11.7370\n",
       " -4.5333\n",
       "-10.1852\n",
       "-10.0540\n",
       "[torch.DoubleTensor of size 10]\n",
       "\n"
      ]
     },
     "execution_count": 1,
     "metadata": {},
     "output_type": "execute_result"
    },
    {
     "data": {
      "image/png": "[encoded data removed]",
      "text/plain": [
       "Console does not support images"
      ]
     },
     "metadata": {
      "image/png": {
       "height": 28,
       "width": 28
      }
     },
     "output_type": "display_data"
    },
    {
     "data": {
      "text/plain": [
       " -6.9948\n",
       " -3.1340\n",
       " -7.9822\n",
       " -2.5746\n",
       " -6.4546\n",
       " -0.2255\n",
       " -5.8923\n",
       " -2.7337\n",
       " -4.4557\n",
       "-14.8201\n",
       "[torch.DoubleTensor of size 10]\n",
       "\n"
      ]
     },
     "execution_count": 1,
     "metadata": {},
     "output_type": "execute_result"
    },
    {
     "data": {
      "image/png": "[encoded data removed]",
      "text/plain": [
       "Console does not support images"
      ]
     },
     "metadata": {
      "image/png": {
       "height": 28,
       "width": 28
      }
     },
     "output_type": "display_data"
    },
    {
     "data": {
      "text/plain": [
       "-13.9358\n",
       " -6.4970\n",
       " -5.6196\n",
       " -2.5755\n",
       " -1.0102\n",
       " -2.3728\n",
       " -3.6239\n",
       " -3.5940\n",
       " -3.5978\n",
       " -0.9680\n",
       "[torch.DoubleTensor of size 10]\n",
       "\n"
      ]
     },
     "execution_count": 1,
     "metadata": {},
     "output_type": "execute_result"
    },
    {
     "data": {
      "image/png": "[encoded data removed]",
      "text/plain": [
       "Console does not support images"
      ]
     },
     "metadata": {
      "image/png": {
       "height": 28,
       "width": 28
      }
     },
     "output_type": "display_data"
    },
    {
     "data": {
      "text/plain": [
       "-10.9193\n",
       " -3.0607\n",
       " -7.1186\n",
       " -0.4838\n",
       " -5.5293\n",
       " -2.5866\n",
       " -3.3902\n",
       " -3.1382\n",
       " -1.7173\n",
       "-11.1182\n",
       "[torch.DoubleTensor of size 10]\n",
       "\n"
      ]
     },
     "execution_count": 1,
     "metadata": {},
     "output_type": "execute_result"
    },
    {
     "data": {
      "image/png": "[encoded data removed]",
      "text/plain": [
       "Console does not support images"
      ]
     },
     "metadata": {
      "image/png": {
       "height": 28,
       "width": 28
      }
     },
     "output_type": "display_data"
    },
    {
     "data": {
      "text/plain": [
       "-13.3172\n",
       " -5.2340\n",
       " -3.8629\n",
       " -9.5084\n",
       " -1.4235\n",
       " -6.5078\n",
       " -7.7421\n",
       " -3.7478\n",
       " -8.4438\n",
       " -0.3467\n",
       "[torch.DoubleTensor of size 10]\n",
       "\n"
      ]
     },
     "execution_count": 1,
     "metadata": {},
     "output_type": "execute_result"
    },
    {
     "data": {
      "image/png": "[encoded data removed]",
      "text/plain": [
       "Console does not support images"
      ]
     },
     "metadata": {
      "image/png": {
       "height": 28,
       "width": 28
      }
     },
     "output_type": "display_data"
    },
    {
     "data": {
      "text/plain": [
       " -8.7066\n",
       "-10.5969\n",
       " -4.4355\n",
       " -3.5813\n",
       " -3.0530\n",
       " -9.3902\n",
       " -0.3856\n",
       " -5.1027\n",
       " -1.4843\n",
       " -9.7483\n",
       "[torch.DoubleTensor of size 10]\n",
       "\n"
      ]
     },
     "execution_count": 1,
     "metadata": {},
     "output_type": "execute_result"
    },
    {
     "data": {
      "image/png": "[encoded data removed]",
      "text/plain": [
       "Console does not support images"
      ]
     },
     "metadata": {
      "image/png": {
       "height": 28,
       "width": 28
      }
     },
     "output_type": "display_data"
    },
    {
     "data": {
      "text/plain": [
       "-12.5883\n",
       " -7.5652\n",
       " -6.3768\n",
       " -0.7861\n",
       " -2.8184\n",
       " -5.2548\n",
       " -1.8744\n",
       " -2.7660\n",
       " -1.3535\n",
       " -5.9663\n",
       "[torch.DoubleTensor of size 10]\n",
       "\n"
      ]
     },
     "execution_count": 1,
     "metadata": {},
     "output_type": "execute_result"
    },
    {
     "data": {
      "image/png": "[encoded data removed]",
      "text/plain": [
       "Console does not support images"
      ]
     },
     "metadata": {
      "image/png": {
       "height": 28,
       "width": 28
      }
     },
     "output_type": "display_data"
    },
    {
     "data": {
      "text/plain": [
       "-12.7658\n",
       " -6.1766\n",
       " -3.6359\n",
       "-13.7711\n",
       " -1.8602\n",
       "-10.5944\n",
       " -8.9654\n",
       " -3.8221\n",
       "-11.4107\n",
       " -0.2308\n",
       "[torch.DoubleTensor of size 10]\n",
       "\n"
      ]
     },
     "execution_count": 1,
     "metadata": {},
     "output_type": "execute_result"
    },
    {
     "data": {
      "image/png": "[encoded data removed]",
      "text/plain": [
       "Console does not support images"
      ]
     },
     "metadata": {
      "image/png": {
       "height": 28,
       "width": 28
      }
     },
     "output_type": "display_data"
    },
    {
     "data": {
      "text/plain": [
       " -0.4515\n",
       " -4.0776\n",
       " -1.5233\n",
       " -8.9673\n",
       " -2.7812\n",
       " -7.1711\n",
       " -4.4282\n",
       " -2.9526\n",
       " -6.5612\n",
       "-13.6945\n",
       "[torch.DoubleTensor of size 10]\n",
       "\n"
      ]
     },
     "execution_count": 1,
     "metadata": {},
     "output_type": "execute_result"
    },
    {
     "data": {
      "image/png": "[encoded data removed]",
      "text/plain": [
       "Console does not support images"
      ]
     },
     "metadata": {
      "image/png": {
       "height": 28,
       "width": 28
      }
     },
     "output_type": "display_data"
    },
    {
     "data": {
      "text/plain": [
       " -4.5216\n",
       " -6.0436\n",
       " -0.1550\n",
       "-13.0544\n",
       " -3.1662\n",
       "-13.8789\n",
       " -4.7629\n",
       " -2.5445\n",
       " -7.1106\n",
       " -8.2396\n",
       "[torch.DoubleTensor of size 10]\n",
       "\n"
      ]
     },
     "execution_count": 1,
     "metadata": {},
     "output_type": "execute_result"
    },
    {
     "data": {
      "image/png": "[encoded data removed]",
      "text/plain": [
       "Console does not support images"
      ]
     },
     "metadata": {
      "image/png": {
       "height": 28,
       "width": 28
      }
     },
     "output_type": "display_data"
    },
    {
     "data": {
      "text/plain": [
       " -0.5178\n",
       " -4.8185\n",
       " -3.4294\n",
       " -6.1152\n",
       " -3.4085\n",
       " -5.4151\n",
       " -1.3558\n",
       " -3.0038\n",
       " -4.0986\n",
       "-14.4850\n",
       "[torch.DoubleTensor of size 10]\n",
       "\n"
      ]
     },
     "execution_count": 1,
     "metadata": {},
     "output_type": "execute_result"
    },
    {
     "data": {
      "image/png": "[encoded data removed]",
      "text/plain": [
       "Console does not support images"
      ]
     },
     "metadata": {
      "image/png": {
       "height": 28,
       "width": 28
      }
     },
     "output_type": "display_data"
    },
    {
     "data": {
      "text/plain": [
       " -5.3754\n",
       " -8.1153\n",
       " -0.2907\n",
       "-12.6157\n",
       " -1.7418\n",
       "-15.4507\n",
       " -3.5661\n",
       " -3.1697\n",
       " -7.1361\n",
       " -6.8500\n",
       "[torch.DoubleTensor of size 10]\n",
       "\n"
      ]
     },
     "execution_count": 1,
     "metadata": {},
     "output_type": "execute_result"
    },
    {
     "data": {
      "image/png": "[encoded data removed]",
      "text/plain": [
       "Console does not support images"
      ]
     },
     "metadata": {
      "image/png": {
       "height": 28,
       "width": 28
      }
     },
     "output_type": "display_data"
    },
    {
     "data": {
      "text/plain": [
       "-13.6881\n",
       " -3.2276\n",
       " -7.8163\n",
       " -4.1808\n",
       " -3.1153\n",
       " -0.1632\n",
       " -8.7192\n",
       " -4.5993\n",
       " -6.6477\n",
       " -3.2355\n",
       "[torch.DoubleTensor of size 10]\n",
       "\n"
      ]
     },
     "execution_count": 1,
     "metadata": {},
     "output_type": "execute_result"
    },
    {
     "data": {
      "image/png": "[encoded data removed]",
      "text/plain": [
       "Console does not support images"
      ]
     },
     "metadata": {
      "image/png": {
       "height": 28,
       "width": 28
      }
     },
     "output_type": "display_data"
    },
    {
     "data": {
      "text/plain": [
       "-7.9562\n",
       "-2.5111\n",
       "-2.1071\n",
       "-5.6247\n",
       "-3.0229\n",
       "-4.8872\n",
       "-0.9858\n",
       "-1.2378\n",
       "-2.6501\n",
       "-5.7291\n",
       "[torch.DoubleTensor of size 10]\n",
       "\n"
      ]
     },
     "execution_count": 1,
     "metadata": {},
     "output_type": "execute_result"
    },
    {
     "data": {
      "image/png": "[encoded data removed]",
      "text/plain": [
       "Console does not support images"
      ]
     },
     "metadata": {
      "image/png": {
       "height": 28,
       "width": 28
      }
     },
     "output_type": "display_data"
    },
    {
     "data": {
      "text/plain": [
       " -4.8895\n",
       " -0.2282\n",
       " -1.9011\n",
       "-16.8216\n",
       " -4.1789\n",
       " -5.3336\n",
       "-10.7954\n",
       " -3.6250\n",
       "-14.3945\n",
       " -8.2317\n",
       "[torch.DoubleTensor of size 10]\n",
       "\n"
      ]
     },
     "execution_count": 1,
     "metadata": {},
     "output_type": "execute_result"
    },
    {
     "data": {
      "image/png": "[encoded data removed]",
      "text/plain": [
       "Console does not support images"
      ]
     },
     "metadata": {
      "image/png": {
       "height": 28,
       "width": 28
      }
     },
     "output_type": "display_data"
    },
    {
     "data": {
      "text/plain": [
       "-9.3967\n",
       "-5.1694\n",
       "-2.8295\n",
       "-5.7726\n",
       "-2.1851\n",
       "-7.0457\n",
       "-0.3756\n",
       "-2.4496\n",
       "-3.2622\n",
       "-4.9261\n",
       "[torch.DoubleTensor of size 10]\n",
       "\n"
      ]
     },
     "execution_count": 1,
     "metadata": {},
     "output_type": "execute_result"
    },
    {
     "data": {
      "image/png": "[encoded data removed]",
      "text/plain": [
       "Console does not support images"
      ]
     },
     "metadata": {
      "image/png": {
       "height": 28,
       "width": 28
      }
     },
     "output_type": "display_data"
    },
    {
     "data": {
      "text/plain": [
       " -0.0741\n",
       " -4.6509\n",
       " -4.0282\n",
       "-11.7781\n",
       " -6.2312\n",
       " -8.8914\n",
       " -4.7375\n",
       " -3.4145\n",
       " -8.0015\n",
       "-16.7203\n",
       "[torch.DoubleTensor of size 10]\n",
       "\n"
      ]
     },
     "execution_count": 1,
     "metadata": {},
     "output_type": "execute_result"
    },
    {
     "data": {
      "image/png": "[encoded data removed]",
      "text/plain": [
       "Console does not support images"
      ]
     },
     "metadata": {
      "image/png": {
       "height": 28,
       "width": 28
      }
     },
     "output_type": "display_data"
    },
    {
     "data": {
      "text/plain": [
       " -4.8895\n",
       " -0.2282\n",
       " -1.9011\n",
       "-16.8216\n",
       " -4.1789\n",
       " -5.3336\n",
       "-10.7954\n",
       " -3.6250\n",
       "-14.3945\n",
       " -8.2317\n",
       "[torch.DoubleTensor of size 10]\n",
       "\n"
      ]
     },
     "execution_count": 1,
     "metadata": {},
     "output_type": "execute_result"
    },
    {
     "data": {
      "image/png": "[encoded data removed]",
      "text/plain": [
       "Console does not support images"
      ]
     },
     "metadata": {
      "image/png": {
       "height": 28,
       "width": 28
      }
     },
     "output_type": "display_data"
    },
    {
     "data": {
      "text/plain": [
       " -0.0741\n",
       " -4.6509\n",
       " -4.0282\n",
       "-11.7781\n",
       " -6.2312\n",
       " -8.8914\n",
       " -4.7375\n",
       " -3.4145\n",
       " -8.0015\n",
       "-16.7203\n",
       "[torch.DoubleTensor of size 10]\n",
       "\n"
      ]
     },
     "execution_count": 1,
     "metadata": {},
     "output_type": "execute_result"
    },
    {
     "data": {
      "image/png": "[encoded data removed]",
      "text/plain": [
       "Console does not support images"
      ]
     },
     "metadata": {
      "image/png": {
       "height": 28,
       "width": 28
      }
     },
     "output_type": "display_data"
    },
    {
     "data": {
      "text/plain": [
       " -0.1655\n",
       " -4.0676\n",
       " -2.2797\n",
       "-14.7878\n",
       " -5.7615\n",
       "-10.8050\n",
       " -7.9676\n",
       " -3.5210\n",
       "-10.6218\n",
       "-16.0874\n",
       "[torch.DoubleTensor of size 10]\n",
       "\n"
      ]
     },
     "execution_count": 1,
     "metadata": {},
     "output_type": "execute_result"
    },
    {
     "data": {
      "image/png": "[encoded data removed]",
      "text/plain": [
       "Console does not support images"
      ]
     },
     "metadata": {
      "image/png": {
       "height": 28,
       "width": 28
      }
     },
     "output_type": "display_data"
    },
    {
     "data": {
      "text/plain": [
       " -6.9252\n",
       " -8.8457\n",
       " -3.3560\n",
       " -6.4332\n",
       " -2.8645\n",
       "-10.5402\n",
       " -0.2024\n",
       " -4.0786\n",
       " -2.6387\n",
       " -8.6885\n",
       "[torch.DoubleTensor of size 10]\n",
       "\n"
      ]
     },
     "execution_count": 1,
     "metadata": {},
     "output_type": "execute_result"
    },
    {
     "data": {
      "image/png": "[encoded data removed]",
      "text/plain": [
       "Console does not support images"
      ]
     },
     "metadata": {
      "image/png": {
       "height": 28,
       "width": 28
      }
     },
     "output_type": "display_data"
    },
    {
     "data": {
      "text/plain": [
       " -8.1027\n",
       " -6.3919\n",
       " -7.2999\n",
       " -0.7992\n",
       " -5.8636\n",
       " -5.7360\n",
       " -2.8718\n",
       " -4.4221\n",
       " -0.7487\n",
       "-14.5355\n",
       "[torch.DoubleTensor of size 10]\n",
       "\n"
      ]
     },
     "execution_count": 1,
     "metadata": {},
     "output_type": "execute_result"
    },
    {
     "data": {
      "image/png": "[encoded data removed]",
      "text/plain": [
       "Console does not support images"
      ]
     },
     "metadata": {
      "image/png": {
       "height": 28,
       "width": 28
      }
     },
     "output_type": "display_data"
    },
    {
     "data": {
      "text/plain": [
       " -4.8951\n",
       " -0.3899\n",
       " -4.7445\n",
       " -8.0265\n",
       " -5.3867\n",
       " -2.8794\n",
       " -8.5295\n",
       " -1.4065\n",
       " -7.8206\n",
       "-12.7178\n",
       "[torch.DoubleTensor of size 10]\n",
       "\n"
      ]
     },
     "execution_count": 1,
     "metadata": {},
     "output_type": "execute_result"
    },
    {
     "data": {
      "image/png": "[encoded data removed]",
      "text/plain": [
       "Console does not support images"
      ]
     },
     "metadata": {
      "image/png": {
       "height": 28,
       "width": 28
      }
     },
     "output_type": "display_data"
    },
    {
     "data": {
      "text/plain": [
       " -0.2912\n",
       " -2.6994\n",
       " -2.0811\n",
       "-10.0995\n",
       " -4.8992\n",
       " -6.2927\n",
       " -6.3186\n",
       " -3.0210\n",
       " -7.2292\n",
       "-15.7776\n",
       "[torch.DoubleTensor of size 10]\n",
       "\n"
      ]
     },
     "execution_count": 1,
     "metadata": {},
     "output_type": "execute_result"
    },
    {
     "data": {
      "image/png": "[encoded data removed]",
      "text/plain": [
       "Console does not support images"
      ]
     },
     "metadata": {
      "image/png": {
       "height": 28,
       "width": 28
      }
     },
     "output_type": "display_data"
    },
    {
     "data": {
      "text/plain": [
       "-12.5950\n",
       " -6.7410\n",
       " -1.7057\n",
       "-12.5117\n",
       " -1.0617\n",
       " -9.5434\n",
       " -7.2912\n",
       " -5.0119\n",
       "-10.4686\n",
       " -0.7681\n",
       "[torch.DoubleTensor of size 10]\n",
       "\n"
      ]
     },
     "execution_count": 1,
     "metadata": {},
     "output_type": "execute_result"
    },
    {
     "data": {
      "image/png": "[encoded data removed]",
      "text/plain": [
       "Console does not support images"
      ]
     },
     "metadata": {
      "image/png": {
       "height": 28,
       "width": 28
      }
     },
     "output_type": "display_data"
    },
    {
     "data": {
      "text/plain": [
       " -0.5307\n",
       " -2.9085\n",
       " -1.6186\n",
       " -5.7056\n",
       " -3.5456\n",
       " -3.6008\n",
       " -4.9599\n",
       " -2.5031\n",
       " -4.5328\n",
       "-15.2954\n",
       "[torch.DoubleTensor of size 10]\n",
       "\n"
      ]
     },
     "execution_count": 1,
     "metadata": {},
     "output_type": "execute_result"
    },
    {
     "data": {
      "image/png": "[encoded data removed]",
      "text/plain": [
       "Console does not support images"
      ]
     },
     "metadata": {
      "image/png": {
       "height": 28,
       "width": 28
      }
     },
     "output_type": "display_data"
    },
    {
     "data": {
      "text/plain": [
       " -3.9435\n",
       " -0.2038\n",
       " -2.7354\n",
       "-10.6197\n",
       " -5.4005\n",
       " -3.9790\n",
       " -7.6726\n",
       " -2.5727\n",
       " -9.0335\n",
       "-13.1959\n",
       "[torch.DoubleTensor of size 10]\n",
       "\n"
      ]
     },
     "execution_count": 1,
     "metadata": {},
     "output_type": "execute_result"
    },
    {
     "data": {
      "image/png": "[encoded data removed]",
      "text/plain": [
       "Console does not support images"
      ]
     },
     "metadata": {
      "image/png": {
       "height": 28,
       "width": 28
      }
     },
     "output_type": "display_data"
    },
    {
     "data": {
      "text/plain": [
       "-12.5883\n",
       " -7.5652\n",
       " -6.3768\n",
       " -0.7861\n",
       " -2.8184\n",
       " -5.2548\n",
       " -1.8744\n",
       " -2.7660\n",
       " -1.3535\n",
       " -5.9663\n",
       "[torch.DoubleTensor of size 10]\n",
       "\n"
      ]
     },
     "execution_count": 1,
     "metadata": {},
     "output_type": "execute_result"
    },
    {
     "data": {
      "image/png": "[encoded data removed]",
      "text/plain": [
       "Console does not support images"
      ]
     },
     "metadata": {
      "image/png": {
       "height": 28,
       "width": 28
      }
     },
     "output_type": "display_data"
    },
    {
     "data": {
      "text/plain": [
       "-17.4296\n",
       " -4.3324\n",
       "-11.4980\n",
       " -0.3240\n",
       " -9.4463\n",
       " -1.9220\n",
       " -4.4862\n",
       " -6.9821\n",
       " -2.2537\n",
       "-12.8446\n",
       "[torch.DoubleTensor of size 10]\n",
       "\n"
      ]
     },
     "execution_count": 1,
     "metadata": {},
     "output_type": "execute_result"
    }
   ],
   "source": [
    "require 'torch'\n",
    "require 'nn'\n",
    "require 'paths'\n",
    "mnist = require 'mnist'\n",
    "\n",
    "fullset = mnist.traindataset()\n",
    "testset = mnist.testdataset()\n",
    "\n",
    "for i=1,fullset.size do\n",
    "    if fullset.label[i] == 0 then\n",
    "        fullset.label[i] = 10\n",
    "    end\n",
    "end\n",
    "\n",
    "dataset = {}\n",
    "\n",
    "for i=1,fullset.size do\n",
    "    dataset[i] = {fullset.data[i]:resize(784):double(), fullset.label[i]}\n",
    "end\n",
    "\n",
    "function dataset:size() \n",
    "    return fullset.size\n",
    "end\n",
    "\n",
    "mlp = nn.Sequential()\n",
    "mlp:add(nn.Linear(784,100))\n",
    "mlp:add(nn.Sigmoid())\n",
    "mlp:add(nn.Linear(100,10))\n",
    "mlp:add(nn.LogSoftMax())\n",
    "\n",
    "\n",
    "criterion = nn.ClassNLLCriterion()\n",
    "trainer = nn.StochasticGradient(mlp,criterion)\n",
    "trainer.learningRate = 0.01\n",
    "trainer.maxIteration = 5 -- just do 5 epochs of training.\n",
    "\n",
    "\n",
    "trainer:train(dataset)\n",
    "torch.save(\"mnist.t7\",mlp)\n",
    "\n",
    "print(\"predicting on testset\")\n",
    "\n",
    "for i=1,50 do\n",
    "    itorch.image(testset.data[i])\n",
    "    print((mlp:forward(testset.data[i]:resize(784):double())))\n",
    "end"
   ]
  },
  {
   "cell_type": "code",
   "execution_count": null,
   "metadata": {
    "collapsed": true
   },
   "outputs": [],
   "source": []
  }
 ],
 "metadata": {
  "kernelspec": {
   "display_name": "iTorch",
   "language": "lua",
   "name": "itorch"
  },
  "language_info": {
   "name": "lua",
   "version": "5.1"
  }
 },
 "nbformat": 4,
 "nbformat_minor": 1
}
