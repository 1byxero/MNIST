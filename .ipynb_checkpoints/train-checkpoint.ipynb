{
 "cells": [
  {
   "cell_type": "code",
   "execution_count": null,
   "metadata": {
    "collapsed": false,
    "scrolled": true
   },
   "outputs": [
    {
     "data": {
      "text/plain": [
       "# StochasticGradient: training\t\n"
      ]
     },
     "execution_count": 25,
     "metadata": {},
     "output_type": "execute_result"
    }
   ],
   "source": [
    "require 'torch'\n",
    "require 'nn'\n",
    "require 'paths'\n",
    "mnist = require 'mnist'\n",
    "\n",
    "fullset = mnist.traindataset()\n",
    "testset = mnist.testdataset()\n",
    "\n",
    "for i=1,fullset.size do\n",
    "    if fullset.label[i] == 0 then\n",
    "        fullset.label[i] = 10\n",
    "    end\n",
    "end\n",
    "\n",
    "dataset = {}\n",
    "\n",
    "for i=1,fullset.size do\n",
    "    dataset[i] = {fullset.data[i]:resize(784):double(), fullset.label[i]}\n",
    "end\n",
    "\n",
    "function dataset:size() \n",
    "    return fullset.size\n",
    "end\n",
    "\n",
    "mlp = nn.Sequential()\n",
    "mlp:add(nn.Linear(784,100))\n",
    "mlp:add(nn.Sigmoid())\n",
    "mlp:add(nn.Linear(100,10))\n",
    "mlp:add(nn.LogSoftMax())\n",
    "\n",
    "\n",
    "criterion = nn.ClassNLLCriterion()\n",
    "trainer = nn.StochasticGradient(mlp,criterion)\n",
    "trainer.learningRate = 0.01\n",
    "trainer.maxIteration = 5 -- just do 5 epochs of training.\n",
    "\n",
    "\n",
    "trainer:train(dataset)\n",
    "-- torch.save(\"mnist.t7\",mlp)\n",
    "\n",
    "-- for i=1,50 do\n",
    "--     itorch.image(fullset.data[i])\n",
    "--     print(fullset.label[i])\n",
    "-- end\n",
    "-- for i=1,5 do\n",
    "--     itorch.image(testset.data[i])\n",
    "--     print((mlp:forward(testset.data[i]:resize(784):double())))\n",
    "-- end"
   ]
  },
  {
   "cell_type": "code",
   "execution_count": null,
   "metadata": {
    "collapsed": true
   },
   "outputs": [],
   "source": []
  }
 ],
 "metadata": {
  "kernelspec": {
   "display_name": "iTorch",
   "language": "lua",
   "name": "itorch"
  },
  "language_info": {
   "name": "lua",
   "version": "5.1"
  }
 },
 "nbformat": 4,
 "nbformat_minor": 1
}
