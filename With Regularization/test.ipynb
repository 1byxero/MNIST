{
 "cells": [
  {
   "cell_type": "code",
   "execution_count": 19,
   "metadata": {
    "collapsed": false
   },
   "outputs": [
    {
     "data": {
      "text/plain": [
       "64.08\t\n"
      ]
     },
     "execution_count": 19,
     "metadata": {},
     "output_type": "execute_result"
    }
   ],
   "source": [
    "require 'torch'\n",
    "require 'nn'\n",
    "require 'paths'\n",
    "mnist = require 'mnist'\n",
    "\n",
    "-- fullset = mnist.traindataset()\n",
    "testset = mnist.testdataset()\n",
    "mlp = torch.load('mnist.t7')\n",
    "for i=1,testset.size do\n",
    "    if testset.label[i] == 0 then\n",
    "        testset.label[i] = 10\n",
    "    end\n",
    "end   \n",
    "    \n",
    "correct = 0\n",
    "for i=1,testset.size do\n",
    "--     itorch.image(testset.data[i])\n",
    "    local predict = mlp:forward(testset.data[i]:resize(784):double())\n",
    "    local max = torch.max(predict:exp())    \n",
    "    for j=1,10 do        \n",
    "        if predict[j] == max then\n",
    "--             print(j)\n",
    "            if j == testset.label[i] then\n",
    "                correct = correct + 1\n",
    "            end            \n",
    "        end\n",
    "    end            \n",
    "end\n",
    "\n",
    "accuracy = (correct/testset.size)*100\n",
    "print(accuracy)"
   ]
  }
 ],
 "metadata": {
  "kernelspec": {
   "display_name": "iTorch",
   "language": "lua",
   "name": "itorch"
  },
  "language_info": {
   "name": "lua",
   "version": "5.1"
  }
 },
 "nbformat": 4,
 "nbformat_minor": 1
}
