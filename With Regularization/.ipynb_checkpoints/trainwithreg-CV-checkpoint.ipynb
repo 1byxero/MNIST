{
 "cells": [
  {
   "cell_type": "code",
   "execution_count": null,
   "metadata": {
    "collapsed": false,
    "scrolled": false
   },
   "outputs": [
    {
     "data": {
      "text/plain": [
       "36000\t\n"
      ]
     },
     "execution_count": 1,
     "metadata": {},
     "output_type": "execute_result"
    },
    {
     "data": {
      "text/plain": [
       "# StochasticGradient: training\t\n"
      ]
     },
     "execution_count": 1,
     "metadata": {},
     "output_type": "execute_result"
    },
    {
     "data": {
      "text/plain": [
       "# current error = 0.4970340514001\t\n"
      ]
     },
     "execution_count": 1,
     "metadata": {},
     "output_type": "execute_result"
    },
    {
     "data": {
      "text/plain": [
       "# current error = 0.32579015181217\t\n"
      ]
     },
     "execution_count": 1,
     "metadata": {},
     "output_type": "execute_result"
    },
    {
     "data": {
      "text/plain": [
       "# current error = 0.29793971338241\t\n"
      ]
     },
     "execution_count": 1,
     "metadata": {},
     "output_type": "execute_result"
    },
    {
     "data": {
      "text/plain": [
       "# current error = 0.28043068776251\t\n"
      ]
     },
     "execution_count": 1,
     "metadata": {},
     "output_type": "execute_result"
    },
    {
     "data": {
      "text/plain": [
       "# current error = 0.27625588089228\t\n",
       "# StochasticGradient: you have reached the maximum number of iterations\t\n",
       "# training error = 0.27625588089228\t\n"
      ]
     },
     "execution_count": 1,
     "metadata": {},
     "output_type": "execute_result"
    },
    {
     "data": {
      "text/plain": [
       "CV accuracy for sigmoid model with lambda 5\t\n",
       "92.170833333333\t\n"
      ]
     },
     "execution_count": 1,
     "metadata": {},
     "output_type": "execute_result"
    },
    {
     "data": {
      "text/plain": [
       "# StochasticGradient: training\t\n"
      ]
     },
     "execution_count": 1,
     "metadata": {},
     "output_type": "execute_result"
    },
    {
     "data": {
      "text/plain": [
       "# current error = 0.49870692327242\t\n"
      ]
     },
     "execution_count": 1,
     "metadata": {},
     "output_type": "execute_result"
    },
    {
     "data": {
      "text/plain": [
       "# current error = 0.33354687617158\t\n"
      ]
     },
     "execution_count": 1,
     "metadata": {},
     "output_type": "execute_result"
    },
    {
     "data": {
      "text/plain": [
       "# current error = 0.31314023566821\t\n"
      ]
     },
     "execution_count": 1,
     "metadata": {},
     "output_type": "execute_result"
    },
    {
     "data": {
      "text/plain": [
       "# current error = 0.29390813283241\t\n"
      ]
     },
     "execution_count": 1,
     "metadata": {},
     "output_type": "execute_result"
    },
    {
     "data": {
      "text/plain": [
       "# current error = 0.27017514071999\t\n",
       "# StochasticGradient: you have reached the maximum number of iterations\t\n",
       "# training error = 0.27017514071999\t\n"
      ]
     },
     "execution_count": 1,
     "metadata": {},
     "output_type": "execute_result"
    },
    {
     "data": {
      "text/plain": [
       "CV accuracy for sigmoid model with lambda 10\t\n",
       "92.525\t\n"
      ]
     },
     "execution_count": 1,
     "metadata": {},
     "output_type": "execute_result"
    },
    {
     "data": {
      "text/plain": [
       "# StochasticGradient: training\t\n"
      ]
     },
     "execution_count": 1,
     "metadata": {},
     "output_type": "execute_result"
    },
    {
     "data": {
      "text/plain": [
       "# current error = 0.49816198731872\t\n"
      ]
     },
     "execution_count": 1,
     "metadata": {},
     "output_type": "execute_result"
    },
    {
     "data": {
      "text/plain": [
       "# current error = 0.33734274041309\t\n"
      ]
     },
     "execution_count": 1,
     "metadata": {},
     "output_type": "execute_result"
    },
    {
     "data": {
      "text/plain": [
       "# current error = 0.30826544494847\t\n"
      ]
     },
     "execution_count": 1,
     "metadata": {},
     "output_type": "execute_result"
    },
    {
     "data": {
      "text/plain": [
       "# current error = 0.29397326643287\t\n"
      ]
     },
     "execution_count": 1,
     "metadata": {},
     "output_type": "execute_result"
    },
    {
     "data": {
      "text/plain": [
       "# current error = 0.27803891167161\t\n",
       "# StochasticGradient: you have reached the maximum number of iterations\t\n",
       "# training error = 0.27803891167161\t\n"
      ]
     },
     "execution_count": 1,
     "metadata": {},
     "output_type": "execute_result"
    },
    {
     "data": {
      "text/plain": [
       "CV accuracy for sigmoid model with lambda 15\t\n",
       "91.991666666667\t\n"
      ]
     },
     "execution_count": 1,
     "metadata": {},
     "output_type": "execute_result"
    },
    {
     "data": {
      "text/plain": [
       "# StochasticGradient: training\t\n"
      ]
     },
     "execution_count": 1,
     "metadata": {},
     "output_type": "execute_result"
    },
    {
     "data": {
      "text/plain": [
       "# current error = 0.49348681100449\t\n"
      ]
     },
     "execution_count": 1,
     "metadata": {},
     "output_type": "execute_result"
    },
    {
     "data": {
      "text/plain": [
       "# current error = 0.3395301141799\t\n"
      ]
     },
     "execution_count": 1,
     "metadata": {},
     "output_type": "execute_result"
    },
    {
     "data": {
      "text/plain": [
       "# current error = 0.30155031674423\t\n"
      ]
     },
     "execution_count": 1,
     "metadata": {},
     "output_type": "execute_result"
    },
    {
     "data": {
      "text/plain": [
       "# current error = 0.28900811474553\t"
      ]
     },
     "execution_count": 1,
     "metadata": {},
     "output_type": "execute_result"
    },
    {
     "data": {
      "text/plain": [
       "\n"
      ]
     },
     "execution_count": 1,
     "metadata": {},
     "output_type": "execute_result"
    },
    {
     "data": {
      "text/plain": [
       "# current error = 0.27901118456415\t\n",
       "# StochasticGradient: you have reached the maximum number of iterations\t\n",
       "# training error = 0.27901118456415\t\n"
      ]
     },
     "execution_count": 1,
     "metadata": {},
     "output_type": "execute_result"
    },
    {
     "data": {
      "text/plain": [
       "CV accuracy for sigmoid model with lambda 13\t\n",
       "91.720833333333\t\n"
      ]
     },
     "execution_count": 1,
     "metadata": {},
     "output_type": "execute_result"
    },
    {
     "data": {
      "text/plain": [
       "# StochasticGradient: training\t\n"
      ]
     },
     "execution_count": 1,
     "metadata": {},
     "output_type": "execute_result"
    },
    {
     "data": {
      "text/plain": [
       "# current error = 0.7157996406034\t\n"
      ]
     },
     "execution_count": 1,
     "metadata": {},
     "output_type": "execute_result"
    },
    {
     "data": {
      "text/plain": [
       "# current error = 0.58931265227481\t\n"
      ]
     },
     "execution_count": 1,
     "metadata": {},
     "output_type": "execute_result"
    },
    {
     "data": {
      "text/plain": [
       "# current error = 0.58072707430368\t\n"
      ]
     },
     "execution_count": 1,
     "metadata": {},
     "output_type": "execute_result"
    },
    {
     "data": {
      "text/plain": [
       "# current error = 0.5877591291816\t\n"
      ]
     },
     "execution_count": 1,
     "metadata": {},
     "output_type": "execute_result"
    },
    {
     "data": {
      "text/plain": [
       "# current error = 0.58187223415261\t\n",
       "# StochasticGradient: you have reached the maximum number of iterations\t\n",
       "# training error = 0.58187223415261\t\n"
      ]
     },
     "execution_count": 1,
     "metadata": {},
     "output_type": "execute_result"
    },
    {
     "data": {
      "text/plain": [
       "CV accuracy for Tanh model with lambda 5\t\n",
       "82.5875\t\n"
      ]
     },
     "execution_count": 1,
     "metadata": {},
     "output_type": "execute_result"
    },
    {
     "data": {
      "text/plain": [
       "# StochasticGradient: training\t\n"
      ]
     },
     "execution_count": 1,
     "metadata": {},
     "output_type": "execute_result"
    },
    {
     "data": {
      "text/plain": [
       "# current error = 0.72534416977859\t\n"
      ]
     },
     "execution_count": 1,
     "metadata": {},
     "output_type": "execute_result"
    },
    {
     "data": {
      "text/plain": [
       "# current error = 0.62601392831888\t\n"
      ]
     },
     "execution_count": 1,
     "metadata": {},
     "output_type": "execute_result"
    },
    {
     "data": {
      "text/plain": [
       "# current error = 0.56953882478003\t\n"
      ]
     },
     "execution_count": 1,
     "metadata": {},
     "output_type": "execute_result"
    },
    {
     "data": {
      "text/plain": [
       "# current error = 0.58000467359888\t\n"
      ]
     },
     "execution_count": 1,
     "metadata": {},
     "output_type": "execute_result"
    },
    {
     "data": {
      "text/plain": [
       "# current error = 0.54939938801389\t\n",
       "# StochasticGradient: you have reached the maximum number of iterations\t\n",
       "# training error = 0.54939938801389\t\n"
      ]
     },
     "execution_count": 1,
     "metadata": {},
     "output_type": "execute_result"
    },
    {
     "data": {
      "text/plain": [
       "CV accuracy for Tanh model with lambda 10\t\n",
       "84.0875\t\n"
      ]
     },
     "execution_count": 1,
     "metadata": {},
     "output_type": "execute_result"
    },
    {
     "data": {
      "text/plain": [
       "# StochasticGradient: training\t\n"
      ]
     },
     "execution_count": 1,
     "metadata": {},
     "output_type": "execute_result"
    },
    {
     "data": {
      "text/plain": [
       "# current error = 0.71365483724141\t\n"
      ]
     },
     "execution_count": 1,
     "metadata": {},
     "output_type": "execute_result"
    },
    {
     "data": {
      "text/plain": [
       "# current error = 0.59906681191518\t\n"
      ]
     },
     "execution_count": 1,
     "metadata": {},
     "output_type": "execute_result"
    },
    {
     "data": {
      "text/plain": [
       "# current error = 0.55602651743129\t\n"
      ]
     },
     "execution_count": 1,
     "metadata": {},
     "output_type": "execute_result"
    },
    {
     "data": {
      "text/plain": [
       "# current error = 0.5519717958457\t\n"
      ]
     },
     "execution_count": 1,
     "metadata": {},
     "output_type": "execute_result"
    },
    {
     "data": {
      "text/plain": [
       "# current error = 0.55074158394645\t\n",
       "# StochasticGradient: you have reached the maximum number of iterations\t\n",
       "# training error = 0.55074158394645\t\n"
      ]
     },
     "execution_count": 1,
     "metadata": {},
     "output_type": "execute_result"
    },
    {
     "data": {
      "text/plain": [
       "CV accuracy for Tanh model with lambda 15\t\n",
       "83.841666666667\t\n"
      ]
     },
     "execution_count": 1,
     "metadata": {},
     "output_type": "execute_result"
    },
    {
     "data": {
      "text/plain": [
       "# StochasticGradient: training\t\n"
      ]
     },
     "execution_count": 1,
     "metadata": {},
     "output_type": "execute_result"
    },
    {
     "data": {
      "text/plain": [
       "# current error = 0.71520053552126\t\n"
      ]
     },
     "execution_count": 1,
     "metadata": {},
     "output_type": "execute_result"
    },
    {
     "data": {
      "text/plain": [
       "# current error = 0.57249029630899\t\n"
      ]
     },
     "execution_count": 1,
     "metadata": {},
     "output_type": "execute_result"
    },
    {
     "data": {
      "text/plain": [
       "# current error = 0.54489756494324\t\n"
      ]
     },
     "execution_count": 1,
     "metadata": {},
     "output_type": "execute_result"
    },
    {
     "data": {
      "text/plain": [
       "# current error = 0.52247974085167\t\n"
      ]
     },
     "execution_count": 1,
     "metadata": {},
     "output_type": "execute_result"
    },
    {
     "data": {
      "text/plain": [
       "# current error = 0.5293329518474\t\n",
       "# StochasticGradient: you have reached the maximum number of iterations\t\n",
       "# training error = 0.5293329518474\t\n"
      ]
     },
     "execution_count": 1,
     "metadata": {},
     "output_type": "execute_result"
    },
    {
     "data": {
      "text/plain": [
       "CV accuracy for Tanh model with lambda 7\t\n",
       "85.041666666667\t\n"
      ]
     },
     "execution_count": 1,
     "metadata": {},
     "output_type": "execute_result"
    },
    {
     "data": {
      "text/plain": [
       "# StochasticGradient: training\t\n"
      ]
     },
     "execution_count": 1,
     "metadata": {},
     "output_type": "execute_result"
    },
    {
     "data": {
      "text/plain": [
       "# current error = 2.4894160992701\t\n"
      ]
     },
     "execution_count": 1,
     "metadata": {},
     "output_type": "execute_result"
    },
    {
     "data": {
      "text/plain": [
       "# current error = 2.2203095620009\t\n"
      ]
     },
     "execution_count": 1,
     "metadata": {},
     "output_type": "execute_result"
    },
    {
     "data": {
      "text/plain": [
       "# current error = 2.2701938261301\t\n"
      ]
     },
     "execution_count": 1,
     "metadata": {},
     "output_type": "execute_result"
    },
    {
     "data": {
      "text/plain": [
       "# current error = 2.2755528543246\t\n"
      ]
     },
     "execution_count": 1,
     "metadata": {},
     "output_type": "execute_result"
    },
    {
     "data": {
      "text/plain": [
       "# current error = 2.3152842072396\t\n",
       "# StochasticGradient: you have reached the maximum number of iterations\t\n",
       "# training error = 2.3152842072396\t\n"
      ]
     },
     "execution_count": 1,
     "metadata": {},
     "output_type": "execute_result"
    },
    {
     "data": {
      "text/plain": [
       "CV accuracy for ReLU model with lambda 5\t\n",
       "12.058333333333\t\n"
      ]
     },
     "execution_count": 1,
     "metadata": {},
     "output_type": "execute_result"
    },
    {
     "data": {
      "text/plain": [
       "# StochasticGradient: training\t\n"
      ]
     },
     "execution_count": 1,
     "metadata": {},
     "output_type": "execute_result"
    },
    {
     "data": {
      "text/plain": [
       "# current error = 2.4873346826509\t\n"
      ]
     },
     "execution_count": 1,
     "metadata": {},
     "output_type": "execute_result"
    },
    {
     "data": {
      "text/plain": [
       "# current error = 2.3000347167965\t\n"
      ]
     },
     "execution_count": 1,
     "metadata": {},
     "output_type": "execute_result"
    },
    {
     "data": {
      "text/plain": [
       "# current error = 2.2726411406444\t"
      ]
     },
     "execution_count": 1,
     "metadata": {},
     "output_type": "execute_result"
    },
    {
     "data": {
      "text/plain": [
       "\n"
      ]
     },
     "execution_count": 1,
     "metadata": {},
     "output_type": "execute_result"
    },
    {
     "data": {
      "text/plain": [
       "# current error = 2.3054784257733\t\n"
      ]
     },
     "execution_count": 1,
     "metadata": {},
     "output_type": "execute_result"
    },
    {
     "data": {
      "text/plain": [
       "# current error = 2.3006972136397\t\n",
       "# StochasticGradient: you have reached the maximum number of iterations\t\n",
       "# training error = 2.3006972136397\t\n"
      ]
     },
     "execution_count": 1,
     "metadata": {},
     "output_type": "execute_result"
    },
    {
     "data": {
      "text/plain": [
       "CV accuracy for ReLU model with lambda 10\t\n",
       "10.958333333333\t\n"
      ]
     },
     "execution_count": 1,
     "metadata": {},
     "output_type": "execute_result"
    },
    {
     "data": {
      "text/plain": [
       "# StochasticGradient: training\t\n"
      ]
     },
     "execution_count": 1,
     "metadata": {},
     "output_type": "execute_result"
    },
    {
     "data": {
      "text/plain": [
       "# current error = 2.4299248015317\t\n"
      ]
     },
     "execution_count": 1,
     "metadata": {},
     "output_type": "execute_result"
    },
    {
     "data": {
      "text/plain": [
       "# current error = 2.3204026730561\t\n"
      ]
     },
     "execution_count": 1,
     "metadata": {},
     "output_type": "execute_result"
    },
    {
     "data": {
      "text/plain": [
       "# current error = 2.274270338176\t\n"
      ]
     },
     "execution_count": 1,
     "metadata": {},
     "output_type": "execute_result"
    },
    {
     "data": {
      "text/plain": [
       "# current error = 2.2862431796568\t\n"
      ]
     },
     "execution_count": 1,
     "metadata": {},
     "output_type": "execute_result"
    },
    {
     "data": {
      "text/plain": [
       "# current error = 2.291658543148\t\n",
       "# StochasticGradient: you have reached the maximum number of iterations\t\n",
       "# training error = 2.291658543148\t\n"
      ]
     },
     "execution_count": 1,
     "metadata": {},
     "output_type": "execute_result"
    },
    {
     "data": {
      "text/plain": [
       "CV accuracy for ReLU model with lambda 15\t\n",
       "11.016666666667\t\n"
      ]
     },
     "execution_count": 1,
     "metadata": {},
     "output_type": "execute_result"
    },
    {
     "data": {
      "text/plain": [
       "# StochasticGradient: training\t\n"
      ]
     },
     "execution_count": 1,
     "metadata": {},
     "output_type": "execute_result"
    },
    {
     "data": {
      "text/plain": [
       "# current error = 2.1313444236104\t\n"
      ]
     },
     "execution_count": 1,
     "metadata": {},
     "output_type": "execute_result"
    },
    {
     "data": {
      "text/plain": [
       "# current error = 0.97130997074237\t\n"
      ]
     },
     "execution_count": 1,
     "metadata": {},
     "output_type": "execute_result"
    },
    {
     "data": {
      "text/plain": [
       "# current error = 0.59304021873552\t\n"
      ]
     },
     "execution_count": 1,
     "metadata": {},
     "output_type": "execute_result"
    },
    {
     "data": {
      "text/plain": [
       "# current error = 0.53402088357663\t\n"
      ]
     },
     "execution_count": 1,
     "metadata": {},
     "output_type": "execute_result"
    },
    {
     "data": {
      "text/plain": [
       "# current error = 0.51440466623133\t\n"
      ]
     },
     "execution_count": 1,
     "metadata": {},
     "output_type": "execute_result"
    },
    {
     "data": {
      "text/plain": [
       "# current error = 0.48417197619489\t\n"
      ]
     },
     "execution_count": 1,
     "metadata": {},
     "output_type": "execute_result"
    }
   ],
   "source": [
    "require 'torch'\n",
    "require 'nn'\n",
    "require 'paths'\n",
    "-- require 'cunn'\n",
    "mnist = require 'mnist'\n",
    "\n",
    "fullset = mnist.traindataset()\n",
    "testset = mnist.testdataset()\n",
    "\n",
    "for i=1,fullset.size do\n",
    "    if fullset.label[i] == 0 then\n",
    "        fullset.label[i] = 10\n",
    "    end\n",
    "end\n",
    "\n",
    "trainset = {}\n",
    "cvset = {}\n",
    "\n",
    "trainsetsize = (fullset.size*60)/100\n",
    "\n",
    "for i=1,fullset.size do   \n",
    "    if i<36001 then\n",
    "        trainset[i] = {fullset.data[i]:resize(784):double(), fullset.label[i]}\n",
    "    else\n",
    "        cvset[i-trainsetsize] = {fullset.data[i]:resize(784):double(), fullset.label[i]}\n",
    "    end\n",
    "end\n",
    "\n",
    "function trainset:size() \n",
    "    return trainsetsize\n",
    "end\n",
    "\n",
    "print(trainset:size())\n",
    "\n",
    "-- -- model2 starts here\n",
    "-- mlp = nn.Sequential()\n",
    "-- mlp:add(nn.Linear(784,400))\n",
    "-- mlp:add(nn.Sigmoid())\n",
    "-- mlp:add(nn.Linear(400,400))\n",
    "-- mlp:add(nn.Sigmoid())\n",
    "-- mlp:add(nn.Linear(400,200))\n",
    "-- mlp:add(nn.Sigmoid())\n",
    "-- mlp:add(nn.Linear(200,10))\n",
    "-- mlp:add(nn.LogSoftMax())\n",
    "-- -- model2 ends here\n",
    "\n",
    "\n",
    "-- model1 starts here\n",
    "mlp = nn.Sequential()\n",
    "mlp:add(nn.Linear(784,400))\n",
    "mlp:add(nn.Sigmoid())\n",
    "mlp:add(nn.Linear(400,10))\n",
    "mlp:add(nn.LogSoftMax())\n",
    "-- model1 ends here\n",
    "\n",
    "criterion = nn.ClassNLLCriterion()\n",
    "-- criterion = nn.CrossEntropyCriterion()\n",
    "\n",
    "trainer = nn.StochasticGradient(mlp,criterion)\n",
    "trainer.learningRate = 0.001\n",
    "trainer.maxIteration = 5 -- just do 5 epochs of training.\n",
    "\n",
    "-- real magic of regularizatin will start here\n",
    "function regularize(modelmodule)\n",
    "    local parameters, _ = modelmodule.module:parameters()\n",
    "    local mul_factor = lambda/trainsetsize\n",
    "--     print(table.getn(parameters))\n",
    "--     print(parameters[1]) -- before update --confirm the regularization is working\n",
    "    for j= 1, #parameters do\n",
    "        local add_factor = mul_factor*torch.pow(parameters[j],2)\n",
    "        parameters[j]:add(add_factor)\n",
    "    end\n",
    "--     print(parameters[1]) --after update --used for confirm the regularization is working\n",
    "end\n",
    "-- magic of regularization ends here\n",
    "\n",
    "\n",
    "lambda = 5\n",
    "trainer.hookIteration = regularize\n",
    "trainer:train(trainset)\n",
    "\n",
    "correct = 0\n",
    "for i=1,#cvset do\n",
    "--     itorch.image(testset.data[i])\n",
    "    local predict = mlp:forward(cvset[i][1])\n",
    "    local max = torch.max(predict:exp())    \n",
    "    for j=1,10 do        \n",
    "        if predict[j] == max then\n",
    "--             print(j)\n",
    "            if j == cvset[i][2] then\n",
    "                correct = correct + 1\n",
    "            end            \n",
    "        end\n",
    "    end            \n",
    "end\n",
    "\n",
    "print('CV accuracy for sigmoid model with lambda 5')\n",
    "accuracy = (correct/#cvset)*100\n",
    "print(accuracy)\n",
    "\n",
    "-- model1 starts here\n",
    "mlp = nn.Sequential()\n",
    "mlp:add(nn.Linear(784,400))\n",
    "mlp:add(nn.Sigmoid())\n",
    "mlp:add(nn.Linear(400,10))\n",
    "mlp:add(nn.LogSoftMax())\n",
    "-- model1 ends here\n",
    "\n",
    "criterion = nn.ClassNLLCriterion()\n",
    "-- criterion = nn.CrossEntropyCriterion()\n",
    "\n",
    "trainer = nn.StochasticGradient(mlp,criterion)\n",
    "trainer.learningRate = 0.001\n",
    "trainer.maxIteration = 5 -- just do 5 epochs of training.\n",
    "\n",
    "\n",
    "lambda = 10\n",
    "trainer.hookIteration = regularize\n",
    "trainer:train(trainset)\n",
    "\n",
    "correct = 0\n",
    "for i=1,#cvset do\n",
    "--     itorch.image(testset.data[i])\n",
    "    local predict = mlp:forward(cvset[i][1])\n",
    "    local max = torch.max(predict:exp())    \n",
    "    for j=1,10 do        \n",
    "        if predict[j] == max then\n",
    "--             print(j)\n",
    "            if j == cvset[i][2] then\n",
    "                correct = correct + 1\n",
    "            end            \n",
    "        end\n",
    "    end            \n",
    "end\n",
    "\n",
    "print('CV accuracy for sigmoid model with lambda 10')\n",
    "accuracy = (correct/#cvset)*100\n",
    "print(accuracy)\n",
    "\n",
    "-- model1 starts here\n",
    "mlp = nn.Sequential()\n",
    "mlp:add(nn.Linear(784,400))\n",
    "mlp:add(nn.Sigmoid())\n",
    "mlp:add(nn.Linear(400,10))\n",
    "mlp:add(nn.LogSoftMax())\n",
    "-- model1 ends here\n",
    "\n",
    "criterion = nn.ClassNLLCriterion()\n",
    "-- criterion = nn.CrossEntropyCriterion()\n",
    "\n",
    "trainer = nn.StochasticGradient(mlp,criterion)\n",
    "trainer.learningRate = 0.001\n",
    "trainer.maxIteration = 5 -- just do 5 epochs of training.\n",
    "\n",
    "\n",
    "lambda = 15\n",
    "trainer.hookIteration = regularize\n",
    "trainer:train(trainset)\n",
    "\n",
    "correct = 0\n",
    "for i=1,#cvset do\n",
    "--     itorch.image(testset.data[i])\n",
    "    local predict = mlp:forward(cvset[i][1])\n",
    "    local max = torch.max(predict:exp())    \n",
    "    for j=1,10 do        \n",
    "        if predict[j] == max then\n",
    "--             print(j)\n",
    "            if j == cvset[i][2] then\n",
    "                correct = correct + 1\n",
    "            end            \n",
    "        end\n",
    "    end            \n",
    "end\n",
    "\n",
    "print('CV accuracy for sigmoid model with lambda 15')\n",
    "accuracy = (correct/#cvset)*100\n",
    "print(accuracy)\n",
    "\n",
    "-- model1 starts here\n",
    "mlp = nn.Sequential()\n",
    "mlp:add(nn.Linear(784,400))\n",
    "mlp:add(nn.Sigmoid())\n",
    "mlp:add(nn.Linear(400,10))\n",
    "mlp:add(nn.LogSoftMax())\n",
    "-- model1 ends here\n",
    "\n",
    "criterion = nn.ClassNLLCriterion()\n",
    "-- criterion = nn.CrossEntropyCriterion()\n",
    "\n",
    "trainer = nn.StochasticGradient(mlp,criterion)\n",
    "trainer.learningRate = 0.001\n",
    "trainer.maxIteration = 5 -- just do 5 epochs of training.\n",
    "\n",
    "\n",
    "lambda = 13\n",
    "trainer.hookIteration = regularize\n",
    "trainer:train(trainset)\n",
    "\n",
    "correct = 0\n",
    "for i=1,#cvset do\n",
    "--     itorch.image(testset.data[i])\n",
    "    local predict = mlp:forward(cvset[i][1])\n",
    "    local max = torch.max(predict:exp())    \n",
    "    for j=1,10 do        \n",
    "        if predict[j] == max then\n",
    "--             print(j)\n",
    "            if j == cvset[i][2] then\n",
    "                correct = correct + 1\n",
    "            end            \n",
    "        end\n",
    "    end            \n",
    "end\n",
    "\n",
    "print('CV accuracy for sigmoid model with lambda 13')\n",
    "accuracy = (correct/#cvset)*100\n",
    "print(accuracy)\n",
    "\n",
    "-- model1 starts here\n",
    "mlp = nn.Sequential()\n",
    "mlp:add(nn.Linear(784,400))\n",
    "mlp:add(nn.Tanh())\n",
    "mlp:add(nn.Linear(400,10))\n",
    "mlp:add(nn.LogSoftMax())\n",
    "-- model1 ends here\n",
    "\n",
    "criterion = nn.ClassNLLCriterion()\n",
    "-- criterion = nn.CrossEntropyCriterion()\n",
    "\n",
    "trainer = nn.StochasticGradient(mlp,criterion)\n",
    "trainer.learningRate = 0.001\n",
    "trainer.maxIteration = 5 -- just do 5 epochs of training.\n",
    "\n",
    "-- real magic of regularizatin will start here\n",
    "function regularize(modelmodule)\n",
    "    local parameters, _ = modelmodule.module:parameters()\n",
    "    local mul_factor = lambda/trainsetsize\n",
    "--     print(table.getn(parameters))\n",
    "--     print(parameters[1]) -- before update --confirm the regularization is working\n",
    "    for j= 1, #parameters do\n",
    "        local add_factor = mul_factor*torch.pow(parameters[j],2)\n",
    "        parameters[j]:add(add_factor)\n",
    "    end\n",
    "--     print(parameters[1]) --after update --used for confirm the regularization is working\n",
    "end\n",
    "-- magic of regularization ends here\n",
    "\n",
    "\n",
    "lambda = 5\n",
    "trainer.hookIteration = regularize\n",
    "trainer:train(trainset)\n",
    "\n",
    "correct = 0\n",
    "for i=1,#cvset do\n",
    "--     itorch.image(testset.data[i])\n",
    "    local predict = mlp:forward(cvset[i][1])\n",
    "    local max = torch.max(predict:exp())    \n",
    "    for j=1,10 do        \n",
    "        if predict[j] == max then\n",
    "--             print(j)\n",
    "            if j == cvset[i][2] then\n",
    "                correct = correct + 1\n",
    "            end            \n",
    "        end\n",
    "    end            \n",
    "end\n",
    "\n",
    "print('CV accuracy for Tanh model with lambda 5')\n",
    "accuracy = (correct/#cvset)*100\n",
    "print(accuracy)\n",
    "\n",
    "-- model1 starts here\n",
    "mlp = nn.Sequential()\n",
    "mlp:add(nn.Linear(784,400))\n",
    "mlp:add(nn.Tanh())\n",
    "mlp:add(nn.Linear(400,10))\n",
    "mlp:add(nn.LogSoftMax())\n",
    "-- model1 ends here\n",
    "\n",
    "criterion = nn.ClassNLLCriterion()\n",
    "-- criterion = nn.CrossEntropyCriterion()\n",
    "\n",
    "trainer = nn.StochasticGradient(mlp,criterion)\n",
    "trainer.learningRate = 0.001\n",
    "trainer.maxIteration = 5 -- just do 5 epochs of training.\n",
    "\n",
    "\n",
    "lambda = 10\n",
    "trainer.hookIteration = regularize\n",
    "trainer:train(trainset)\n",
    "\n",
    "correct = 0\n",
    "for i=1,#cvset do\n",
    "--     itorch.image(testset.data[i])\n",
    "    local predict = mlp:forward(cvset[i][1])\n",
    "    local max = torch.max(predict:exp())    \n",
    "    for j=1,10 do        \n",
    "        if predict[j] == max then\n",
    "--             print(j)\n",
    "            if j == cvset[i][2] then\n",
    "                correct = correct + 1\n",
    "            end            \n",
    "        end\n",
    "    end            \n",
    "end\n",
    "\n",
    "print('CV accuracy for Tanh model with lambda 10')\n",
    "accuracy = (correct/#cvset)*100\n",
    "print(accuracy)\n",
    "\n",
    "-- model1 starts here\n",
    "mlp = nn.Sequential()\n",
    "mlp:add(nn.Linear(784,400))\n",
    "mlp:add(nn.Tanh())\n",
    "mlp:add(nn.Linear(400,10))\n",
    "mlp:add(nn.LogSoftMax())\n",
    "-- model1 ends here\n",
    "\n",
    "criterion = nn.ClassNLLCriterion()\n",
    "-- criterion = nn.CrossEntropyCriterion()\n",
    "\n",
    "trainer = nn.StochasticGradient(mlp,criterion)\n",
    "trainer.learningRate = 0.001\n",
    "trainer.maxIteration = 5 -- just do 5 epochs of training.\n",
    "\n",
    "\n",
    "lambda = 15\n",
    "trainer.hookIteration = regularize\n",
    "trainer:train(trainset)\n",
    "\n",
    "correct = 0\n",
    "for i=1,#cvset do\n",
    "--     itorch.image(testset.data[i])\n",
    "    local predict = mlp:forward(cvset[i][1])\n",
    "    local max = torch.max(predict:exp())    \n",
    "    for j=1,10 do        \n",
    "        if predict[j] == max then\n",
    "--             print(j)\n",
    "            if j == cvset[i][2] then\n",
    "                correct = correct + 1\n",
    "            end            \n",
    "        end\n",
    "    end            \n",
    "end\n",
    "\n",
    "print('CV accuracy for Tanh model with lambda 15')\n",
    "accuracy = (correct/#cvset)*100\n",
    "print(accuracy)\n",
    "\n",
    "-- model1 starts here\n",
    "mlp = nn.Sequential()\n",
    "mlp:add(nn.Linear(784,400))\n",
    "mlp:add(nn.Tanh())\n",
    "mlp:add(nn.Linear(400,10))\n",
    "mlp:add(nn.LogSoftMax())\n",
    "-- model1 ends here\n",
    "\n",
    "criterion = nn.ClassNLLCriterion()\n",
    "-- criterion = nn.CrossEntropyCriterion()\n",
    "\n",
    "trainer = nn.StochasticGradient(mlp,criterion)\n",
    "trainer.learningRate = 0.001\n",
    "trainer.maxIteration = 5 -- just do 5 epochs of training.\n",
    "\n",
    "\n",
    "lambda = 7\n",
    "trainer.hookIteration = regularize\n",
    "trainer:train(trainset)\n",
    "\n",
    "correct = 0\n",
    "for i=1,#cvset do\n",
    "--     itorch.image(testset.data[i])\n",
    "    local predict = mlp:forward(cvset[i][1])\n",
    "    local max = torch.max(predict:exp())    \n",
    "    for j=1,10 do        \n",
    "        if predict[j] == max then\n",
    "--             print(j)\n",
    "            if j == cvset[i][2] then\n",
    "                correct = correct + 1\n",
    "            end            \n",
    "        end\n",
    "    end            \n",
    "end\n",
    "\n",
    "print('CV accuracy for Tanh model with lambda 7')\n",
    "accuracy = (correct/#cvset)*100\n",
    "print(accuracy)\n",
    "\n",
    "-- model1 starts here\n",
    "mlp = nn.Sequential()\n",
    "mlp:add(nn.Linear(784,400))\n",
    "mlp:add(nn.ReLU())\n",
    "mlp:add(nn.Linear(400,10))\n",
    "mlp:add(nn.LogSoftMax())\n",
    "-- model1 ends here\n",
    "\n",
    "criterion = nn.ClassNLLCriterion()\n",
    "-- criterion = nn.CrossEntropyCriterion()\n",
    "\n",
    "trainer = nn.StochasticGradient(mlp,criterion)\n",
    "trainer.learningRate = 0.001\n",
    "trainer.maxIteration = 5 -- just do 5 epochs of training.\n",
    "\n",
    "\n",
    "lambda = 5\n",
    "trainer.hookIteration = regularize\n",
    "trainer:train(trainset)\n",
    "\n",
    "correct = 0\n",
    "for i=1,#cvset do\n",
    "--     itorch.image(testset.data[i])\n",
    "    local predict = mlp:forward(cvset[i][1])\n",
    "    local max = torch.max(predict:exp())    \n",
    "    for j=1,10 do        \n",
    "        if predict[j] == max then\n",
    "--             print(j)\n",
    "            if j == cvset[i][2] then\n",
    "                correct = correct + 1\n",
    "            end            \n",
    "        end\n",
    "    end            \n",
    "end\n",
    "\n",
    "print('CV accuracy for ReLU model with lambda 5')\n",
    "accuracy = (correct/#cvset)*100\n",
    "print(accuracy)\n",
    "\n",
    "-- model1 starts here\n",
    "mlp = nn.Sequential()\n",
    "mlp:add(nn.Linear(784,400))\n",
    "mlp:add(nn.ReLU())\n",
    "mlp:add(nn.Linear(400,10))\n",
    "mlp:add(nn.LogSoftMax())\n",
    "-- model1 ends here\n",
    "\n",
    "criterion = nn.ClassNLLCriterion()\n",
    "-- criterion = nn.CrossEntropyCriterion()\n",
    "\n",
    "trainer = nn.StochasticGradient(mlp,criterion)\n",
    "trainer.learningRate = 0.001\n",
    "trainer.maxIteration = 5 -- just do 5 epochs of training.\n",
    "\n",
    "\n",
    "lambda = 10\n",
    "trainer.hookIteration = regularize\n",
    "trainer:train(trainset)\n",
    "\n",
    "correct = 0\n",
    "for i=1,#cvset do\n",
    "--     itorch.image(testset.data[i])\n",
    "    local predict = mlp:forward(cvset[i][1])\n",
    "    local max = torch.max(predict:exp())    \n",
    "    for j=1,10 do        \n",
    "        if predict[j] == max then\n",
    "--             print(j)\n",
    "            if j == cvset[i][2] then\n",
    "                correct = correct + 1\n",
    "            end            \n",
    "        end\n",
    "    end            \n",
    "end\n",
    "\n",
    "print('CV accuracy for ReLU model with lambda 10')\n",
    "accuracy = (correct/#cvset)*100\n",
    "print(accuracy)\n",
    "\n",
    "-- model1 starts here\n",
    "mlp = nn.Sequential()\n",
    "mlp:add(nn.Linear(784,400))\n",
    "mlp:add(nn.ReLU())\n",
    "mlp:add(nn.Linear(400,10))\n",
    "mlp:add(nn.LogSoftMax())\n",
    "-- model1 ends here\n",
    "\n",
    "criterion = nn.ClassNLLCriterion()\n",
    "-- criterion = nn.CrossEntropyCriterion()\n",
    "\n",
    "trainer = nn.StochasticGradient(mlp,criterion)\n",
    "trainer.learningRate = 0.001\n",
    "trainer.maxIteration = 5 -- just do 5 epochs of training.\n",
    "\n",
    "\n",
    "lambda = 15\n",
    "trainer.hookIteration = regularize\n",
    "trainer:train(trainset)\n",
    "\n",
    "correct = 0\n",
    "for i=1,#cvset do\n",
    "--     itorch.image(testset.data[i])\n",
    "    local predict = mlp:forward(cvset[i][1])\n",
    "    local max = torch.max(predict:exp())    \n",
    "    for j=1,10 do        \n",
    "        if predict[j] == max then\n",
    "--             print(j)\n",
    "            if j == cvset[i][2] then\n",
    "                correct = correct + 1\n",
    "            end            \n",
    "        end\n",
    "    end            \n",
    "end\n",
    "\n",
    "print('CV accuracy for ReLU model with lambda 15')\n",
    "accuracy = (correct/#cvset)*100\n",
    "print(accuracy)\n",
    "\n",
    "\n",
    "-- model2 starts here\n",
    "mlp = nn.Sequential()\n",
    "mlp:add(nn.Linear(784,400))\n",
    "mlp:add(nn.Sigmoid())\n",
    "mlp:add(nn.Linear(400,400))\n",
    "mlp:add(nn.Sigmoid())\n",
    "mlp:add(nn.Linear(400,200))\n",
    "mlp:add(nn.Sigmoid())\n",
    "mlp:add(nn.Linear(200,10))\n",
    "mlp:add(nn.LogSoftMax())\n",
    "-- model2 ends here\n",
    "\n",
    "criterion = nn.ClassNLLCriterion()\n",
    "-- criterion = nn.CrossEntropyCriterion()\n",
    "\n",
    "trainer = nn.StochasticGradient(mlp,criterion)\n",
    "trainer.learningRate = 0.001\n",
    "trainer.maxIteration = 10 -- just do 10 epochs of training.\n",
    "\n",
    "\n",
    "lambda = 5\n",
    "trainer.hookIteration = regularize\n",
    "trainer:train(trainset)\n",
    "\n",
    "correct = 0\n",
    "for i=1,#cvset do\n",
    "--     itorch.image(testset.data[i])\n",
    "    local predict = mlp:forward(cvset[i][1])\n",
    "    local max = torch.max(predict:exp())    \n",
    "    for j=1,10 do        \n",
    "        if predict[j] == max then\n",
    "--             print(j)\n",
    "            if j == cvset[i][2] then\n",
    "                correct = correct + 1\n",
    "            end            \n",
    "        end\n",
    "    end            \n",
    "end\n",
    "\n",
    "print('CV accuracy for Sigmoid model with lambda 5')\n",
    "accuracy = (correct/#cvset)*100\n",
    "print(accuracy)\n",
    "\n",
    "-- model2 starts here\n",
    "mlp = nn.Sequential()\n",
    "mlp:add(nn.Linear(784,400))\n",
    "mlp:add(nn.Sigmoid())\n",
    "mlp:add(nn.Linear(400,400))\n",
    "mlp:add(nn.Sigmoid())\n",
    "mlp:add(nn.Linear(400,200))\n",
    "mlp:add(nn.Sigmoid())\n",
    "mlp:add(nn.Linear(200,10))\n",
    "mlp:add(nn.LogSoftMax())\n",
    "-- model2 ends here\n",
    "\n",
    "criterion = nn.ClassNLLCriterion()\n",
    "-- criterion = nn.CrossEntropyCriterion()\n",
    "\n",
    "trainer = nn.StochasticGradient(mlp,criterion)\n",
    "trainer.learningRate = 0.001\n",
    "trainer.maxIteration = 10 -- just do 10 epochs of training.\n",
    "\n",
    "\n",
    "lambda = 10\n",
    "trainer.hookIteration = regularize\n",
    "trainer:train(trainset)\n",
    "\n",
    "correct = 0\n",
    "for i=1,#cvset do\n",
    "--     itorch.image(testset.data[i])\n",
    "    local predict = mlp:forward(cvset[i][1])\n",
    "    local max = torch.max(predict:exp())    \n",
    "    for j=1,10 do        \n",
    "        if predict[j] == max then\n",
    "--             print(j)\n",
    "            if j == cvset[i][2] then\n",
    "                correct = correct + 1\n",
    "            end            \n",
    "        end\n",
    "    end            \n",
    "end\n",
    "\n",
    "print('CV accuracy for Sigmoid model with lambda 10')\n",
    "accuracy = (correct/#cvset)*100\n",
    "print(accuracy)\n",
    "\n",
    "-- model2 starts here\n",
    "mlp = nn.Sequential()\n",
    "mlp:add(nn.Linear(784,400))\n",
    "mlp:add(nn.Sigmoid())\n",
    "mlp:add(nn.Linear(400,400))\n",
    "mlp:add(nn.Sigmoid())\n",
    "mlp:add(nn.Linear(400,200))\n",
    "mlp:add(nn.Sigmoid())\n",
    "mlp:add(nn.Linear(200,10))\n",
    "mlp:add(nn.LogSoftMax())\n",
    "-- model2 ends here\n",
    "\n",
    "criterion = nn.ClassNLLCriterion()\n",
    "-- criterion = nn.CrossEntropyCriterion()\n",
    "\n",
    "trainer = nn.StochasticGradient(mlp,criterion)\n",
    "trainer.learningRate = 0.001\n",
    "trainer.maxIteration = 10 -- just do 10 epochs of training.\n",
    "\n",
    "\n",
    "lambda = 15\n",
    "trainer.hookIteration = regularize\n",
    "trainer:train(trainset)\n",
    "\n",
    "correct = 0\n",
    "for i=1,#cvset do\n",
    "--     itorch.image(testset.data[i])\n",
    "    local predict = mlp:forward(cvset[i][1])\n",
    "    local max = torch.max(predict:exp())    \n",
    "    for j=1,10 do        \n",
    "        if predict[j] == max then\n",
    "--             print(j)\n",
    "            if j == cvset[i][2] then\n",
    "                correct = correct + 1\n",
    "            end            \n",
    "        end\n",
    "    end            \n",
    "end\n",
    "\n",
    "print('CV accuracy for Sigmoid model with lambda 15')\n",
    "accuracy = (correct/#cvset)*100\n",
    "print(accuracy)\n",
    "\n",
    "-- model2 starts here\n",
    "mlp = nn.Sequential()\n",
    "mlp:add(nn.Linear(784,400))\n",
    "mlp:add(nn.Tanh())\n",
    "mlp:add(nn.Linear(400,400))\n",
    "mlp:add(nn.Tanh())\n",
    "mlp:add(nn.Linear(400,200))\n",
    "mlp:add(nn.Tanh())\n",
    "mlp:add(nn.Linear(200,10))\n",
    "mlp:add(nn.LogSoftMax())\n",
    "-- model2 ends here\n",
    "\n",
    "criterion = nn.ClassNLLCriterion()\n",
    "-- criterion = nn.CrossEntropyCriterion()\n",
    "\n",
    "trainer = nn.StochasticGradient(mlp,criterion)\n",
    "trainer.learningRate = 0.001\n",
    "trainer.maxIteration = 10 -- just do 10 epochs of training.\n",
    "\n",
    "\n",
    "lambda = 5\n",
    "trainer.hookIteration = regularize\n",
    "trainer:train(trainset)\n",
    "\n",
    "correct = 0\n",
    "for i=1,#cvset do\n",
    "--     itorch.image(testset.data[i])\n",
    "    local predict = mlp:forward(cvset[i][1])\n",
    "    local max = torch.max(predict:exp())    \n",
    "    for j=1,10 do        \n",
    "        if predict[j] == max then\n",
    "--             print(j)\n",
    "            if j == cvset[i][2] then\n",
    "                correct = correct + 1\n",
    "            end            \n",
    "        end\n",
    "    end            \n",
    "end\n",
    "\n",
    "print('CV accuracy for Tanh model with lambda 5')\n",
    "accuracy = (correct/#cvset)*100\n",
    "print(accuracy)\n",
    "\n",
    "-- model2 starts here\n",
    "mlp = nn.Sequential()\n",
    "mlp:add(nn.Linear(784,400))\n",
    "mlp:add(nn.Tanh())\n",
    "mlp:add(nn.Linear(400,400))\n",
    "mlp:add(nn.Tanh())\n",
    "mlp:add(nn.Linear(400,200))\n",
    "mlp:add(nn.Tanh())\n",
    "mlp:add(nn.Linear(200,10))\n",
    "mlp:add(nn.LogSoftMax())\n",
    "-- model2 ends here\n",
    "\n",
    "criterion = nn.ClassNLLCriterion()\n",
    "-- criterion = nn.CrossEntropyCriterion()\n",
    "\n",
    "trainer = nn.StochasticGradient(mlp,criterion)\n",
    "trainer.learningRate = 0.001\n",
    "trainer.maxIteration = 10 -- just do 10 epochs of training.\n",
    "\n",
    "\n",
    "lambda = 10\n",
    "trainer.hookIteration = regularize\n",
    "trainer:train(trainset)\n",
    "\n",
    "correct = 0\n",
    "for i=1,#cvset do\n",
    "--     itorch.image(testset.data[i])\n",
    "    local predict = mlp:forward(cvset[i][1])\n",
    "    local max = torch.max(predict:exp())    \n",
    "    for j=1,10 do        \n",
    "        if predict[j] == max then\n",
    "--             print(j)\n",
    "            if j == cvset[i][2] then\n",
    "                correct = correct + 1\n",
    "            end            \n",
    "        end\n",
    "    end            \n",
    "end\n",
    "\n",
    "print('CV accuracy for Tanh model with lambda 10')\n",
    "accuracy = (correct/#cvset)*100\n",
    "print(accuracy)\n",
    "\n",
    "-- model2 starts here\n",
    "mlp = nn.Sequential()\n",
    "mlp:add(nn.Linear(784,400))\n",
    "mlp:add(nn.Tanh())\n",
    "mlp:add(nn.Linear(400,400))\n",
    "mlp:add(nn.Tanh())\n",
    "mlp:add(nn.Linear(400,200))\n",
    "mlp:add(nn.Tanh())\n",
    "mlp:add(nn.Linear(200,10))\n",
    "mlp:add(nn.LogSoftMax())\n",
    "-- model2 ends here\n",
    "\n",
    "\n",
    "criterion = nn.ClassNLLCriterion()\n",
    "-- criterion = nn.CrossEntropyCriterion()\n",
    "\n",
    "trainer = nn.StochasticGradient(mlp,criterion)\n",
    "trainer.learningRate = 0.001\n",
    "trainer.maxIteration = 10 -- just do 10 epochs of training.\n",
    "\n",
    "\n",
    "lambda = 15\n",
    "trainer.hookIteration = regularize\n",
    "trainer:train(trainset)\n",
    "\n",
    "correct = 0\n",
    "for i=1,#cvset do\n",
    "--     itorch.image(testset.data[i])\n",
    "    local predict = mlp:forward(cvset[i][1])\n",
    "    local max = torch.max(predict:exp())    \n",
    "    for j=1,10 do        \n",
    "        if predict[j] == max then\n",
    "--             print(j)\n",
    "            if j == cvset[i][2] then\n",
    "                correct = correct + 1\n",
    "            end            \n",
    "        end\n",
    "    end            \n",
    "end\n",
    "\n",
    "print('CV accuracy for tanh model with lambda 15')\n",
    "accuracy = (correct/#cvset)*100\n",
    "print(accuracy)\n",
    "\n",
    "-- model2 starts here\n",
    "mlp = nn.Sequential()\n",
    "mlp:add(nn.Linear(784,400))\n",
    "mlp:add(nn.ReLU())\n",
    "mlp:add(nn.Linear(400,400))\n",
    "mlp:add(nn.ReLU())\n",
    "mlp:add(nn.Linear(400,200))\n",
    "mlp:add(nn.ReLU())\n",
    "mlp:add(nn.Linear(200,10))\n",
    "mlp:add(nn.LogSoftMax())\n",
    "-- model2 ends here\n",
    "\n",
    "criterion = nn.ClassNLLCriterion()\n",
    "-- criterion = nn.CrossEntropyCriterion()\n",
    "\n",
    "trainer = nn.StochasticGradient(mlp,criterion)\n",
    "trainer.learningRate = 0.001\n",
    "trainer.maxIteration = 10 -- just do 10 epochs of training.\n",
    "\n",
    "\n",
    "lambda = 5\n",
    "trainer.hookIteration = regularize\n",
    "trainer:train(trainset)\n",
    "\n",
    "correct = 0\n",
    "for i=1,#cvset do\n",
    "--     itorch.image(testset.data[i])\n",
    "    local predict = mlp:forward(cvset[i][1])\n",
    "    local max = torch.max(predict:exp())    \n",
    "    for j=1,10 do        \n",
    "        if predict[j] == max then\n",
    "--             print(j)\n",
    "            if j == cvset[i][2] then\n",
    "                correct = correct + 1\n",
    "            end            \n",
    "        end\n",
    "    end            \n",
    "end\n",
    "\n",
    "print('CV accuracy for ReLU model with lambda 5')\n",
    "accuracy = (correct/#cvset)*100\n",
    "print(accuracy)\n",
    "\n",
    "-- model2 starts here\n",
    "mlp = nn.Sequential()\n",
    "mlp:add(nn.Linear(784,400))\n",
    "mlp:add(nn.ReLU())\n",
    "mlp:add(nn.Linear(400,400))\n",
    "mlp:add(nn.ReLU())\n",
    "mlp:add(nn.Linear(400,200))\n",
    "mlp:add(nn.ReLU())\n",
    "mlp:add(nn.Linear(200,10))\n",
    "mlp:add(nn.LogSoftMax())\n",
    "-- model2 ends here\n",
    "\n",
    "criterion = nn.ClassNLLCriterion()\n",
    "-- criterion = nn.CrossEntropyCriterion()\n",
    "\n",
    "trainer = nn.StochasticGradient(mlp,criterion)\n",
    "trainer.learningRate = 0.001\n",
    "trainer.maxIteration = 10 -- just do 10 epochs of training.\n",
    "\n",
    "\n",
    "lambda = 10\n",
    "trainer.hookIteration = regularize\n",
    "trainer:train(trainset)\n",
    "\n",
    "correct = 0\n",
    "for i=1,#cvset do\n",
    "--     itorch.image(testset.data[i])\n",
    "    local predict = mlp:forward(cvset[i][1])\n",
    "    local max = torch.max(predict:exp())    \n",
    "    for j=1,10 do        \n",
    "        if predict[j] == max then\n",
    "--             print(j)\n",
    "            if j == cvset[i][2] then\n",
    "                correct = correct + 1\n",
    "            end            \n",
    "        end\n",
    "    end            \n",
    "end\n",
    "\n",
    "print('CV accuracy for ReLU model with lambda 10')\n",
    "accuracy = (correct/#cvset)*100\n",
    "print(accuracy)\n",
    "\n",
    "-- model2 starts here\n",
    "mlp = nn.Sequential()\n",
    "mlp:add(nn.Linear(784,400))\n",
    "mlp:add(nn.ReLU())\n",
    "mlp:add(nn.Linear(400,400))\n",
    "mlp:add(nn.ReLU())\n",
    "mlp:add(nn.Linear(400,200))\n",
    "mlp:add(nn.ReLU())\n",
    "mlp:add(nn.Linear(200,10))\n",
    "mlp:add(nn.LogSoftMax())\n",
    "-- model2 ends here\n",
    "\n",
    "\n",
    "criterion = nn.ClassNLLCriterion()\n",
    "-- criterion = nn.CrossEntropyCriterion()\n",
    "\n",
    "trainer = nn.StochasticGradient(mlp,criterion)\n",
    "trainer.learningRate = 0.001\n",
    "trainer.maxIteration = 10 -- just do 10 epochs of training.\n",
    "\n",
    "\n",
    "lambda = 15\n",
    "trainer.hookIteration = regularize\n",
    "trainer:train(trainset)\n",
    "\n",
    "correct = 0\n",
    "for i=1,#cvset do\n",
    "--     itorch.image(testset.data[i])\n",
    "    local predict = mlp:forward(cvset[i][1])\n",
    "    local max = torch.max(predict:exp())    \n",
    "    for j=1,10 do        \n",
    "        if predict[j] == max then\n",
    "--             print(j)\n",
    "            if j == cvset[i][2] then\n",
    "                correct = correct + 1\n",
    "            end            \n",
    "        end\n",
    "    end            \n",
    "end\n",
    "\n",
    "print('CV accuracy for ReLU model with lambda 15')\n",
    "accuracy = (correct/#cvset)*100\n",
    "print(accuracy)"
   ]
  },
  {
   "cell_type": "markdown",
   "metadata": {
    "collapsed": true
   },
   "source": []
  }
 ],
 "metadata": {
  "kernelspec": {
   "display_name": "iTorch",
   "language": "lua",
   "name": "itorch"
  },
  "language_info": {
   "name": "lua",
   "version": "5.1"
  }
 },
 "nbformat": 4,
 "nbformat_minor": 1
}
