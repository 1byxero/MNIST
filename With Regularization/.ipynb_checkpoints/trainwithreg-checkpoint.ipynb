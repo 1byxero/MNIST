{
 "cells": [
  {
   "cell_type": "code",
   "execution_count": null,
   "metadata": {
    "collapsed": false,
    "scrolled": false
   },
   "outputs": [
    {
     "data": {
      "text/plain": [
       "Model started training with regularization\t\n"
      ]
     },
     "execution_count": 1,
     "metadata": {},
     "output_type": "execute_result"
    },
    {
     "data": {
      "text/plain": [
       "# StochasticGradient: training\t\n"
      ]
     },
     "execution_count": 1,
     "metadata": {},
     "output_type": "execute_result"
    }
   ],
   "source": [
    "require 'torch'\n",
    "require 'nn'\n",
    "require 'paths'\n",
    "-- require 'cunn'\n",
    "mnist = require 'mnist'\n",
    "\n",
    "fullset = mnist.traindataset()\n",
    "testset = mnist.testdataset()\n",
    "\n",
    "for i=1,fullset.size do\n",
    "    if fullset.label[i] == 0 then\n",
    "        fullset.label[i] = 10\n",
    "    end\n",
    "end\n",
    "\n",
    "dataset = {}\n",
    "\n",
    "for i=1,fullset.size do\n",
    "    dataset[i] = {fullset.data[i]:resize(784):double(), fullset.label[i]}\n",
    "end\n",
    "\n",
    "function dataset:size() \n",
    "    return fullset.size\n",
    "end\n",
    "\n",
    "mlp = nn.Sequential()\n",
    "mlp:add(nn.Linear(784,400))\n",
    "mlp:add(nn.Sigmoid())\n",
    "-- mlp:add(nn.Linear(400,200))\n",
    "-- mlp:add(nn.Linear(400,400))\n",
    "-- mlp:add(nn.Sigmoid())\n",
    "mlp:add(nn.Linear(400,10))\n",
    "-- mlp:add(nn.Linear(400,200))\n",
    "-- mlp:add(nn.Sigmoid())\n",
    "-- mlp:add(nn.Linear(200,10))\n",
    "mlp:add(nn.LogSoftMax())\n",
    "-- mlp:cuda()\n",
    "-- criterion = nn.ClassNLLCriterion()\n",
    "criterion = nn.CrossEntropyCriterion()\n",
    "-- criterion:cuda()\n",
    "trainer = nn.StochasticGradient(mlp,criterion)\n",
    "trainer.learningRate = 0.001\n",
    "trainer.maxIteration = 1 -- just do 1 epochs of training.\n",
    "-- trainer.help\n",
    "-- trainer:cuda()\n",
    "\n",
    "function train(model)\n",
    "    model:train(dataset)\n",
    "end\n",
    "\n",
    "-- real magic of regularizatin will start here\n",
    "function regularize(modelmodule, lambda)\n",
    "--     local lambda = 5\n",
    "    local parameters, _ = modelmodule:parameters()\n",
    "    local mul_factor = lambda/dataset.size()\n",
    "--     print(table.getn(parameters))\n",
    "--     print(parameters[1]) -- before update --confirm the regularization is working\n",
    "    for j= 1, #parameters do\n",
    "        local add_factor = mul_factor*torch.pow(parameters[j],2)\n",
    "        parameters[j]:add(add_factor)\n",
    "    end\n",
    "--     print(parameters[1]) --after update --used for confirm the regularization is working\n",
    "end\n",
    "-- magic of regularization ends here\n",
    "\n",
    "epochs = 5\n",
    "print(\"Model started training with regularization\")\n",
    "for i= 1, epochs do \n",
    "    train(trainer)\n",
    "--     regularize(trainer.module, 15)\n",
    "--     local parameters, _ = trainer.module:parameters()\n",
    "--     print(parameters[1])    --is reflected in network?--these 2 lines are just to confirm the regularization is working\n",
    "end\n",
    "print(\"Model with reg trained\")\n",
    "torch.save(\"mnist_reg.t7\",mlp)\n",
    "\n",
    "\n",
    "mlp = torch.load('mnist_reg.t7')\n",
    "for i=1,testset.size do\n",
    "    if testset.label[i] == 0 then\n",
    "        testset.label[i] = 10\n",
    "    end\n",
    "end   \n",
    "    \n",
    "correct = 0\n",
    "for i=1,testset.size do\n",
    "--     itorch.image(testset.data[i])\n",
    "    local predict = mlp:forward(testset.data[i]:resize(784):double())\n",
    "    local max = torch.max(predict:exp())    \n",
    "    for j=1,10 do        \n",
    "        if predict[j] == max then\n",
    "--             print(j)\n",
    "            if j == testset.label[i] then\n",
    "                correct = correct + 1\n",
    "            end            \n",
    "        end\n",
    "    end            \n",
    "end\n",
    "\n",
    "accuracy = (correct/testset.size)*100\n",
    "print(accuracy)"
   ]
  },
  {
   "cell_type": "code",
   "execution_count": null,
   "metadata": {
    "collapsed": true
   },
   "outputs": [],
   "source": []
  }
 ],
 "metadata": {
  "kernelspec": {
   "display_name": "iTorch",
   "language": "lua",
   "name": "itorch"
  },
  "language_info": {
   "name": "lua",
   "version": "5.1"
  }
 },
 "nbformat": 4,
 "nbformat_minor": 1
}
