{
 "cells": [
  {
   "cell_type": "code",
   "execution_count": 1,
   "metadata": {
    "collapsed": false,
    "scrolled": true
   },
   "outputs": [
    {
     "data": {
      "text/plain": [
       "36000\t\n"
      ]
     },
     "execution_count": 1,
     "metadata": {},
     "output_type": "execute_result"
    },
    {
     "data": {
      "text/plain": [
       "# StochasticGradient: training\t\n"
      ]
     },
     "execution_count": 1,
     "metadata": {},
     "output_type": "execute_result"
    },
    {
     "data": {
      "text/plain": [
       "# current error = 0.31432486960247\t\n"
      ]
     },
     "execution_count": 1,
     "metadata": {},
     "output_type": "execute_result"
    },
    {
     "data": {
      "text/plain": [
       "# current error = 0.14589251048754\t\n"
      ]
     },
     "execution_count": 1,
     "metadata": {},
     "output_type": "execute_result"
    },
    {
     "data": {
      "text/plain": [
       "# current error = 0.10333737338998\t\n"
      ]
     },
     "execution_count": 1,
     "metadata": {},
     "output_type": "execute_result"
    },
    {
     "data": {
      "text/plain": [
       "# current error = 0.081477937307493\t\n"
      ]
     },
     "execution_count": 1,
     "metadata": {},
     "output_type": "execute_result"
    },
    {
     "data": {
      "text/plain": [
       "# current error = 0.067570388140394\t\n"
      ]
     },
     "execution_count": 1,
     "metadata": {},
     "output_type": "execute_result"
    },
    {
     "data": {
      "text/plain": [
       "# current error = 0.064093135838911\t\n"
      ]
     },
     "execution_count": 1,
     "metadata": {},
     "output_type": "execute_result"
    },
    {
     "data": {
      "text/plain": [
       "# current error = 0.052981080957829\t\n"
      ]
     },
     "execution_count": 1,
     "metadata": {},
     "output_type": "execute_result"
    },
    {
     "data": {
      "text/plain": [
       "# current error = 0.051165348934543\t\n"
      ]
     },
     "execution_count": 1,
     "metadata": {},
     "output_type": "execute_result"
    },
    {
     "data": {
      "text/plain": [
       "# current error = 0.047876043053995\t\n"
      ]
     },
     "execution_count": 1,
     "metadata": {},
     "output_type": "execute_result"
    },
    {
     "data": {
      "text/plain": [
       "# current error = 0.047885603979919\t\n",
       "# StochasticGradient: you have reached the maximum number of iterations\t\n",
       "# training error = 0.047885603979919\t\n"
      ]
     },
     "execution_count": 1,
     "metadata": {},
     "output_type": "execute_result"
    },
    {
     "data": {
      "text/plain": [
       "CV accuracy for ReLU model with lambda 10\t\n",
       "97.008333333333\t\n"
      ]
     },
     "execution_count": 1,
     "metadata": {},
     "output_type": "execute_result"
    }
   ],
   "source": [
    "require 'torch'\n",
    "require 'nn'\n",
    "require 'paths'\n",
    "-- require 'cunn'\n",
    "mnist = require 'mnist'\n",
    "\n",
    "fullset = mnist.traindataset()\n",
    "testset = mnist.testdataset()\n",
    "\n",
    "for i=1,fullset.size do\n",
    "    if fullset.label[i] == 0 then\n",
    "        fullset.label[i] = 10\n",
    "    end\n",
    "end\n",
    "\n",
    "trainset = {}\n",
    "cvset = {}\n",
    "\n",
    "trainsetsize = (fullset.size*60)/100\n",
    "\n",
    "for i=1,fullset.size do   \n",
    "    if i<36001 then\n",
    "        trainset[i] = {fullset.data[i]:resize(784):double(), fullset.label[i]}\n",
    "    else\n",
    "        cvset[i-trainsetsize] = {fullset.data[i]:resize(784):double(), fullset.label[i]}\n",
    "    end\n",
    "end\n",
    "\n",
    "function trainset:size() \n",
    "    return trainsetsize\n",
    "end\n",
    "\n",
    "print(trainset:size())\n",
    "\n",
    "-- model2 starts here\n",
    "mlp = nn.Sequential()\n",
    "mlp:add(nn.Linear(784,400))\n",
    "mlp:add(nn.ReLU())\n",
    "mlp:add(nn.Linear(400,400))\n",
    "mlp:add(nn.ReLU())\n",
    "mlp:add(nn.Linear(400,200))\n",
    "mlp:add(nn.ReLU())\n",
    "mlp:add(nn.Linear(200,10))\n",
    "mlp:add(nn.LogSoftMax())\n",
    "-- model2 ends here\n",
    "\n",
    "criterion = nn.ClassNLLCriterion()\n",
    "-- criterion = nn.CrossEntropyCriterion()\n",
    "\n",
    "trainer = nn.StochasticGradient(mlp,criterion)\n",
    "trainer.learningRate = 0.001\n",
    "trainer.maxIteration = 10 -- just do 10 epochs of training.\n",
    "\n",
    "function regularize(modelmodule)\n",
    "    local parameters, _ = modelmodule.module:parameters()\n",
    "    local mul_factor = lambda/trainsetsize\n",
    "--     print(table.getn(parameters))\n",
    "--     print(parameters[1]) -- before update --confirm the regularization is working\n",
    "    for j= 1, #parameters do\n",
    "        local add_factor = mul_factor*torch.pow(parameters[j],2)\n",
    "        parameters[j]:add(add_factor)\n",
    "    end\n",
    "--     print(parameters[1]) --after update --used for confirm the regularization is working\n",
    "end\n",
    "-- magic of regularization ends here\n",
    "\n",
    "lambda = 10\n",
    "trainer.hookIteration = regularize\n",
    "trainer:train(trainset)\n",
    "\n",
    "torch.save(\"mnist_reg.t7\",mlp)\n",
    "\n",
    "correct = 0\n",
    "for i=1,#cvset do\n",
    "--     itorch.image(testset.data[i])\n",
    "    local predict = mlp:forward(cvset[i][1])\n",
    "    local max = torch.max(predict:exp())    \n",
    "    for j=1,10 do        \n",
    "        if predict[j] == max then\n",
    "--             print(j)\n",
    "            if j == cvset[i][2] then\n",
    "                correct = correct + 1\n",
    "            end            \n",
    "        end\n",
    "    end            \n",
    "end\n",
    "\n",
    "print('CV accuracy for ReLU model with lambda 10')\n",
    "accuracy = (correct/#cvset)*100\n",
    "print(accuracy)"
   ]
  },
  {
   "cell_type": "code",
   "execution_count": null,
   "metadata": {
    "collapsed": true
   },
   "outputs": [],
   "source": []
  }
 ],
 "metadata": {
  "kernelspec": {
   "display_name": "iTorch",
   "language": "lua",
   "name": "itorch"
  },
  "language_info": {
   "name": "lua",
   "version": "5.1"
  }
 },
 "nbformat": 4,
 "nbformat_minor": 1
}
