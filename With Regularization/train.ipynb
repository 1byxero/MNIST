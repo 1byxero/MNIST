{
 "cells": [
  {
   "cell_type": "code",
   "execution_count": 1,
   "metadata": {
    "collapsed": false,
    "scrolled": true
   },
   "outputs": [
    {
     "data": {
      "text/plain": [
       "Model without reg training\t\n"
      ]
     },
     "execution_count": 1,
     "metadata": {},
     "output_type": "execute_result"
    },
    {
     "data": {
      "text/plain": [
       "# StochasticGradient: training\t\n"
      ]
     },
     "execution_count": 1,
     "metadata": {},
     "output_type": "execute_result"
    },
    {
     "data": {
      "text/plain": [
       "# current error = 0.62462771853406\t\n"
      ]
     },
     "execution_count": 1,
     "metadata": {},
     "output_type": "execute_result"
    },
    {
     "data": {
      "text/plain": [
       "# current error = 0.43139834343944\t\n"
      ]
     },
     "execution_count": 1,
     "metadata": {},
     "output_type": "execute_result"
    },
    {
     "data": {
      "text/plain": [
       "# current error = 0.42503712534625\t\n"
      ]
     },
     "execution_count": 1,
     "metadata": {},
     "output_type": "execute_result"
    },
    {
     "data": {
      "text/plain": [
       "# current error = 0.38631246988915\t\n"
      ]
     },
     "execution_count": 1,
     "metadata": {},
     "output_type": "execute_result"
    },
    {
     "data": {
      "text/plain": [
       "# current error = 0.37846676793586\t\n",
       "# StochasticGradient: you have reached the maximum number of iterations\t\n",
       "# training error = 0.37846676793586\t\n",
       "Model without reg trained\t\n"
      ]
     },
     "execution_count": 1,
     "metadata": {},
     "output_type": "execute_result"
    },
    {
     "data": {
      "text/plain": [
       "89.38\t\n"
      ]
     },
     "execution_count": 1,
     "metadata": {},
     "output_type": "execute_result"
    }
   ],
   "source": [
    "require 'torch'\n",
    "require 'nn'\n",
    "require 'paths'\n",
    "mnist = require 'mnist'\n",
    "\n",
    "fullset = mnist.traindataset()\n",
    "testset = mnist.testdataset()\n",
    "\n",
    "for i=1,fullset.size do\n",
    "    if fullset.label[i] == 0 then\n",
    "        fullset.label[i] = 10\n",
    "    end\n",
    "end\n",
    "\n",
    "dataset = {}\n",
    "\n",
    "for i=1,fullset.size do\n",
    "    dataset[i] = {fullset.data[i]:resize(784):double(), fullset.label[i]}\n",
    "end\n",
    "\n",
    "function dataset:size() \n",
    "    return fullset.size\n",
    "end\n",
    "\n",
    "mlp = nn.Sequential()\n",
    "mlp:add(nn.Linear(784,100))\n",
    "mlp:add(nn.Sigmoid())\n",
    "mlp:add(nn.Linear(100,10))\n",
    "mlp:add(nn.LogSoftMax())\n",
    "\n",
    "\n",
    "l1_weight = 0.005\n",
    "l2_weight = 0\n",
    "\n",
    "function regularization_penalty(network, l1_weight, l2_weight)\n",
    "  local parameters, _ = network:parameters()\n",
    "  local penalty = 0\n",
    "  for i=1, table.getn(parameters) do\n",
    "    penalty = penalty + l1_weight * parameters[i]:norm(1) + l2_weight * parameters[i]:norm(2) ^ 2\n",
    "  end\n",
    "  return penalty\n",
    "end\n",
    "\n",
    "function regularize_parameters(network, l1_weight, l2_weight)\n",
    "local parameters, _ = network:parameters()\n",
    "  for i=1, table.getn(parameters) do\n",
    "    local update = torch.clamp(parameters[i], -l1_weight, l1_weight)\n",
    "    update:add(parameters[i]:mul(-l2_weight))\n",
    "    parameters[i]:csub(update)\n",
    "  end\n",
    "end\n",
    "\n",
    "function callback(trainer, iteration, currentError)\n",
    "    currentError = currentError + regularization_penalty(trainer.module, l1_weight, l2_weight)\n",
    "    regularize_parameters(trainer.module, l1_weight, l2_weight)\n",
    "end\n",
    "\n",
    "criterion = nn.ClassNLLCriterion()\n",
    "trainer = nn.StochasticGradient(mlp,criterion)\n",
    "trainer.learningRate = 0.001\n",
    "trainer.maxIteration = 5 -- just do 1 epochs of training.\n",
    "-- trainer.hookIteration = callback\n",
    "\n",
    "print(\"Model without reg training\")\n",
    "trainer:train(dataset)\n",
    "print(\"Model without reg trained\")\n",
    "torch.save(\"mnist_woreg.t7\",mlp)\n",
    "\n",
    "mlp = torch.load('mnist_woreg.t7')\n",
    "for i=1,testset.size do\n",
    "    if testset.label[i] == 0 then\n",
    "        testset.label[i] = 10\n",
    "    end\n",
    "end   \n",
    "    \n",
    "correct = 0\n",
    "for i=1,testset.size do\n",
    "--     itorch.image(testset.data[i])\n",
    "    local predict = mlp:forward(testset.data[i]:resize(784):double())\n",
    "    local max = torch.max(predict:exp())    \n",
    "    for j=1,10 do        \n",
    "        if predict[j] == max then\n",
    "--             print(j)\n",
    "            if j == testset.label[i] then\n",
    "                correct = correct + 1\n",
    "            end            \n",
    "        end\n",
    "    end            \n",
    "end\n",
    "\n",
    "accuracy = (correct/testset.size)*100\n",
    "print(accuracy)"
   ]
  },
  {
   "cell_type": "code",
   "execution_count": null,
   "metadata": {
    "collapsed": true
   },
   "outputs": [],
   "source": []
  }
 ],
 "metadata": {
  "kernelspec": {
   "display_name": "iTorch",
   "language": "lua",
   "name": "itorch"
  },
  "language_info": {
   "name": "lua",
   "version": "5.1"
  }
 },
 "nbformat": 4,
 "nbformat_minor": 1
}
