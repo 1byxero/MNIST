{
 "cells": [
  {
   "cell_type": "code",
   "execution_count": 1,
   "metadata": {
    "collapsed": false,
    "scrolled": false
   },
   "outputs": [
    {
     "data": {
      "text/plain": [
       "36000\t\n"
      ]
     },
     "execution_count": 1,
     "metadata": {},
     "output_type": "execute_result"
    },
    {
     "data": {
      "text/plain": [
       "# StochasticGradient: training\t\n"
      ]
     },
     "execution_count": 1,
     "metadata": {},
     "output_type": "execute_result"
    },
    {
     "data": {
      "text/plain": [
       "# current error = 0.4970340514001\t\n"
      ]
     },
     "execution_count": 1,
     "metadata": {},
     "output_type": "execute_result"
    },
    {
     "data": {
      "text/plain": [
       "# current error = 0.32579015181217\t\n"
      ]
     },
     "execution_count": 1,
     "metadata": {},
     "output_type": "execute_result"
    },
    {
     "data": {
      "text/plain": [
       "# current error = 0.29793971338241\t\n"
      ]
     },
     "execution_count": 1,
     "metadata": {},
     "output_type": "execute_result"
    },
    {
     "data": {
      "text/plain": [
       "# current error = 0.28043068776251\t\n"
      ]
     },
     "execution_count": 1,
     "metadata": {},
     "output_type": "execute_result"
    },
    {
     "data": {
      "text/plain": [
       "# current error = 0.27625588089228\t\n",
       "# StochasticGradient: you have reached the maximum number of iterations\t\n",
       "# training error = 0.27625588089228\t\n"
      ]
     },
     "execution_count": 1,
     "metadata": {},
     "output_type": "execute_result"
    },
    {
     "data": {
      "text/plain": [
       "CV accuracy for sigmoid model with lambda 5\t\n",
       "92.170833333333\t\n"
      ]
     },
     "execution_count": 1,
     "metadata": {},
     "output_type": "execute_result"
    },
    {
     "data": {
      "text/plain": [
       "# StochasticGradient: training\t\n"
      ]
     },
     "execution_count": 1,
     "metadata": {},
     "output_type": "execute_result"
    },
    {
     "data": {
      "text/plain": [
       "# current error = 0.49870692327242\t\n"
      ]
     },
     "execution_count": 1,
     "metadata": {},
     "output_type": "execute_result"
    },
    {
     "data": {
      "text/plain": [
       "# current error = 0.33354687617158\t\n"
      ]
     },
     "execution_count": 1,
     "metadata": {},
     "output_type": "execute_result"
    },
    {
     "data": {
      "text/plain": [
       "# current error = 0.31314023566821\t\n"
      ]
     },
     "execution_count": 1,
     "metadata": {},
     "output_type": "execute_result"
    },
    {
     "data": {
      "text/plain": [
       "# current error = 0.29390813283241\t\n"
      ]
     },
     "execution_count": 1,
     "metadata": {},
     "output_type": "execute_result"
    },
    {
     "data": {
      "text/plain": [
       "# current error = 0.27017514071999\t\n",
       "# StochasticGradient: you have reached the maximum number of iterations\t\n",
       "# training error = 0.27017514071999\t\n"
      ]
     },
     "execution_count": 1,
     "metadata": {},
     "output_type": "execute_result"
    },
    {
     "data": {
      "text/plain": [
       "CV accuracy for sigmoid model with lambda 10\t\n",
       "92.525\t\n"
      ]
     },
     "execution_count": 1,
     "metadata": {},
     "output_type": "execute_result"
    },
    {
     "data": {
      "text/plain": [
       "# StochasticGradient: training\t\n"
      ]
     },
     "execution_count": 1,
     "metadata": {},
     "output_type": "execute_result"
    },
    {
     "data": {
      "text/plain": [
       "# current error = 0.49816198731872\t\n"
      ]
     },
     "execution_count": 1,
     "metadata": {},
     "output_type": "execute_result"
    },
    {
     "data": {
      "text/plain": [
       "# current error = 0.33734274041309\t\n"
      ]
     },
     "execution_count": 1,
     "metadata": {},
     "output_type": "execute_result"
    },
    {
     "data": {
      "text/plain": [
       "# current error = 0.30826544494847\t\n"
      ]
     },
     "execution_count": 1,
     "metadata": {},
     "output_type": "execute_result"
    },
    {
     "data": {
      "text/plain": [
       "# current error = 0.29397326643287\t\n"
      ]
     },
     "execution_count": 1,
     "metadata": {},
     "output_type": "execute_result"
    },
    {
     "data": {
      "text/plain": [
       "# current error = 0.27803891167161\t\n",
       "# StochasticGradient: you have reached the maximum number of iterations\t\n",
       "# training error = 0.27803891167161\t\n"
      ]
     },
     "execution_count": 1,
     "metadata": {},
     "output_type": "execute_result"
    },
    {
     "data": {
      "text/plain": [
       "CV accuracy for sigmoid model with lambda 15\t\n",
       "91.991666666667\t\n"
      ]
     },
     "execution_count": 1,
     "metadata": {},
     "output_type": "execute_result"
    },
    {
     "data": {
      "text/plain": [
       "# StochasticGradient: training\t\n"
      ]
     },
     "execution_count": 1,
     "metadata": {},
     "output_type": "execute_result"
    },
    {
     "data": {
      "text/plain": [
       "# current error = 0.49348681100449\t\n"
      ]
     },
     "execution_count": 1,
     "metadata": {},
     "output_type": "execute_result"
    },
    {
     "data": {
      "text/plain": [
       "# current error = 0.3395301141799\t\n"
      ]
     },
     "execution_count": 1,
     "metadata": {},
     "output_type": "execute_result"
    },
    {
     "data": {
      "text/plain": [
       "# current error = 0.30155031674423\t\n"
      ]
     },
     "execution_count": 1,
     "metadata": {},
     "output_type": "execute_result"
    },
    {
     "data": {
      "text/plain": [
       "# current error = 0.28900811474553\t"
      ]
     },
     "execution_count": 1,
     "metadata": {},
     "output_type": "execute_result"
    },
    {
     "data": {
      "text/plain": [
       "\n"
      ]
     },
     "execution_count": 1,
     "metadata": {},
     "output_type": "execute_result"
    },
    {
     "data": {
      "text/plain": [
       "# current error = 0.27901118456415\t\n",
       "# StochasticGradient: you have reached the maximum number of iterations\t\n",
       "# training error = 0.27901118456415\t\n"
      ]
     },
     "execution_count": 1,
     "metadata": {},
     "output_type": "execute_result"
    },
    {
     "data": {
      "text/plain": [
       "CV accuracy for sigmoid model with lambda 13\t\n",
       "91.720833333333\t\n"
      ]
     },
     "execution_count": 1,
     "metadata": {},
     "output_type": "execute_result"
    },
    {
     "data": {
      "text/plain": [
       "# StochasticGradient: training\t\n"
      ]
     },
     "execution_count": 1,
     "metadata": {},
     "output_type": "execute_result"
    },
    {
     "data": {
      "text/plain": [
       "# current error = 0.7157996406034\t\n"
      ]
     },
     "execution_count": 1,
     "metadata": {},
     "output_type": "execute_result"
    },
    {
     "data": {
      "text/plain": [
       "# current error = 0.58931265227481\t\n"
      ]
     },
     "execution_count": 1,
     "metadata": {},
     "output_type": "execute_result"
    },
    {
     "data": {
      "text/plain": [
       "# current error = 0.58072707430368\t\n"
      ]
     },
     "execution_count": 1,
     "metadata": {},
     "output_type": "execute_result"
    },
    {
     "data": {
      "text/plain": [
       "# current error = 0.5877591291816\t\n"
      ]
     },
     "execution_count": 1,
     "metadata": {},
     "output_type": "execute_result"
    },
    {
     "data": {
      "text/plain": [
       "# current error = 0.58187223415261\t\n",
       "# StochasticGradient: you have reached the maximum number of iterations\t\n",
       "# training error = 0.58187223415261\t\n"
      ]
     },
     "execution_count": 1,
     "metadata": {},
     "output_type": "execute_result"
    },
    {
     "data": {
      "text/plain": [
       "CV accuracy for Tanh model with lambda 5\t\n",
       "82.5875\t\n"
      ]
     },
     "execution_count": 1,
     "metadata": {},
     "output_type": "execute_result"
    },
    {
     "data": {
      "text/plain": [
       "# StochasticGradient: training\t\n"
      ]
     },
     "execution_count": 1,
     "metadata": {},
     "output_type": "execute_result"
    },
    {
     "data": {
      "text/plain": [
       "# current error = 0.72534416977859\t\n"
      ]
     },
     "execution_count": 1,
     "metadata": {},
     "output_type": "execute_result"
    },
    {
     "data": {
      "text/plain": [
       "# current error = 0.62601392831888\t\n"
      ]
     },
     "execution_count": 1,
     "metadata": {},
     "output_type": "execute_result"
    },
    {
     "data": {
      "text/plain": [
       "# current error = 0.56953882478003\t\n"
      ]
     },
     "execution_count": 1,
     "metadata": {},
     "output_type": "execute_result"
    },
    {
     "data": {
      "text/plain": [
       "# current error = 0.58000467359888\t\n"
      ]
     },
     "execution_count": 1,
     "metadata": {},
     "output_type": "execute_result"
    },
    {
     "data": {
      "text/plain": [
       "# current error = 0.54939938801389\t\n",
       "# StochasticGradient: you have reached the maximum number of iterations\t\n",
       "# training error = 0.54939938801389\t\n"
      ]
     },
     "execution_count": 1,
     "metadata": {},
     "output_type": "execute_result"
    },
    {
     "data": {
      "text/plain": [
       "CV accuracy for Tanh model with lambda 10\t\n",
       "84.0875\t\n"
      ]
     },
     "execution_count": 1,
     "metadata": {},
     "output_type": "execute_result"
    },
    {
     "data": {
      "text/plain": [
       "# StochasticGradient: training\t\n"
      ]
     },
     "execution_count": 1,
     "metadata": {},
     "output_type": "execute_result"
    },
    {
     "data": {
      "text/plain": [
       "# current error = 0.71365483724141\t\n"
      ]
     },
     "execution_count": 1,
     "metadata": {},
     "output_type": "execute_result"
    },
    {
     "data": {
      "text/plain": [
       "# current error = 0.59906681191518\t\n"
      ]
     },
     "execution_count": 1,
     "metadata": {},
     "output_type": "execute_result"
    },
    {
     "data": {
      "text/plain": [
       "# current error = 0.55602651743129\t\n"
      ]
     },
     "execution_count": 1,
     "metadata": {},
     "output_type": "execute_result"
    },
    {
     "data": {
      "text/plain": [
       "# current error = 0.5519717958457\t\n"
      ]
     },
     "execution_count": 1,
     "metadata": {},
     "output_type": "execute_result"
    },
    {
     "data": {
      "text/plain": [
       "# current error = 0.55074158394645\t\n",
       "# StochasticGradient: you have reached the maximum number of iterations\t\n",
       "# training error = 0.55074158394645\t\n"
      ]
     },
     "execution_count": 1,
     "metadata": {},
     "output_type": "execute_result"
    },
    {
     "data": {
      "text/plain": [
       "CV accuracy for Tanh model with lambda 15\t\n",
       "83.841666666667\t\n"
      ]
     },
     "execution_count": 1,
     "metadata": {},
     "output_type": "execute_result"
    },
    {
     "data": {
      "text/plain": [
       "# StochasticGradient: training\t\n"
      ]
     },
     "execution_count": 1,
     "metadata": {},
     "output_type": "execute_result"
    },
    {
     "data": {
      "text/plain": [
       "# current error = 0.71520053552126\t\n"
      ]
     },
     "execution_count": 1,
     "metadata": {},
     "output_type": "execute_result"
    },
    {
     "data": {
      "text/plain": [
       "# current error = 0.57249029630899\t\n"
      ]
     },
     "execution_count": 1,
     "metadata": {},
     "output_type": "execute_result"
    },
    {
     "data": {
      "text/plain": [
       "# current error = 0.54489756494324\t\n"
      ]
     },
     "execution_count": 1,
     "metadata": {},
     "output_type": "execute_result"
    },
    {
     "data": {
      "text/plain": [
       "# current error = 0.52247974085167\t\n"
      ]
     },
     "execution_count": 1,
     "metadata": {},
     "output_type": "execute_result"
    },
    {
     "data": {
      "text/plain": [
       "# current error = 0.5293329518474\t\n",
       "# StochasticGradient: you have reached the maximum number of iterations\t\n",
       "# training error = 0.5293329518474\t\n"
      ]
     },
     "execution_count": 1,
     "metadata": {},
     "output_type": "execute_result"
    },
    {
     "data": {
      "text/plain": [
       "CV accuracy for Tanh model with lambda 7\t\n",
       "85.041666666667\t\n"
      ]
     },
     "execution_count": 1,
     "metadata": {},
     "output_type": "execute_result"
    },
    {
     "data": {
      "text/plain": [
       "# StochasticGradient: training\t\n"
      ]
     },
     "execution_count": 1,
     "metadata": {},
     "output_type": "execute_result"
    },
    {
     "data": {
      "text/plain": [
       "# current error = 2.4894160992701\t\n"
      ]
     },
     "execution_count": 1,
     "metadata": {},
     "output_type": "execute_result"
    },
    {
     "data": {
      "text/plain": [
       "# current error = 2.2203095620009\t\n"
      ]
     },
     "execution_count": 1,
     "metadata": {},
     "output_type": "execute_result"
    },
    {
     "data": {
      "text/plain": [
       "# current error = 2.2701938261301\t\n"
      ]
     },
     "execution_count": 1,
     "metadata": {},
     "output_type": "execute_result"
    },
    {
     "data": {
      "text/plain": [
       "# current error = 2.2755528543246\t\n"
      ]
     },
     "execution_count": 1,
     "metadata": {},
     "output_type": "execute_result"
    },
    {
     "data": {
      "text/plain": [
       "# current error = 2.3152842072396\t\n",
       "# StochasticGradient: you have reached the maximum number of iterations\t\n",
       "# training error = 2.3152842072396\t\n"
      ]
     },
     "execution_count": 1,
     "metadata": {},
     "output_type": "execute_result"
    },
    {
     "data": {
      "text/plain": [
       "CV accuracy for ReLU model with lambda 5\t\n",
       "12.058333333333\t\n"
      ]
     },
     "execution_count": 1,
     "metadata": {},
     "output_type": "execute_result"
    },
    {
     "data": {
      "text/plain": [
       "# StochasticGradient: training\t\n"
      ]
     },
     "execution_count": 1,
     "metadata": {},
     "output_type": "execute_result"
    },
    {
     "data": {
      "text/plain": [
       "# current error = 2.4873346826509\t\n"
      ]
     },
     "execution_count": 1,
     "metadata": {},
     "output_type": "execute_result"
    },
    {
     "data": {
      "text/plain": [
       "# current error = 2.3000347167965\t\n"
      ]
     },
     "execution_count": 1,
     "metadata": {},
     "output_type": "execute_result"
    },
    {
     "data": {
      "text/plain": [
       "# current error = 2.2726411406444\t"
      ]
     },
     "execution_count": 1,
     "metadata": {},
     "output_type": "execute_result"
    },
    {
     "data": {
      "text/plain": [
       "\n"
      ]
     },
     "execution_count": 1,
     "metadata": {},
     "output_type": "execute_result"
    },
    {
     "data": {
      "text/plain": [
       "# current error = 2.3054784257733\t\n"
      ]
     },
     "execution_count": 1,
     "metadata": {},
     "output_type": "execute_result"
    },
    {
     "data": {
      "text/plain": [
       "# current error = 2.3006972136397\t\n",
       "# StochasticGradient: you have reached the maximum number of iterations\t\n",
       "# training error = 2.3006972136397\t\n"
      ]
     },
     "execution_count": 1,
     "metadata": {},
     "output_type": "execute_result"
    },
    {
     "data": {
      "text/plain": [
       "CV accuracy for ReLU model with lambda 10\t\n",
       "10.958333333333\t\n"
      ]
     },
     "execution_count": 1,
     "metadata": {},
     "output_type": "execute_result"
    },
    {
     "data": {
      "text/plain": [
       "# StochasticGradient: training\t\n"
      ]
     },
     "execution_count": 1,
     "metadata": {},
     "output_type": "execute_result"
    },
    {
     "data": {
      "text/plain": [
       "# current error = 2.4299248015317\t\n"
      ]
     },
     "execution_count": 1,
     "metadata": {},
     "output_type": "execute_result"
    },
    {
     "data": {
      "text/plain": [
       "# current error = 2.3204026730561\t\n"
      ]
     },
     "execution_count": 1,
     "metadata": {},
     "output_type": "execute_result"
    },
    {
     "data": {
      "text/plain": [
       "# current error = 2.274270338176\t\n"
      ]
     },
     "execution_count": 1,
     "metadata": {},
     "output_type": "execute_result"
    },
    {
     "data": {
      "text/plain": [
       "# current error = 2.2862431796568\t\n"
      ]
     },
     "execution_count": 1,
     "metadata": {},
     "output_type": "execute_result"
    },
    {
     "data": {
      "text/plain": [
       "# current error = 2.291658543148\t\n",
       "# StochasticGradient: you have reached the maximum number of iterations\t\n",
       "# training error = 2.291658543148\t\n"
      ]
     },
     "execution_count": 1,
     "metadata": {},
     "output_type": "execute_result"
    },
    {
     "data": {
      "text/plain": [
       "CV accuracy for ReLU model with lambda 15\t\n",
       "11.016666666667\t\n"
      ]
     },
     "execution_count": 1,
     "metadata": {},
     "output_type": "execute_result"
    },
    {
     "data": {
      "text/plain": [
       "# StochasticGradient: training\t\n"
      ]
     },
     "execution_count": 1,
     "metadata": {},
     "output_type": "execute_result"
    },
    {
     "data": {
      "text/plain": [
       "# current error = 2.1313444236104\t\n"
      ]
     },
     "execution_count": 1,
     "metadata": {},
     "output_type": "execute_result"
    },
    {
     "data": {
      "text/plain": [
       "# current error = 0.97130997074237\t\n"
      ]
     },
     "execution_count": 1,
     "metadata": {},
     "output_type": "execute_result"
    },
    {
     "data": {
      "text/plain": [
       "# current error = 0.59304021873552\t\n"
      ]
     },
     "execution_count": 1,
     "metadata": {},
     "output_type": "execute_result"
    },
    {
     "data": {
      "text/plain": [
       "# current error = 0.53402088357663\t\n"
      ]
     },
     "execution_count": 1,
     "metadata": {},
     "output_type": "execute_result"
    },
    {
     "data": {
      "text/plain": [
       "# current error = 0.51440466623133\t\n"
      ]
     },
     "execution_count": 1,
     "metadata": {},
     "output_type": "execute_result"
    },
    {
     "data": {
      "text/plain": [
       "# current error = 0.48417197619489\t\n"
      ]
     },
     "execution_count": 1,
     "metadata": {},
     "output_type": "execute_result"
    },
    {
     "data": {
      "text/plain": [
       "# current error = 0.45302132456246\t\n"
      ]
     },
     "execution_count": 1,
     "metadata": {},
     "output_type": "execute_result"
    },
    {
     "data": {
      "text/plain": [
       "# current error = 0.44169910322658\t\n"
      ]
     },
     "execution_count": 1,
     "metadata": {},
     "output_type": "execute_result"
    },
    {
     "data": {
      "text/plain": [
       "# current error = 0.42813821247444\t\n"
      ]
     },
     "execution_count": 1,
     "metadata": {},
     "output_type": "execute_result"
    },
    {
     "data": {
      "text/plain": [
       "# current error = 0.41434318286616\t"
      ]
     },
     "execution_count": 1,
     "metadata": {},
     "output_type": "execute_result"
    },
    {
     "data": {
      "text/plain": [
       "\n",
       "# StochasticGradient: you have reached the maximum number of iterations\t\n",
       "# training error = 0.41434318286616\t\n"
      ]
     },
     "execution_count": 1,
     "metadata": {},
     "output_type": "execute_result"
    },
    {
     "data": {
      "text/plain": [
       "CV accuracy for Sigmoid model with lambda 5\t\n",
       "87.491666666667\t\n"
      ]
     },
     "execution_count": 1,
     "metadata": {},
     "output_type": "execute_result"
    },
    {
     "data": {
      "text/plain": [
       "# StochasticGradient: training\t\n"
      ]
     },
     "execution_count": 1,
     "metadata": {},
     "output_type": "execute_result"
    },
    {
     "data": {
      "text/plain": [
       "# current error = 2.1299216736672\t\n"
      ]
     },
     "execution_count": 1,
     "metadata": {},
     "output_type": "execute_result"
    },
    {
     "data": {
      "text/plain": [
       "# current error = 0.96913371358087\t\n"
      ]
     },
     "execution_count": 1,
     "metadata": {},
     "output_type": "execute_result"
    },
    {
     "data": {
      "text/plain": [
       "# current error = 0.58441671288196\t\n"
      ]
     },
     "execution_count": 1,
     "metadata": {},
     "output_type": "execute_result"
    },
    {
     "data": {
      "text/plain": [
       "# current error = 0.49580436603316\t\n"
      ]
     },
     "execution_count": 1,
     "metadata": {},
     "output_type": "execute_result"
    },
    {
     "data": {
      "text/plain": [
       "# current error = 0.45183485292309\t\n"
      ]
     },
     "execution_count": 1,
     "metadata": {},
     "output_type": "execute_result"
    },
    {
     "data": {
      "text/plain": [
       "# current error = 0.43823791499034\t\n"
      ]
     },
     "execution_count": 1,
     "metadata": {},
     "output_type": "execute_result"
    },
    {
     "data": {
      "text/plain": [
       "# current error = 0.43787283111946\t\n"
      ]
     },
     "execution_count": 1,
     "metadata": {},
     "output_type": "execute_result"
    },
    {
     "data": {
      "text/plain": [
       "# current error = 0.41835434865898\t\n"
      ]
     },
     "execution_count": 1,
     "metadata": {},
     "output_type": "execute_result"
    },
    {
     "data": {
      "text/plain": [
       "# current error = 0.41721790035342\t\n"
      ]
     },
     "execution_count": 1,
     "metadata": {},
     "output_type": "execute_result"
    },
    {
     "data": {
      "text/plain": [
       "# current error = 0.41596760041293\t\n",
       "# StochasticGradient: you have reached the maximum number of iterations\t\n",
       "# training error = 0.41596760041293\t\n"
      ]
     },
     "execution_count": 1,
     "metadata": {},
     "output_type": "execute_result"
    },
    {
     "data": {
      "text/plain": [
       "CV accuracy for Sigmoid model with lambda 10\t\n",
       "87.25\t\n"
      ]
     },
     "execution_count": 1,
     "metadata": {},
     "output_type": "execute_result"
    },
    {
     "data": {
      "text/plain": [
       "# StochasticGradient: training\t\n"
      ]
     },
     "execution_count": 1,
     "metadata": {},
     "output_type": "execute_result"
    },
    {
     "data": {
      "text/plain": [
       "# current error = 2.147009291564\t"
      ]
     },
     "execution_count": 1,
     "metadata": {},
     "output_type": "execute_result"
    },
    {
     "data": {
      "text/plain": [
       "\n"
      ]
     },
     "execution_count": 1,
     "metadata": {},
     "output_type": "execute_result"
    },
    {
     "data": {
      "text/plain": [
       "# current error = 0.9827077882484\t\n"
      ]
     },
     "execution_count": 1,
     "metadata": {},
     "output_type": "execute_result"
    },
    {
     "data": {
      "text/plain": [
       "# current error = 0.58755762943741\t\n"
      ]
     },
     "execution_count": 1,
     "metadata": {},
     "output_type": "execute_result"
    },
    {
     "data": {
      "text/plain": [
       "# current error = 0.51356933314294\t\n"
      ]
     },
     "execution_count": 1,
     "metadata": {},
     "output_type": "execute_result"
    },
    {
     "data": {
      "text/plain": [
       "# current error = 0.46405459145462\t\n"
      ]
     },
     "execution_count": 1,
     "metadata": {},
     "output_type": "execute_result"
    },
    {
     "data": {
      "text/plain": [
       "# current error = 0.44441130428466\t\n"
      ]
     },
     "execution_count": 1,
     "metadata": {},
     "output_type": "execute_result"
    },
    {
     "data": {
      "text/plain": [
       "# current error = 0.44113529149852\t\n"
      ]
     },
     "execution_count": 1,
     "metadata": {},
     "output_type": "execute_result"
    },
    {
     "data": {
      "text/plain": [
       "# current error = 0.423980942742\t"
      ]
     },
     "execution_count": 1,
     "metadata": {},
     "output_type": "execute_result"
    },
    {
     "data": {
      "text/plain": [
       "\n"
      ]
     },
     "execution_count": 1,
     "metadata": {},
     "output_type": "execute_result"
    },
    {
     "data": {
      "text/plain": [
       "# current error = 0.42926024595\t\n"
      ]
     },
     "execution_count": 1,
     "metadata": {},
     "output_type": "execute_result"
    },
    {
     "data": {
      "text/plain": [
       "# current error = 0.44464958690978\t\n",
       "# StochasticGradient: you have reached the maximum number of iterations\t\n",
       "# training error = 0.44464958690978\t\n"
      ]
     },
     "execution_count": 1,
     "metadata": {},
     "output_type": "execute_result"
    },
    {
     "data": {
      "text/plain": [
       "CV accuracy for Sigmoid model with lambda 15\t\n",
       "85.895833333333\t\n"
      ]
     },
     "execution_count": 1,
     "metadata": {},
     "output_type": "execute_result"
    },
    {
     "data": {
      "text/plain": [
       "# StochasticGradient: training\t\n"
      ]
     },
     "execution_count": 1,
     "metadata": {},
     "output_type": "execute_result"
    },
    {
     "data": {
      "text/plain": [
       "# current error = 0.85564161919223\t\n"
      ]
     },
     "execution_count": 1,
     "metadata": {},
     "output_type": "execute_result"
    },
    {
     "data": {
      "text/plain": [
       "# current error = 0.830133328192\t\n"
      ]
     },
     "execution_count": 1,
     "metadata": {},
     "output_type": "execute_result"
    },
    {
     "data": {
      "text/plain": [
       "# current error = 0.71647362486054\t\n"
      ]
     },
     "execution_count": 1,
     "metadata": {},
     "output_type": "execute_result"
    },
    {
     "data": {
      "text/plain": [
       "# current error = 0.69044968836354\t\n"
      ]
     },
     "execution_count": 1,
     "metadata": {},
     "output_type": "execute_result"
    },
    {
     "data": {
      "text/plain": [
       "# current error = 0.70841534318009\t\n"
      ]
     },
     "execution_count": 1,
     "metadata": {},
     "output_type": "execute_result"
    },
    {
     "data": {
      "text/plain": [
       "# current error = 0.71774156489044\t\n"
      ]
     },
     "execution_count": 1,
     "metadata": {},
     "output_type": "execute_result"
    },
    {
     "data": {
      "text/plain": [
       "# current error = 0.66983808695742\t\n"
      ]
     },
     "execution_count": 1,
     "metadata": {},
     "output_type": "execute_result"
    },
    {
     "data": {
      "text/plain": [
       "# current error = 0.63179106661437\t\n"
      ]
     },
     "execution_count": 1,
     "metadata": {},
     "output_type": "execute_result"
    },
    {
     "data": {
      "text/plain": [
       "# current error = 0.59322884816425\t\n"
      ]
     },
     "execution_count": 1,
     "metadata": {},
     "output_type": "execute_result"
    },
    {
     "data": {
      "text/plain": [
       "# current error = 0.59765035521056\t\n",
       "# StochasticGradient: you have reached the maximum number of iterations\t\n",
       "# training error = 0.59765035521056\t\n"
      ]
     },
     "execution_count": 1,
     "metadata": {},
     "output_type": "execute_result"
    },
    {
     "data": {
      "text/plain": [
       "CV accuracy for Tanh model with lambda 5\t\n",
       "80.354166666667\t\n"
      ]
     },
     "execution_count": 1,
     "metadata": {},
     "output_type": "execute_result"
    },
    {
     "data": {
      "text/plain": [
       "# StochasticGradient: training\t\n"
      ]
     },
     "execution_count": 1,
     "metadata": {},
     "output_type": "execute_result"
    },
    {
     "data": {
      "text/plain": [
       "# current error = 0.78397321193697\t\n"
      ]
     },
     "execution_count": 1,
     "metadata": {},
     "output_type": "execute_result"
    },
    {
     "data": {
      "text/plain": [
       "# current error = 0.7874649390219\t\n"
      ]
     },
     "execution_count": 1,
     "metadata": {},
     "output_type": "execute_result"
    },
    {
     "data": {
      "text/plain": [
       "# current error = 0.75628819310244\t\n"
      ]
     },
     "execution_count": 1,
     "metadata": {},
     "output_type": "execute_result"
    },
    {
     "data": {
      "text/plain": [
       "# current error = 0.7982616589751\t\n"
      ]
     },
     "execution_count": 1,
     "metadata": {},
     "output_type": "execute_result"
    },
    {
     "data": {
      "text/plain": [
       "# current error = 0.72132203392102\t\n"
      ]
     },
     "execution_count": 1,
     "metadata": {},
     "output_type": "execute_result"
    },
    {
     "data": {
      "text/plain": [
       "# current error = 0.66185198765467\t\n"
      ]
     },
     "execution_count": 1,
     "metadata": {},
     "output_type": "execute_result"
    },
    {
     "data": {
      "text/plain": [
       "# current error = 0.67035376164054\t\n"
      ]
     },
     "execution_count": 1,
     "metadata": {},
     "output_type": "execute_result"
    },
    {
     "data": {
      "text/plain": [
       "# current error = 0.60414587316866\t\n"
      ]
     },
     "execution_count": 1,
     "metadata": {},
     "output_type": "execute_result"
    },
    {
     "data": {
      "text/plain": [
       "# current error = 0.55685285634637\t\n"
      ]
     },
     "execution_count": 1,
     "metadata": {},
     "output_type": "execute_result"
    },
    {
     "data": {
      "text/plain": [
       "# current error = 0.54369271895203\t\n",
       "# StochasticGradient: you have reached the maximum number of iterations\t\n",
       "# training error = 0.54369271895203\t\n"
      ]
     },
     "execution_count": 1,
     "metadata": {},
     "output_type": "execute_result"
    },
    {
     "data": {
      "text/plain": [
       "CV accuracy for Tanh model with lambda 10\t\n",
       "82.841666666667\t\n"
      ]
     },
     "execution_count": 1,
     "metadata": {},
     "output_type": "execute_result"
    },
    {
     "data": {
      "text/plain": [
       "# StochasticGradient: training\t\n"
      ]
     },
     "execution_count": 1,
     "metadata": {},
     "output_type": "execute_result"
    },
    {
     "data": {
      "text/plain": [
       "# current error = 0.82186375162919\t\n"
      ]
     },
     "execution_count": 1,
     "metadata": {},
     "output_type": "execute_result"
    },
    {
     "data": {
      "text/plain": [
       "# current error = 0.83508299369318\t"
      ]
     },
     "execution_count": 1,
     "metadata": {},
     "output_type": "execute_result"
    },
    {
     "data": {
      "text/plain": [
       "\n"
      ]
     },
     "execution_count": 1,
     "metadata": {},
     "output_type": "execute_result"
    },
    {
     "data": {
      "text/plain": [
       "# current error = 0.79288415752589\t\n"
      ]
     },
     "execution_count": 1,
     "metadata": {},
     "output_type": "execute_result"
    },
    {
     "data": {
      "text/plain": [
       "# current error = 0.75951432481529\t\n"
      ]
     },
     "execution_count": 1,
     "metadata": {},
     "output_type": "execute_result"
    },
    {
     "data": {
      "text/plain": [
       "# current error = 0.71253622706981\t\n"
      ]
     },
     "execution_count": 1,
     "metadata": {},
     "output_type": "execute_result"
    },
    {
     "data": {
      "text/plain": [
       "# current error = 0.63715317494658\t\n"
      ]
     },
     "execution_count": 1,
     "metadata": {},
     "output_type": "execute_result"
    },
    {
     "data": {
      "text/plain": [
       "# current error = 0.64654280740593\t\n"
      ]
     },
     "execution_count": 1,
     "metadata": {},
     "output_type": "execute_result"
    },
    {
     "data": {
      "text/plain": [
       "# current error = 0.61772995030201\t\n"
      ]
     },
     "execution_count": 1,
     "metadata": {},
     "output_type": "execute_result"
    },
    {
     "data": {
      "text/plain": [
       "# current error = 0.63402201302455\t\n"
      ]
     },
     "execution_count": 1,
     "metadata": {},
     "output_type": "execute_result"
    },
    {
     "data": {
      "text/plain": [
       "# current error = 0.61422478795363\t"
      ]
     },
     "execution_count": 1,
     "metadata": {},
     "output_type": "execute_result"
    },
    {
     "data": {
      "text/plain": [
       "\n",
       "# StochasticGradient: you have reached the maximum number of iterations\t\n",
       "# training error = 0.61422478795363\t\n"
      ]
     },
     "execution_count": 1,
     "metadata": {},
     "output_type": "execute_result"
    },
    {
     "data": {
      "text/plain": [
       "CV accuracy for tanh model with lambda 15\t\n",
       "74.075\t\n"
      ]
     },
     "execution_count": 1,
     "metadata": {},
     "output_type": "execute_result"
    },
    {
     "data": {
      "text/plain": [
       "# StochasticGradient: training\t\n"
      ]
     },
     "execution_count": 1,
     "metadata": {},
     "output_type": "execute_result"
    },
    {
     "data": {
      "text/plain": [
       "# current error = 0.31254649946277\t\n"
      ]
     },
     "execution_count": 1,
     "metadata": {},
     "output_type": "execute_result"
    },
    {
     "data": {
      "text/plain": [
       "# current error = 0.14204887095179\t\n"
      ]
     },
     "execution_count": 1,
     "metadata": {},
     "output_type": "execute_result"
    },
    {
     "data": {
      "text/plain": [
       "# current error = 0.10568256256967\t"
      ]
     },
     "execution_count": 1,
     "metadata": {},
     "output_type": "execute_result"
    },
    {
     "data": {
      "text/plain": [
       "\n"
      ]
     },
     "execution_count": 1,
     "metadata": {},
     "output_type": "execute_result"
    },
    {
     "data": {
      "text/plain": [
       "# current error = 0.082623572499868\t\n"
      ]
     },
     "execution_count": 1,
     "metadata": {},
     "output_type": "execute_result"
    },
    {
     "data": {
      "text/plain": [
       "# current error = 0.069830838149953\t\n"
      ]
     },
     "execution_count": 1,
     "metadata": {},
     "output_type": "execute_result"
    },
    {
     "data": {
      "text/plain": [
       "# current error = 0.060825775003749\t\n"
      ]
     },
     "execution_count": 1,
     "metadata": {},
     "output_type": "execute_result"
    },
    {
     "data": {
      "text/plain": [
       "# current error = 0.049150931663676\t\n"
      ]
     },
     "execution_count": 1,
     "metadata": {},
     "output_type": "execute_result"
    },
    {
     "data": {
      "text/plain": [
       "# current error = 0.046169375741799\t\n"
      ]
     },
     "execution_count": 1,
     "metadata": {},
     "output_type": "execute_result"
    },
    {
     "data": {
      "text/plain": [
       "# current error = 0.04235112958211\t\n"
      ]
     },
     "execution_count": 1,
     "metadata": {},
     "output_type": "execute_result"
    },
    {
     "data": {
      "text/plain": [
       "# current error = 0.042212855107065\t\n",
       "# StochasticGradient: you have reached the maximum number of iterations\t\n",
       "# training error = 0.042212855107065\t\n"
      ]
     },
     "execution_count": 1,
     "metadata": {},
     "output_type": "execute_result"
    },
    {
     "data": {
      "text/plain": [
       "CV accuracy for ReLU model with lambda 5\t\n",
       "96.441666666667\t\n"
      ]
     },
     "execution_count": 1,
     "metadata": {},
     "output_type": "execute_result"
    },
    {
     "data": {
      "text/plain": [
       "# StochasticGradient: training\t\n"
      ]
     },
     "execution_count": 1,
     "metadata": {},
     "output_type": "execute_result"
    },
    {
     "data": {
      "text/plain": [
       "# current error = 0.31181944252673\t\n"
      ]
     },
     "execution_count": 1,
     "metadata": {},
     "output_type": "execute_result"
    },
    {
     "data": {
      "text/plain": [
       "# current error = 0.1454368759951\t\n"
      ]
     },
     "execution_count": 1,
     "metadata": {},
     "output_type": "execute_result"
    },
    {
     "data": {
      "text/plain": [
       "# current error = 0.099978531830843\t\n"
      ]
     },
     "execution_count": 1,
     "metadata": {},
     "output_type": "execute_result"
    },
    {
     "data": {
      "text/plain": [
       "# current error = 0.086528986735222\t\n"
      ]
     },
     "execution_count": 1,
     "metadata": {},
     "output_type": "execute_result"
    },
    {
     "data": {
      "text/plain": [
       "# current error = 0.071813984022105\t\n"
      ]
     },
     "execution_count": 1,
     "metadata": {},
     "output_type": "execute_result"
    },
    {
     "data": {
      "text/plain": [
       "# current error = 0.063863083900429\t\n"
      ]
     },
     "execution_count": 1,
     "metadata": {},
     "output_type": "execute_result"
    },
    {
     "data": {
      "text/plain": [
       "# current error = 0.05465192147423\t\n"
      ]
     },
     "execution_count": 1,
     "metadata": {},
     "output_type": "execute_result"
    },
    {
     "data": {
      "text/plain": [
       "# current error = 0.053283362319443\t\n"
      ]
     },
     "execution_count": 1,
     "metadata": {},
     "output_type": "execute_result"
    },
    {
     "data": {
      "text/plain": [
       "# current error = 0.044276325952497\t\n"
      ]
     },
     "execution_count": 1,
     "metadata": {},
     "output_type": "execute_result"
    },
    {
     "data": {
      "text/plain": [
       "# current error = 0.033984983199252\t\n",
       "# StochasticGradient: you have reached the maximum number of iterations\t\n",
       "# training error = 0.033984983199252\t\n"
      ]
     },
     "execution_count": 1,
     "metadata": {},
     "output_type": "execute_result"
    },
    {
     "data": {
      "text/plain": [
       "CV accuracy for ReLU model with lambda 10\t\n",
       "96.720833333333\t\n"
      ]
     },
     "execution_count": 1,
     "metadata": {},
     "output_type": "execute_result"
    },
    {
     "data": {
      "text/plain": [
       "# StochasticGradient: training\t\n"
      ]
     },
     "execution_count": 1,
     "metadata": {},
     "output_type": "execute_result"
    },
    {
     "data": {
      "text/plain": [
       "# current error = 0.31496755341322\t\n"
      ]
     },
     "execution_count": 1,
     "metadata": {},
     "output_type": "execute_result"
    },
    {
     "data": {
      "text/plain": [
       "# current error = 0.14258624563682\t\n"
      ]
     },
     "execution_count": 1,
     "metadata": {},
     "output_type": "execute_result"
    },
    {
     "data": {
      "text/plain": [
       "# current error = 0.10282452926635\t\n"
      ]
     },
     "execution_count": 1,
     "metadata": {},
     "output_type": "execute_result"
    },
    {
     "data": {
      "text/plain": [
       "# current error = 0.082967343495168\t\n"
      ]
     },
     "execution_count": 1,
     "metadata": {},
     "output_type": "execute_result"
    },
    {
     "data": {
      "text/plain": [
       "# current error = 0.06395733241622\t\n"
      ]
     },
     "execution_count": 1,
     "metadata": {},
     "output_type": "execute_result"
    },
    {
     "data": {
      "text/plain": [
       "# current error = 0.058022865522994\t\n"
      ]
     },
     "execution_count": 1,
     "metadata": {},
     "output_type": "execute_result"
    },
    {
     "data": {
      "text/plain": [
       "# current error = 0.062390344853362\t\n"
      ]
     },
     "execution_count": 1,
     "metadata": {},
     "output_type": "execute_result"
    },
    {
     "data": {
      "text/plain": [
       "# current error = 0.047535745891416\t\n"
      ]
     },
     "execution_count": 1,
     "metadata": {},
     "output_type": "execute_result"
    },
    {
     "data": {
      "text/plain": [
       "# current error = 0.050263451385308\t\n"
      ]
     },
     "execution_count": 1,
     "metadata": {},
     "output_type": "execute_result"
    },
    {
     "data": {
      "text/plain": [
       "# current error = 0.052464073607333\t\n",
       "# StochasticGradient: you have reached the maximum number of iterations\t\n",
       "# training error = 0.052464073607333\t\n"
      ]
     },
     "execution_count": 1,
     "metadata": {},
     "output_type": "execute_result"
    },
    {
     "data": {
      "text/plain": [
       "CV accuracy for ReLU model with lambda 15\t\n",
       "96.6125\t\n"
      ]
     },
     "execution_count": 1,
     "metadata": {},
     "output_type": "execute_result"
    }
   ],
   "source": [
    "require 'torch'\n",
    "require 'nn'\n",
    "require 'paths'\n",
    "-- require 'cunn'\n",
    "mnist = require 'mnist'\n",
    "\n",
    "fullset = mnist.traindataset()\n",
    "testset = mnist.testdataset()\n",
    "\n",
    "for i=1,fullset.size do\n",
    "    if fullset.label[i] == 0 then\n",
    "        fullset.label[i] = 10\n",
    "    end\n",
    "end\n",
    "\n",
    "trainset = {}\n",
    "cvset = {}\n",
    "\n",
    "trainsetsize = (fullset.size*60)/100\n",
    "\n",
    "for i=1,fullset.size do   \n",
    "    if i<36001 then\n",
    "        trainset[i] = {fullset.data[i]:resize(784):double(), fullset.label[i]}\n",
    "    else\n",
    "        cvset[i-trainsetsize] = {fullset.data[i]:resize(784):double(), fullset.label[i]}\n",
    "    end\n",
    "end\n",
    "\n",
    "function trainset:size() \n",
    "    return trainsetsize\n",
    "end\n",
    "\n",
    "print(trainset:size())\n",
    "\n",
    "-- -- model2 starts here\n",
    "-- mlp = nn.Sequential()\n",
    "-- mlp:add(nn.Linear(784,400))\n",
    "-- mlp:add(nn.Sigmoid())\n",
    "-- mlp:add(nn.Linear(400,400))\n",
    "-- mlp:add(nn.Sigmoid())\n",
    "-- mlp:add(nn.Linear(400,200))\n",
    "-- mlp:add(nn.Sigmoid())\n",
    "-- mlp:add(nn.Linear(200,10))\n",
    "-- mlp:add(nn.LogSoftMax())\n",
    "-- -- model2 ends here\n",
    "\n",
    "\n",
    "-- model1 starts here\n",
    "mlp = nn.Sequential()\n",
    "mlp:add(nn.Linear(784,400))\n",
    "mlp:add(nn.Sigmoid())\n",
    "mlp:add(nn.Linear(400,10))\n",
    "mlp:add(nn.LogSoftMax())\n",
    "-- model1 ends here\n",
    "\n",
    "criterion = nn.ClassNLLCriterion()\n",
    "-- criterion = nn.CrossEntropyCriterion()\n",
    "\n",
    "trainer = nn.StochasticGradient(mlp,criterion)\n",
    "trainer.learningRate = 0.001\n",
    "trainer.maxIteration = 5 -- just do 5 epochs of training.\n",
    "\n",
    "-- real magic of regularizatin will start here\n",
    "function regularize(modelmodule)\n",
    "    local parameters, _ = modelmodule.module:parameters()\n",
    "    local mul_factor = lambda/trainsetsize\n",
    "--     print(table.getn(parameters))\n",
    "--     print(parameters[1]) -- before update --confirm the regularization is working\n",
    "    for j= 1, #parameters do\n",
    "        local add_factor = mul_factor*torch.pow(parameters[j],2)\n",
    "        parameters[j]:add(add_factor)\n",
    "    end\n",
    "--     print(parameters[1]) --after update --used for confirm the regularization is working\n",
    "end\n",
    "-- magic of regularization ends here\n",
    "\n",
    "\n",
    "lambda = 5\n",
    "trainer.hookIteration = regularize\n",
    "trainer:train(trainset)\n",
    "\n",
    "correct = 0\n",
    "for i=1,#cvset do\n",
    "--     itorch.image(testset.data[i])\n",
    "    local predict = mlp:forward(cvset[i][1])\n",
    "    local max = torch.max(predict:exp())    \n",
    "    for j=1,10 do        \n",
    "        if predict[j] == max then\n",
    "--             print(j)\n",
    "            if j == cvset[i][2] then\n",
    "                correct = correct + 1\n",
    "            end            \n",
    "        end\n",
    "    end            \n",
    "end\n",
    "\n",
    "print('CV accuracy for sigmoid model with lambda 5')\n",
    "accuracy = (correct/#cvset)*100\n",
    "print(accuracy)\n",
    "\n",
    "-- model1 starts here\n",
    "mlp = nn.Sequential()\n",
    "mlp:add(nn.Linear(784,400))\n",
    "mlp:add(nn.Sigmoid())\n",
    "mlp:add(nn.Linear(400,10))\n",
    "mlp:add(nn.LogSoftMax())\n",
    "-- model1 ends here\n",
    "\n",
    "criterion = nn.ClassNLLCriterion()\n",
    "-- criterion = nn.CrossEntropyCriterion()\n",
    "\n",
    "trainer = nn.StochasticGradient(mlp,criterion)\n",
    "trainer.learningRate = 0.001\n",
    "trainer.maxIteration = 5 -- just do 5 epochs of training.\n",
    "\n",
    "\n",
    "lambda = 10\n",
    "trainer.hookIteration = regularize\n",
    "trainer:train(trainset)\n",
    "\n",
    "correct = 0\n",
    "for i=1,#cvset do\n",
    "--     itorch.image(testset.data[i])\n",
    "    local predict = mlp:forward(cvset[i][1])\n",
    "    local max = torch.max(predict:exp())    \n",
    "    for j=1,10 do        \n",
    "        if predict[j] == max then\n",
    "--             print(j)\n",
    "            if j == cvset[i][2] then\n",
    "                correct = correct + 1\n",
    "            end            \n",
    "        end\n",
    "    end            \n",
    "end\n",
    "\n",
    "print('CV accuracy for sigmoid model with lambda 10')\n",
    "accuracy = (correct/#cvset)*100\n",
    "print(accuracy)\n",
    "\n",
    "-- model1 starts here\n",
    "mlp = nn.Sequential()\n",
    "mlp:add(nn.Linear(784,400))\n",
    "mlp:add(nn.Sigmoid())\n",
    "mlp:add(nn.Linear(400,10))\n",
    "mlp:add(nn.LogSoftMax())\n",
    "-- model1 ends here\n",
    "\n",
    "criterion = nn.ClassNLLCriterion()\n",
    "-- criterion = nn.CrossEntropyCriterion()\n",
    "\n",
    "trainer = nn.StochasticGradient(mlp,criterion)\n",
    "trainer.learningRate = 0.001\n",
    "trainer.maxIteration = 5 -- just do 5 epochs of training.\n",
    "\n",
    "\n",
    "lambda = 15\n",
    "trainer.hookIteration = regularize\n",
    "trainer:train(trainset)\n",
    "\n",
    "correct = 0\n",
    "for i=1,#cvset do\n",
    "--     itorch.image(testset.data[i])\n",
    "    local predict = mlp:forward(cvset[i][1])\n",
    "    local max = torch.max(predict:exp())    \n",
    "    for j=1,10 do        \n",
    "        if predict[j] == max then\n",
    "--             print(j)\n",
    "            if j == cvset[i][2] then\n",
    "                correct = correct + 1\n",
    "            end            \n",
    "        end\n",
    "    end            \n",
    "end\n",
    "\n",
    "print('CV accuracy for sigmoid model with lambda 15')\n",
    "accuracy = (correct/#cvset)*100\n",
    "print(accuracy)\n",
    "\n",
    "-- model1 starts here\n",
    "mlp = nn.Sequential()\n",
    "mlp:add(nn.Linear(784,400))\n",
    "mlp:add(nn.Sigmoid())\n",
    "mlp:add(nn.Linear(400,10))\n",
    "mlp:add(nn.LogSoftMax())\n",
    "-- model1 ends here\n",
    "\n",
    "criterion = nn.ClassNLLCriterion()\n",
    "-- criterion = nn.CrossEntropyCriterion()\n",
    "\n",
    "trainer = nn.StochasticGradient(mlp,criterion)\n",
    "trainer.learningRate = 0.001\n",
    "trainer.maxIteration = 5 -- just do 5 epochs of training.\n",
    "\n",
    "\n",
    "lambda = 13\n",
    "trainer.hookIteration = regularize\n",
    "trainer:train(trainset)\n",
    "\n",
    "correct = 0\n",
    "for i=1,#cvset do\n",
    "--     itorch.image(testset.data[i])\n",
    "    local predict = mlp:forward(cvset[i][1])\n",
    "    local max = torch.max(predict:exp())    \n",
    "    for j=1,10 do        \n",
    "        if predict[j] == max then\n",
    "--             print(j)\n",
    "            if j == cvset[i][2] then\n",
    "                correct = correct + 1\n",
    "            end            \n",
    "        end\n",
    "    end            \n",
    "end\n",
    "\n",
    "print('CV accuracy for sigmoid model with lambda 13')\n",
    "accuracy = (correct/#cvset)*100\n",
    "print(accuracy)\n",
    "\n",
    "-- model1 starts here\n",
    "mlp = nn.Sequential()\n",
    "mlp:add(nn.Linear(784,400))\n",
    "mlp:add(nn.Tanh())\n",
    "mlp:add(nn.Linear(400,10))\n",
    "mlp:add(nn.LogSoftMax())\n",
    "-- model1 ends here\n",
    "\n",
    "criterion = nn.ClassNLLCriterion()\n",
    "-- criterion = nn.CrossEntropyCriterion()\n",
    "\n",
    "trainer = nn.StochasticGradient(mlp,criterion)\n",
    "trainer.learningRate = 0.001\n",
    "trainer.maxIteration = 5 -- just do 5 epochs of training.\n",
    "\n",
    "-- real magic of regularizatin will start here\n",
    "function regularize(modelmodule)\n",
    "    local parameters, _ = modelmodule.module:parameters()\n",
    "    local mul_factor = lambda/trainsetsize\n",
    "--     print(table.getn(parameters))\n",
    "--     print(parameters[1]) -- before update --confirm the regularization is working\n",
    "    for j= 1, #parameters do\n",
    "        local add_factor = mul_factor*torch.pow(parameters[j],2)\n",
    "        parameters[j]:add(add_factor)\n",
    "    end\n",
    "--     print(parameters[1]) --after update --used for confirm the regularization is working\n",
    "end\n",
    "-- magic of regularization ends here\n",
    "\n",
    "\n",
    "lambda = 5\n",
    "trainer.hookIteration = regularize\n",
    "trainer:train(trainset)\n",
    "\n",
    "correct = 0\n",
    "for i=1,#cvset do\n",
    "--     itorch.image(testset.data[i])\n",
    "    local predict = mlp:forward(cvset[i][1])\n",
    "    local max = torch.max(predict:exp())    \n",
    "    for j=1,10 do        \n",
    "        if predict[j] == max then\n",
    "--             print(j)\n",
    "            if j == cvset[i][2] then\n",
    "                correct = correct + 1\n",
    "            end            \n",
    "        end\n",
    "    end            \n",
    "end\n",
    "\n",
    "print('CV accuracy for Tanh model with lambda 5')\n",
    "accuracy = (correct/#cvset)*100\n",
    "print(accuracy)\n",
    "\n",
    "-- model1 starts here\n",
    "mlp = nn.Sequential()\n",
    "mlp:add(nn.Linear(784,400))\n",
    "mlp:add(nn.Tanh())\n",
    "mlp:add(nn.Linear(400,10))\n",
    "mlp:add(nn.LogSoftMax())\n",
    "-- model1 ends here\n",
    "\n",
    "criterion = nn.ClassNLLCriterion()\n",
    "-- criterion = nn.CrossEntropyCriterion()\n",
    "\n",
    "trainer = nn.StochasticGradient(mlp,criterion)\n",
    "trainer.learningRate = 0.001\n",
    "trainer.maxIteration = 5 -- just do 5 epochs of training.\n",
    "\n",
    "\n",
    "lambda = 10\n",
    "trainer.hookIteration = regularize\n",
    "trainer:train(trainset)\n",
    "\n",
    "correct = 0\n",
    "for i=1,#cvset do\n",
    "--     itorch.image(testset.data[i])\n",
    "    local predict = mlp:forward(cvset[i][1])\n",
    "    local max = torch.max(predict:exp())    \n",
    "    for j=1,10 do        \n",
    "        if predict[j] == max then\n",
    "--             print(j)\n",
    "            if j == cvset[i][2] then\n",
    "                correct = correct + 1\n",
    "            end            \n",
    "        end\n",
    "    end            \n",
    "end\n",
    "\n",
    "print('CV accuracy for Tanh model with lambda 10')\n",
    "accuracy = (correct/#cvset)*100\n",
    "print(accuracy)\n",
    "\n",
    "-- model1 starts here\n",
    "mlp = nn.Sequential()\n",
    "mlp:add(nn.Linear(784,400))\n",
    "mlp:add(nn.Tanh())\n",
    "mlp:add(nn.Linear(400,10))\n",
    "mlp:add(nn.LogSoftMax())\n",
    "-- model1 ends here\n",
    "\n",
    "criterion = nn.ClassNLLCriterion()\n",
    "-- criterion = nn.CrossEntropyCriterion()\n",
    "\n",
    "trainer = nn.StochasticGradient(mlp,criterion)\n",
    "trainer.learningRate = 0.001\n",
    "trainer.maxIteration = 5 -- just do 5 epochs of training.\n",
    "\n",
    "\n",
    "lambda = 15\n",
    "trainer.hookIteration = regularize\n",
    "trainer:train(trainset)\n",
    "\n",
    "correct = 0\n",
    "for i=1,#cvset do\n",
    "--     itorch.image(testset.data[i])\n",
    "    local predict = mlp:forward(cvset[i][1])\n",
    "    local max = torch.max(predict:exp())    \n",
    "    for j=1,10 do        \n",
    "        if predict[j] == max then\n",
    "--             print(j)\n",
    "            if j == cvset[i][2] then\n",
    "                correct = correct + 1\n",
    "            end            \n",
    "        end\n",
    "    end            \n",
    "end\n",
    "\n",
    "print('CV accuracy for Tanh model with lambda 15')\n",
    "accuracy = (correct/#cvset)*100\n",
    "print(accuracy)\n",
    "\n",
    "-- model1 starts here\n",
    "mlp = nn.Sequential()\n",
    "mlp:add(nn.Linear(784,400))\n",
    "mlp:add(nn.Tanh())\n",
    "mlp:add(nn.Linear(400,10))\n",
    "mlp:add(nn.LogSoftMax())\n",
    "-- model1 ends here\n",
    "\n",
    "criterion = nn.ClassNLLCriterion()\n",
    "-- criterion = nn.CrossEntropyCriterion()\n",
    "\n",
    "trainer = nn.StochasticGradient(mlp,criterion)\n",
    "trainer.learningRate = 0.001\n",
    "trainer.maxIteration = 5 -- just do 5 epochs of training.\n",
    "\n",
    "\n",
    "lambda = 7\n",
    "trainer.hookIteration = regularize\n",
    "trainer:train(trainset)\n",
    "\n",
    "correct = 0\n",
    "for i=1,#cvset do\n",
    "--     itorch.image(testset.data[i])\n",
    "    local predict = mlp:forward(cvset[i][1])\n",
    "    local max = torch.max(predict:exp())    \n",
    "    for j=1,10 do        \n",
    "        if predict[j] == max then\n",
    "--             print(j)\n",
    "            if j == cvset[i][2] then\n",
    "                correct = correct + 1\n",
    "            end            \n",
    "        end\n",
    "    end            \n",
    "end\n",
    "\n",
    "print('CV accuracy for Tanh model with lambda 7')\n",
    "accuracy = (correct/#cvset)*100\n",
    "print(accuracy)\n",
    "\n",
    "-- model1 starts here\n",
    "mlp = nn.Sequential()\n",
    "mlp:add(nn.Linear(784,400))\n",
    "mlp:add(nn.ReLU())\n",
    "mlp:add(nn.Linear(400,10))\n",
    "mlp:add(nn.LogSoftMax())\n",
    "-- model1 ends here\n",
    "\n",
    "criterion = nn.ClassNLLCriterion()\n",
    "-- criterion = nn.CrossEntropyCriterion()\n",
    "\n",
    "trainer = nn.StochasticGradient(mlp,criterion)\n",
    "trainer.learningRate = 0.001\n",
    "trainer.maxIteration = 5 -- just do 5 epochs of training.\n",
    "\n",
    "\n",
    "lambda = 5\n",
    "trainer.hookIteration = regularize\n",
    "trainer:train(trainset)\n",
    "\n",
    "correct = 0\n",
    "for i=1,#cvset do\n",
    "--     itorch.image(testset.data[i])\n",
    "    local predict = mlp:forward(cvset[i][1])\n",
    "    local max = torch.max(predict:exp())    \n",
    "    for j=1,10 do        \n",
    "        if predict[j] == max then\n",
    "--             print(j)\n",
    "            if j == cvset[i][2] then\n",
    "                correct = correct + 1\n",
    "            end            \n",
    "        end\n",
    "    end            \n",
    "end\n",
    "\n",
    "print('CV accuracy for ReLU model with lambda 5')\n",
    "accuracy = (correct/#cvset)*100\n",
    "print(accuracy)\n",
    "\n",
    "-- model1 starts here\n",
    "mlp = nn.Sequential()\n",
    "mlp:add(nn.Linear(784,400))\n",
    "mlp:add(nn.ReLU())\n",
    "mlp:add(nn.Linear(400,10))\n",
    "mlp:add(nn.LogSoftMax())\n",
    "-- model1 ends here\n",
    "\n",
    "criterion = nn.ClassNLLCriterion()\n",
    "-- criterion = nn.CrossEntropyCriterion()\n",
    "\n",
    "trainer = nn.StochasticGradient(mlp,criterion)\n",
    "trainer.learningRate = 0.001\n",
    "trainer.maxIteration = 5 -- just do 5 epochs of training.\n",
    "\n",
    "\n",
    "lambda = 10\n",
    "trainer.hookIteration = regularize\n",
    "trainer:train(trainset)\n",
    "\n",
    "correct = 0\n",
    "for i=1,#cvset do\n",
    "--     itorch.image(testset.data[i])\n",
    "    local predict = mlp:forward(cvset[i][1])\n",
    "    local max = torch.max(predict:exp())    \n",
    "    for j=1,10 do        \n",
    "        if predict[j] == max then\n",
    "--             print(j)\n",
    "            if j == cvset[i][2] then\n",
    "                correct = correct + 1\n",
    "            end            \n",
    "        end\n",
    "    end            \n",
    "end\n",
    "\n",
    "print('CV accuracy for ReLU model with lambda 10')\n",
    "accuracy = (correct/#cvset)*100\n",
    "print(accuracy)\n",
    "\n",
    "-- model1 starts here\n",
    "mlp = nn.Sequential()\n",
    "mlp:add(nn.Linear(784,400))\n",
    "mlp:add(nn.ReLU())\n",
    "mlp:add(nn.Linear(400,10))\n",
    "mlp:add(nn.LogSoftMax())\n",
    "-- model1 ends here\n",
    "\n",
    "criterion = nn.ClassNLLCriterion()\n",
    "-- criterion = nn.CrossEntropyCriterion()\n",
    "\n",
    "trainer = nn.StochasticGradient(mlp,criterion)\n",
    "trainer.learningRate = 0.001\n",
    "trainer.maxIteration = 5 -- just do 5 epochs of training.\n",
    "\n",
    "\n",
    "lambda = 15\n",
    "trainer.hookIteration = regularize\n",
    "trainer:train(trainset)\n",
    "\n",
    "correct = 0\n",
    "for i=1,#cvset do\n",
    "--     itorch.image(testset.data[i])\n",
    "    local predict = mlp:forward(cvset[i][1])\n",
    "    local max = torch.max(predict:exp())    \n",
    "    for j=1,10 do        \n",
    "        if predict[j] == max then\n",
    "--             print(j)\n",
    "            if j == cvset[i][2] then\n",
    "                correct = correct + 1\n",
    "            end            \n",
    "        end\n",
    "    end            \n",
    "end\n",
    "\n",
    "print('CV accuracy for ReLU model with lambda 15')\n",
    "accuracy = (correct/#cvset)*100\n",
    "print(accuracy)\n",
    "\n",
    "\n",
    "-- model2 starts here\n",
    "mlp = nn.Sequential()\n",
    "mlp:add(nn.Linear(784,400))\n",
    "mlp:add(nn.Sigmoid())\n",
    "mlp:add(nn.Linear(400,400))\n",
    "mlp:add(nn.Sigmoid())\n",
    "mlp:add(nn.Linear(400,200))\n",
    "mlp:add(nn.Sigmoid())\n",
    "mlp:add(nn.Linear(200,10))\n",
    "mlp:add(nn.LogSoftMax())\n",
    "-- model2 ends here\n",
    "\n",
    "criterion = nn.ClassNLLCriterion()\n",
    "-- criterion = nn.CrossEntropyCriterion()\n",
    "\n",
    "trainer = nn.StochasticGradient(mlp,criterion)\n",
    "trainer.learningRate = 0.001\n",
    "trainer.maxIteration = 10 -- just do 10 epochs of training.\n",
    "\n",
    "\n",
    "lambda = 5\n",
    "trainer.hookIteration = regularize\n",
    "trainer:train(trainset)\n",
    "\n",
    "correct = 0\n",
    "for i=1,#cvset do\n",
    "--     itorch.image(testset.data[i])\n",
    "    local predict = mlp:forward(cvset[i][1])\n",
    "    local max = torch.max(predict:exp())    \n",
    "    for j=1,10 do        \n",
    "        if predict[j] == max then\n",
    "--             print(j)\n",
    "            if j == cvset[i][2] then\n",
    "                correct = correct + 1\n",
    "            end            \n",
    "        end\n",
    "    end            \n",
    "end\n",
    "\n",
    "print('CV accuracy for Sigmoid model with lambda 5')\n",
    "accuracy = (correct/#cvset)*100\n",
    "print(accuracy)\n",
    "\n",
    "-- model2 starts here\n",
    "mlp = nn.Sequential()\n",
    "mlp:add(nn.Linear(784,400))\n",
    "mlp:add(nn.Sigmoid())\n",
    "mlp:add(nn.Linear(400,400))\n",
    "mlp:add(nn.Sigmoid())\n",
    "mlp:add(nn.Linear(400,200))\n",
    "mlp:add(nn.Sigmoid())\n",
    "mlp:add(nn.Linear(200,10))\n",
    "mlp:add(nn.LogSoftMax())\n",
    "-- model2 ends here\n",
    "\n",
    "criterion = nn.ClassNLLCriterion()\n",
    "-- criterion = nn.CrossEntropyCriterion()\n",
    "\n",
    "trainer = nn.StochasticGradient(mlp,criterion)\n",
    "trainer.learningRate = 0.001\n",
    "trainer.maxIteration = 10 -- just do 10 epochs of training.\n",
    "\n",
    "\n",
    "lambda = 10\n",
    "trainer.hookIteration = regularize\n",
    "trainer:train(trainset)\n",
    "\n",
    "correct = 0\n",
    "for i=1,#cvset do\n",
    "--     itorch.image(testset.data[i])\n",
    "    local predict = mlp:forward(cvset[i][1])\n",
    "    local max = torch.max(predict:exp())    \n",
    "    for j=1,10 do        \n",
    "        if predict[j] == max then\n",
    "--             print(j)\n",
    "            if j == cvset[i][2] then\n",
    "                correct = correct + 1\n",
    "            end            \n",
    "        end\n",
    "    end            \n",
    "end\n",
    "\n",
    "print('CV accuracy for Sigmoid model with lambda 10')\n",
    "accuracy = (correct/#cvset)*100\n",
    "print(accuracy)\n",
    "\n",
    "-- model2 starts here\n",
    "mlp = nn.Sequential()\n",
    "mlp:add(nn.Linear(784,400))\n",
    "mlp:add(nn.Sigmoid())\n",
    "mlp:add(nn.Linear(400,400))\n",
    "mlp:add(nn.Sigmoid())\n",
    "mlp:add(nn.Linear(400,200))\n",
    "mlp:add(nn.Sigmoid())\n",
    "mlp:add(nn.Linear(200,10))\n",
    "mlp:add(nn.LogSoftMax())\n",
    "-- model2 ends here\n",
    "\n",
    "criterion = nn.ClassNLLCriterion()\n",
    "-- criterion = nn.CrossEntropyCriterion()\n",
    "\n",
    "trainer = nn.StochasticGradient(mlp,criterion)\n",
    "trainer.learningRate = 0.001\n",
    "trainer.maxIteration = 10 -- just do 10 epochs of training.\n",
    "\n",
    "\n",
    "lambda = 15\n",
    "trainer.hookIteration = regularize\n",
    "trainer:train(trainset)\n",
    "\n",
    "correct = 0\n",
    "for i=1,#cvset do\n",
    "--     itorch.image(testset.data[i])\n",
    "    local predict = mlp:forward(cvset[i][1])\n",
    "    local max = torch.max(predict:exp())    \n",
    "    for j=1,10 do        \n",
    "        if predict[j] == max then\n",
    "--             print(j)\n",
    "            if j == cvset[i][2] then\n",
    "                correct = correct + 1\n",
    "            end            \n",
    "        end\n",
    "    end            \n",
    "end\n",
    "\n",
    "print('CV accuracy for Sigmoid model with lambda 15')\n",
    "accuracy = (correct/#cvset)*100\n",
    "print(accuracy)\n",
    "\n",
    "-- model2 starts here\n",
    "mlp = nn.Sequential()\n",
    "mlp:add(nn.Linear(784,400))\n",
    "mlp:add(nn.Tanh())\n",
    "mlp:add(nn.Linear(400,400))\n",
    "mlp:add(nn.Tanh())\n",
    "mlp:add(nn.Linear(400,200))\n",
    "mlp:add(nn.Tanh())\n",
    "mlp:add(nn.Linear(200,10))\n",
    "mlp:add(nn.LogSoftMax())\n",
    "-- model2 ends here\n",
    "\n",
    "criterion = nn.ClassNLLCriterion()\n",
    "-- criterion = nn.CrossEntropyCriterion()\n",
    "\n",
    "trainer = nn.StochasticGradient(mlp,criterion)\n",
    "trainer.learningRate = 0.001\n",
    "trainer.maxIteration = 10 -- just do 10 epochs of training.\n",
    "\n",
    "\n",
    "lambda = 5\n",
    "trainer.hookIteration = regularize\n",
    "trainer:train(trainset)\n",
    "\n",
    "correct = 0\n",
    "for i=1,#cvset do\n",
    "--     itorch.image(testset.data[i])\n",
    "    local predict = mlp:forward(cvset[i][1])\n",
    "    local max = torch.max(predict:exp())    \n",
    "    for j=1,10 do        \n",
    "        if predict[j] == max then\n",
    "--             print(j)\n",
    "            if j == cvset[i][2] then\n",
    "                correct = correct + 1\n",
    "            end            \n",
    "        end\n",
    "    end            \n",
    "end\n",
    "\n",
    "print('CV accuracy for Tanh model with lambda 5')\n",
    "accuracy = (correct/#cvset)*100\n",
    "print(accuracy)\n",
    "\n",
    "-- model2 starts here\n",
    "mlp = nn.Sequential()\n",
    "mlp:add(nn.Linear(784,400))\n",
    "mlp:add(nn.Tanh())\n",
    "mlp:add(nn.Linear(400,400))\n",
    "mlp:add(nn.Tanh())\n",
    "mlp:add(nn.Linear(400,200))\n",
    "mlp:add(nn.Tanh())\n",
    "mlp:add(nn.Linear(200,10))\n",
    "mlp:add(nn.LogSoftMax())\n",
    "-- model2 ends here\n",
    "\n",
    "criterion = nn.ClassNLLCriterion()\n",
    "-- criterion = nn.CrossEntropyCriterion()\n",
    "\n",
    "trainer = nn.StochasticGradient(mlp,criterion)\n",
    "trainer.learningRate = 0.001\n",
    "trainer.maxIteration = 10 -- just do 10 epochs of training.\n",
    "\n",
    "\n",
    "lambda = 10\n",
    "trainer.hookIteration = regularize\n",
    "trainer:train(trainset)\n",
    "\n",
    "correct = 0\n",
    "for i=1,#cvset do\n",
    "--     itorch.image(testset.data[i])\n",
    "    local predict = mlp:forward(cvset[i][1])\n",
    "    local max = torch.max(predict:exp())    \n",
    "    for j=1,10 do        \n",
    "        if predict[j] == max then\n",
    "--             print(j)\n",
    "            if j == cvset[i][2] then\n",
    "                correct = correct + 1\n",
    "            end            \n",
    "        end\n",
    "    end            \n",
    "end\n",
    "\n",
    "print('CV accuracy for Tanh model with lambda 10')\n",
    "accuracy = (correct/#cvset)*100\n",
    "print(accuracy)\n",
    "\n",
    "-- model2 starts here\n",
    "mlp = nn.Sequential()\n",
    "mlp:add(nn.Linear(784,400))\n",
    "mlp:add(nn.Tanh())\n",
    "mlp:add(nn.Linear(400,400))\n",
    "mlp:add(nn.Tanh())\n",
    "mlp:add(nn.Linear(400,200))\n",
    "mlp:add(nn.Tanh())\n",
    "mlp:add(nn.Linear(200,10))\n",
    "mlp:add(nn.LogSoftMax())\n",
    "-- model2 ends here\n",
    "\n",
    "\n",
    "criterion = nn.ClassNLLCriterion()\n",
    "-- criterion = nn.CrossEntropyCriterion()\n",
    "\n",
    "trainer = nn.StochasticGradient(mlp,criterion)\n",
    "trainer.learningRate = 0.001\n",
    "trainer.maxIteration = 10 -- just do 10 epochs of training.\n",
    "\n",
    "\n",
    "lambda = 15\n",
    "trainer.hookIteration = regularize\n",
    "trainer:train(trainset)\n",
    "\n",
    "correct = 0\n",
    "for i=1,#cvset do\n",
    "--     itorch.image(testset.data[i])\n",
    "    local predict = mlp:forward(cvset[i][1])\n",
    "    local max = torch.max(predict:exp())    \n",
    "    for j=1,10 do        \n",
    "        if predict[j] == max then\n",
    "--             print(j)\n",
    "            if j == cvset[i][2] then\n",
    "                correct = correct + 1\n",
    "            end            \n",
    "        end\n",
    "    end            \n",
    "end\n",
    "\n",
    "print('CV accuracy for tanh model with lambda 15')\n",
    "accuracy = (correct/#cvset)*100\n",
    "print(accuracy)\n",
    "\n",
    "-- model2 starts here\n",
    "mlp = nn.Sequential()\n",
    "mlp:add(nn.Linear(784,400))\n",
    "mlp:add(nn.ReLU())\n",
    "mlp:add(nn.Linear(400,400))\n",
    "mlp:add(nn.ReLU())\n",
    "mlp:add(nn.Linear(400,200))\n",
    "mlp:add(nn.ReLU())\n",
    "mlp:add(nn.Linear(200,10))\n",
    "mlp:add(nn.LogSoftMax())\n",
    "-- model2 ends here\n",
    "\n",
    "criterion = nn.ClassNLLCriterion()\n",
    "-- criterion = nn.CrossEntropyCriterion()\n",
    "\n",
    "trainer = nn.StochasticGradient(mlp,criterion)\n",
    "trainer.learningRate = 0.001\n",
    "trainer.maxIteration = 10 -- just do 10 epochs of training.\n",
    "\n",
    "\n",
    "lambda = 5\n",
    "trainer.hookIteration = regularize\n",
    "trainer:train(trainset)\n",
    "\n",
    "correct = 0\n",
    "for i=1,#cvset do\n",
    "--     itorch.image(testset.data[i])\n",
    "    local predict = mlp:forward(cvset[i][1])\n",
    "    local max = torch.max(predict:exp())    \n",
    "    for j=1,10 do        \n",
    "        if predict[j] == max then\n",
    "--             print(j)\n",
    "            if j == cvset[i][2] then\n",
    "                correct = correct + 1\n",
    "            end            \n",
    "        end\n",
    "    end            \n",
    "end\n",
    "\n",
    "print('CV accuracy for ReLU model with lambda 5')\n",
    "accuracy = (correct/#cvset)*100\n",
    "print(accuracy)\n",
    "\n",
    "-- model2 starts here\n",
    "mlp = nn.Sequential()\n",
    "mlp:add(nn.Linear(784,400))\n",
    "mlp:add(nn.ReLU())\n",
    "mlp:add(nn.Linear(400,400))\n",
    "mlp:add(nn.ReLU())\n",
    "mlp:add(nn.Linear(400,200))\n",
    "mlp:add(nn.ReLU())\n",
    "mlp:add(nn.Linear(200,10))\n",
    "mlp:add(nn.LogSoftMax())\n",
    "-- model2 ends here\n",
    "\n",
    "criterion = nn.ClassNLLCriterion()\n",
    "-- criterion = nn.CrossEntropyCriterion()\n",
    "\n",
    "trainer = nn.StochasticGradient(mlp,criterion)\n",
    "trainer.learningRate = 0.001\n",
    "trainer.maxIteration = 10 -- just do 10 epochs of training.\n",
    "\n",
    "\n",
    "lambda = 10\n",
    "trainer.hookIteration = regularize\n",
    "trainer:train(trainset)\n",
    "\n",
    "correct = 0\n",
    "for i=1,#cvset do\n",
    "--     itorch.image(testset.data[i])\n",
    "    local predict = mlp:forward(cvset[i][1])\n",
    "    local max = torch.max(predict:exp())    \n",
    "    for j=1,10 do        \n",
    "        if predict[j] == max then\n",
    "--             print(j)\n",
    "            if j == cvset[i][2] then\n",
    "                correct = correct + 1\n",
    "            end            \n",
    "        end\n",
    "    end            \n",
    "end\n",
    "\n",
    "print('CV accuracy for ReLU model with lambda 10')\n",
    "accuracy = (correct/#cvset)*100\n",
    "print(accuracy)\n",
    "\n",
    "-- model2 starts here\n",
    "mlp = nn.Sequential()\n",
    "mlp:add(nn.Linear(784,400))\n",
    "mlp:add(nn.ReLU())\n",
    "mlp:add(nn.Linear(400,400))\n",
    "mlp:add(nn.ReLU())\n",
    "mlp:add(nn.Linear(400,200))\n",
    "mlp:add(nn.ReLU())\n",
    "mlp:add(nn.Linear(200,10))\n",
    "mlp:add(nn.LogSoftMax())\n",
    "-- model2 ends here\n",
    "\n",
    "\n",
    "criterion = nn.ClassNLLCriterion()\n",
    "-- criterion = nn.CrossEntropyCriterion()\n",
    "\n",
    "trainer = nn.StochasticGradient(mlp,criterion)\n",
    "trainer.learningRate = 0.001\n",
    "trainer.maxIteration = 10 -- just do 10 epochs of training.\n",
    "\n",
    "\n",
    "lambda = 15\n",
    "trainer.hookIteration = regularize\n",
    "trainer:train(trainset)\n",
    "\n",
    "correct = 0\n",
    "for i=1,#cvset do\n",
    "--     itorch.image(testset.data[i])\n",
    "    local predict = mlp:forward(cvset[i][1])\n",
    "    local max = torch.max(predict:exp())    \n",
    "    for j=1,10 do        \n",
    "        if predict[j] == max then\n",
    "--             print(j)\n",
    "            if j == cvset[i][2] then\n",
    "                correct = correct + 1\n",
    "            end            \n",
    "        end\n",
    "    end            \n",
    "end\n",
    "\n",
    "print('CV accuracy for ReLU model with lambda 15')\n",
    "accuracy = (correct/#cvset)*100\n",
    "print(accuracy)"
   ]
  },
  {
   "cell_type": "markdown",
   "metadata": {
    "collapsed": true
   },
   "source": []
  }
 ],
 "metadata": {
  "kernelspec": {
   "display_name": "iTorch",
   "language": "lua",
   "name": "itorch"
  },
  "language_info": {
   "name": "lua",
   "version": "5.1"
  }
 },
 "nbformat": 4,
 "nbformat_minor": 1
}
